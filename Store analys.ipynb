{
 "cells": [
  {
   "cell_type": "markdown",
   "metadata": {},
   "source": [
    "# Определение перспективного прадаж для интернет-магазина «Стримчик»"
   ]
  },
  {
   "cell_type": "markdown",
   "metadata": {},
   "source": [
    "В данной работе нам необходимо продумать рекламную компанию на следующий год. Необходимо отработать принцип работы с данными."
   ]
  },
  {
   "cell_type": "markdown",
   "metadata": {},
   "source": [
    "## Изучение данных из файла"
   ]
  },
  {
   "cell_type": "code",
   "execution_count": 1,
   "metadata": {},
   "outputs": [],
   "source": [
    "# импортируем библиотеки\n",
    "import pandas as pd\n",
    "import matplotlib.pyplot as plt\n",
    "import seaborn as sns\n",
    "import math\n",
    "from scipy import stats as st\n",
    "import numpy as np"
   ]
  },
  {
   "cell_type": "markdown",
   "metadata": {},
   "source": [
    "Получим файл с даннымм"
   ]
  },
  {
   "cell_type": "code",
   "execution_count": 2,
   "metadata": {},
   "outputs": [],
   "source": [
    "def return_df (name_csv):\n",
    "    try:\n",
    "        return pd.read_csv(name_csv)\n",
    "    except:\n",
    "        print('Не удалось найти файл по заданному пути.')"
   ]
  },
  {
   "cell_type": "code",
   "execution_count": 3,
   "metadata": {},
   "outputs": [],
   "source": [
    "game_data = return_df('/datasets/games.csv')"
   ]
  },
  {
   "cell_type": "code",
   "execution_count": 4,
   "metadata": {},
   "outputs": [
    {
     "data": {
      "text/html": [
       "<div>\n",
       "<style scoped>\n",
       "    .dataframe tbody tr th:only-of-type {\n",
       "        vertical-align: middle;\n",
       "    }\n",
       "\n",
       "    .dataframe tbody tr th {\n",
       "        vertical-align: top;\n",
       "    }\n",
       "\n",
       "    .dataframe thead th {\n",
       "        text-align: right;\n",
       "    }\n",
       "</style>\n",
       "<table border=\"1\" class=\"dataframe\">\n",
       "  <thead>\n",
       "    <tr style=\"text-align: right;\">\n",
       "      <th></th>\n",
       "      <th>Name</th>\n",
       "      <th>Platform</th>\n",
       "      <th>Year_of_Release</th>\n",
       "      <th>Genre</th>\n",
       "      <th>NA_sales</th>\n",
       "      <th>EU_sales</th>\n",
       "      <th>JP_sales</th>\n",
       "      <th>Other_sales</th>\n",
       "      <th>Critic_Score</th>\n",
       "      <th>User_Score</th>\n",
       "      <th>Rating</th>\n",
       "    </tr>\n",
       "  </thead>\n",
       "  <tbody>\n",
       "    <tr>\n",
       "      <td>0</td>\n",
       "      <td>Wii Sports</td>\n",
       "      <td>Wii</td>\n",
       "      <td>2006.0</td>\n",
       "      <td>Sports</td>\n",
       "      <td>41.36</td>\n",
       "      <td>28.96</td>\n",
       "      <td>3.77</td>\n",
       "      <td>8.45</td>\n",
       "      <td>76.0</td>\n",
       "      <td>8</td>\n",
       "      <td>E</td>\n",
       "    </tr>\n",
       "    <tr>\n",
       "      <td>1</td>\n",
       "      <td>Super Mario Bros.</td>\n",
       "      <td>NES</td>\n",
       "      <td>1985.0</td>\n",
       "      <td>Platform</td>\n",
       "      <td>29.08</td>\n",
       "      <td>3.58</td>\n",
       "      <td>6.81</td>\n",
       "      <td>0.77</td>\n",
       "      <td>NaN</td>\n",
       "      <td>NaN</td>\n",
       "      <td>NaN</td>\n",
       "    </tr>\n",
       "    <tr>\n",
       "      <td>2</td>\n",
       "      <td>Mario Kart Wii</td>\n",
       "      <td>Wii</td>\n",
       "      <td>2008.0</td>\n",
       "      <td>Racing</td>\n",
       "      <td>15.68</td>\n",
       "      <td>12.76</td>\n",
       "      <td>3.79</td>\n",
       "      <td>3.29</td>\n",
       "      <td>82.0</td>\n",
       "      <td>8.3</td>\n",
       "      <td>E</td>\n",
       "    </tr>\n",
       "    <tr>\n",
       "      <td>3</td>\n",
       "      <td>Wii Sports Resort</td>\n",
       "      <td>Wii</td>\n",
       "      <td>2009.0</td>\n",
       "      <td>Sports</td>\n",
       "      <td>15.61</td>\n",
       "      <td>10.93</td>\n",
       "      <td>3.28</td>\n",
       "      <td>2.95</td>\n",
       "      <td>80.0</td>\n",
       "      <td>8</td>\n",
       "      <td>E</td>\n",
       "    </tr>\n",
       "    <tr>\n",
       "      <td>4</td>\n",
       "      <td>Pokemon Red/Pokemon Blue</td>\n",
       "      <td>GB</td>\n",
       "      <td>1996.0</td>\n",
       "      <td>Role-Playing</td>\n",
       "      <td>11.27</td>\n",
       "      <td>8.89</td>\n",
       "      <td>10.22</td>\n",
       "      <td>1.00</td>\n",
       "      <td>NaN</td>\n",
       "      <td>NaN</td>\n",
       "      <td>NaN</td>\n",
       "    </tr>\n",
       "    <tr>\n",
       "      <td>5</td>\n",
       "      <td>Tetris</td>\n",
       "      <td>GB</td>\n",
       "      <td>1989.0</td>\n",
       "      <td>Puzzle</td>\n",
       "      <td>23.20</td>\n",
       "      <td>2.26</td>\n",
       "      <td>4.22</td>\n",
       "      <td>0.58</td>\n",
       "      <td>NaN</td>\n",
       "      <td>NaN</td>\n",
       "      <td>NaN</td>\n",
       "    </tr>\n",
       "    <tr>\n",
       "      <td>6</td>\n",
       "      <td>New Super Mario Bros.</td>\n",
       "      <td>DS</td>\n",
       "      <td>2006.0</td>\n",
       "      <td>Platform</td>\n",
       "      <td>11.28</td>\n",
       "      <td>9.14</td>\n",
       "      <td>6.50</td>\n",
       "      <td>2.88</td>\n",
       "      <td>89.0</td>\n",
       "      <td>8.5</td>\n",
       "      <td>E</td>\n",
       "    </tr>\n",
       "    <tr>\n",
       "      <td>7</td>\n",
       "      <td>Wii Play</td>\n",
       "      <td>Wii</td>\n",
       "      <td>2006.0</td>\n",
       "      <td>Misc</td>\n",
       "      <td>13.96</td>\n",
       "      <td>9.18</td>\n",
       "      <td>2.93</td>\n",
       "      <td>2.84</td>\n",
       "      <td>58.0</td>\n",
       "      <td>6.6</td>\n",
       "      <td>E</td>\n",
       "    </tr>\n",
       "    <tr>\n",
       "      <td>8</td>\n",
       "      <td>New Super Mario Bros. Wii</td>\n",
       "      <td>Wii</td>\n",
       "      <td>2009.0</td>\n",
       "      <td>Platform</td>\n",
       "      <td>14.44</td>\n",
       "      <td>6.94</td>\n",
       "      <td>4.70</td>\n",
       "      <td>2.24</td>\n",
       "      <td>87.0</td>\n",
       "      <td>8.4</td>\n",
       "      <td>E</td>\n",
       "    </tr>\n",
       "    <tr>\n",
       "      <td>9</td>\n",
       "      <td>Duck Hunt</td>\n",
       "      <td>NES</td>\n",
       "      <td>1984.0</td>\n",
       "      <td>Shooter</td>\n",
       "      <td>26.93</td>\n",
       "      <td>0.63</td>\n",
       "      <td>0.28</td>\n",
       "      <td>0.47</td>\n",
       "      <td>NaN</td>\n",
       "      <td>NaN</td>\n",
       "      <td>NaN</td>\n",
       "    </tr>\n",
       "  </tbody>\n",
       "</table>\n",
       "</div>"
      ],
      "text/plain": [
       "                        Name Platform  Year_of_Release         Genre  \\\n",
       "0                 Wii Sports      Wii           2006.0        Sports   \n",
       "1          Super Mario Bros.      NES           1985.0      Platform   \n",
       "2             Mario Kart Wii      Wii           2008.0        Racing   \n",
       "3          Wii Sports Resort      Wii           2009.0        Sports   \n",
       "4   Pokemon Red/Pokemon Blue       GB           1996.0  Role-Playing   \n",
       "5                     Tetris       GB           1989.0        Puzzle   \n",
       "6      New Super Mario Bros.       DS           2006.0      Platform   \n",
       "7                   Wii Play      Wii           2006.0          Misc   \n",
       "8  New Super Mario Bros. Wii      Wii           2009.0      Platform   \n",
       "9                  Duck Hunt      NES           1984.0       Shooter   \n",
       "\n",
       "   NA_sales  EU_sales  JP_sales  Other_sales  Critic_Score User_Score Rating  \n",
       "0     41.36     28.96      3.77         8.45          76.0          8      E  \n",
       "1     29.08      3.58      6.81         0.77           NaN        NaN    NaN  \n",
       "2     15.68     12.76      3.79         3.29          82.0        8.3      E  \n",
       "3     15.61     10.93      3.28         2.95          80.0          8      E  \n",
       "4     11.27      8.89     10.22         1.00           NaN        NaN    NaN  \n",
       "5     23.20      2.26      4.22         0.58           NaN        NaN    NaN  \n",
       "6     11.28      9.14      6.50         2.88          89.0        8.5      E  \n",
       "7     13.96      9.18      2.93         2.84          58.0        6.6      E  \n",
       "8     14.44      6.94      4.70         2.24          87.0        8.4      E  \n",
       "9     26.93      0.63      0.28         0.47           NaN        NaN    NaN  "
      ]
     },
     "execution_count": 4,
     "metadata": {},
     "output_type": "execute_result"
    }
   ],
   "source": [
    "# выведем нашу таблицу\n",
    "game_data.head(10)"
   ]
  },
  {
   "cell_type": "code",
   "execution_count": 5,
   "metadata": {},
   "outputs": [
    {
     "name": "stdout",
     "output_type": "stream",
     "text": [
      "<class 'pandas.core.frame.DataFrame'>\n",
      "RangeIndex: 16715 entries, 0 to 16714\n",
      "Data columns (total 11 columns):\n",
      "Name               16713 non-null object\n",
      "Platform           16715 non-null object\n",
      "Year_of_Release    16446 non-null float64\n",
      "Genre              16713 non-null object\n",
      "NA_sales           16715 non-null float64\n",
      "EU_sales           16715 non-null float64\n",
      "JP_sales           16715 non-null float64\n",
      "Other_sales        16715 non-null float64\n",
      "Critic_Score       8137 non-null float64\n",
      "User_Score         10014 non-null object\n",
      "Rating             9949 non-null object\n",
      "dtypes: float64(6), object(5)\n",
      "memory usage: 1.4+ MB\n"
     ]
    }
   ],
   "source": [
    "game_data.info()"
   ]
  },
  {
   "cell_type": "markdown",
   "metadata": {},
   "source": [
    "В нашей таблице 11 колонок:\n",
    "* Name — название игры\n",
    "* Platform — платформа\n",
    "* Year_of_Release — год выпуска\n",
    "* Genre — жанр игры\n",
    "* NA_sales — продажи в Северной Америке (миллионы проданных копий)\n",
    "* EU_sales — продажи в Европе (миллионы проданных копий)\n",
    "* JP_sales — продажи в Японии (миллионы проданных копий)\n",
    "* Other_sales — продажи в других странах (миллионы проданных копий)\n",
    "* Critic_Score — оценка критиков (максимум 100)\n",
    "* User_Score — оценка пользователей (максимум 10)\n",
    "* Rating — рейтинг от организации ESRB (англ. Entertainment Software Rating Board). Эта ассоциация определяет рейтинг компьютерных игр и присваивает им подходящую возрастную категорию.\n",
    "\n",
    "Количество значений в столбцах различается, это говорит о том, что в нашей таблице есть пропуски. Давайте разберемся с ними."
   ]
  },
  {
   "cell_type": "markdown",
   "metadata": {},
   "source": [
    "## Подготовка данных"
   ]
  },
  {
   "cell_type": "markdown",
   "metadata": {},
   "source": [
    "### Замените названия столбцов"
   ]
  },
  {
   "cell_type": "code",
   "execution_count": 6,
   "metadata": {},
   "outputs": [
    {
     "data": {
      "text/plain": [
       "Index(['Name', 'Platform', 'Year_of_Release', 'Genre', 'NA_sales', 'EU_sales',\n",
       "       'JP_sales', 'Other_sales', 'Critic_Score', 'User_Score', 'Rating'],\n",
       "      dtype='object')"
      ]
     },
     "execution_count": 6,
     "metadata": {},
     "output_type": "execute_result"
    }
   ],
   "source": [
    "# выведем названия столбцов\n",
    "game_data.columns "
   ]
  },
  {
   "cell_type": "markdown",
   "metadata": {},
   "source": [
    "Для удобства приведем названия к нижнему регистру и немного отредактируем их."
   ]
  },
  {
   "cell_type": "code",
   "execution_count": 7,
   "metadata": {},
   "outputs": [],
   "source": [
    "game_data.columns = ['game_name', 'platform', 'year_of_release', 'genre_name', 'na_sales', 'eu_sales',\n",
    "       'jp_sales', 'other_sales', 'critic_score', 'user_score', 'rating']"
   ]
  },
  {
   "cell_type": "markdown",
   "metadata": {},
   "source": [
    "### Заполним пропуски"
   ]
  },
  {
   "cell_type": "markdown",
   "metadata": {},
   "source": [
    "На первом этапе мы заметили, что в наших колонках заполненно разное количество значений. Это значит, что в данных есть пропуски. Наглядно вывелдем их количество."
   ]
  },
  {
   "cell_type": "code",
   "execution_count": 8,
   "metadata": {},
   "outputs": [
    {
     "data": {
      "text/html": [
       "<style  type=\"text/css\" >\n",
       "    #T_40c41eb0_17a9_11ec_b390_02420a398788row0_col0 {\n",
       "            background-color:  #fff7f3;\n",
       "            color:  #000000;\n",
       "        }    #T_40c41eb0_17a9_11ec_b390_02420a398788row0_col1 {\n",
       "            background-color:  #fff7f3;\n",
       "            color:  #000000;\n",
       "        }    #T_40c41eb0_17a9_11ec_b390_02420a398788row1_col0 {\n",
       "            background-color:  #fff7f3;\n",
       "            color:  #000000;\n",
       "        }    #T_40c41eb0_17a9_11ec_b390_02420a398788row1_col1 {\n",
       "            background-color:  #fff7f3;\n",
       "            color:  #000000;\n",
       "        }    #T_40c41eb0_17a9_11ec_b390_02420a398788row2_col0 {\n",
       "            background-color:  #fef1ed;\n",
       "            color:  #000000;\n",
       "        }    #T_40c41eb0_17a9_11ec_b390_02420a398788row2_col1 {\n",
       "            background-color:  #fef0ec;\n",
       "            color:  #000000;\n",
       "        }    #T_40c41eb0_17a9_11ec_b390_02420a398788row3_col0 {\n",
       "            background-color:  #fff7f3;\n",
       "            color:  #000000;\n",
       "        }    #T_40c41eb0_17a9_11ec_b390_02420a398788row3_col1 {\n",
       "            background-color:  #fff7f3;\n",
       "            color:  #000000;\n",
       "        }    #T_40c41eb0_17a9_11ec_b390_02420a398788row4_col0 {\n",
       "            background-color:  #fff7f3;\n",
       "            color:  #000000;\n",
       "        }    #T_40c41eb0_17a9_11ec_b390_02420a398788row4_col1 {\n",
       "            background-color:  #fff7f3;\n",
       "            color:  #000000;\n",
       "        }    #T_40c41eb0_17a9_11ec_b390_02420a398788row5_col0 {\n",
       "            background-color:  #fff7f3;\n",
       "            color:  #000000;\n",
       "        }    #T_40c41eb0_17a9_11ec_b390_02420a398788row5_col1 {\n",
       "            background-color:  #fff7f3;\n",
       "            color:  #000000;\n",
       "        }    #T_40c41eb0_17a9_11ec_b390_02420a398788row6_col0 {\n",
       "            background-color:  #fff7f3;\n",
       "            color:  #000000;\n",
       "        }    #T_40c41eb0_17a9_11ec_b390_02420a398788row6_col1 {\n",
       "            background-color:  #fff7f3;\n",
       "            color:  #000000;\n",
       "        }    #T_40c41eb0_17a9_11ec_b390_02420a398788row7_col0 {\n",
       "            background-color:  #fff7f3;\n",
       "            color:  #000000;\n",
       "        }    #T_40c41eb0_17a9_11ec_b390_02420a398788row7_col1 {\n",
       "            background-color:  #fff7f3;\n",
       "            color:  #000000;\n",
       "        }    #T_40c41eb0_17a9_11ec_b390_02420a398788row8_col0 {\n",
       "            background-color:  #49006a;\n",
       "            color:  #f1f1f1;\n",
       "        }    #T_40c41eb0_17a9_11ec_b390_02420a398788row8_col1 {\n",
       "            background-color:  #49006a;\n",
       "            color:  #f1f1f1;\n",
       "        }    #T_40c41eb0_17a9_11ec_b390_02420a398788row9_col0 {\n",
       "            background-color:  #a1017c;\n",
       "            color:  #f1f1f1;\n",
       "        }    #T_40c41eb0_17a9_11ec_b390_02420a398788row9_col1 {\n",
       "            background-color:  #a0017c;\n",
       "            color:  #f1f1f1;\n",
       "        }    #T_40c41eb0_17a9_11ec_b390_02420a398788row10_col0 {\n",
       "            background-color:  #9e017c;\n",
       "            color:  #f1f1f1;\n",
       "        }    #T_40c41eb0_17a9_11ec_b390_02420a398788row10_col1 {\n",
       "            background-color:  #a0017c;\n",
       "            color:  #f1f1f1;\n",
       "        }</style><table id=\"T_40c41eb0_17a9_11ec_b390_02420a398788\" ><thead>    <tr>        <th class=\"blank level0\" ></th>        <th class=\"col_heading level0 col0\" >missing_values</th>        <th class=\"col_heading level0 col1\" >% of total</th>    </tr></thead><tbody>\n",
       "                <tr>\n",
       "                        <th id=\"T_40c41eb0_17a9_11ec_b390_02420a398788level0_row0\" class=\"row_heading level0 row0\" >game_name</th>\n",
       "                        <td id=\"T_40c41eb0_17a9_11ec_b390_02420a398788row0_col0\" class=\"data row0 col0\" >2</td>\n",
       "                        <td id=\"T_40c41eb0_17a9_11ec_b390_02420a398788row0_col1\" class=\"data row0 col1\" >0</td>\n",
       "            </tr>\n",
       "            <tr>\n",
       "                        <th id=\"T_40c41eb0_17a9_11ec_b390_02420a398788level0_row1\" class=\"row_heading level0 row1\" >platform</th>\n",
       "                        <td id=\"T_40c41eb0_17a9_11ec_b390_02420a398788row1_col0\" class=\"data row1 col0\" >0</td>\n",
       "                        <td id=\"T_40c41eb0_17a9_11ec_b390_02420a398788row1_col1\" class=\"data row1 col1\" >0</td>\n",
       "            </tr>\n",
       "            <tr>\n",
       "                        <th id=\"T_40c41eb0_17a9_11ec_b390_02420a398788level0_row2\" class=\"row_heading level0 row2\" >year_of_release</th>\n",
       "                        <td id=\"T_40c41eb0_17a9_11ec_b390_02420a398788row2_col0\" class=\"data row2 col0\" >269</td>\n",
       "                        <td id=\"T_40c41eb0_17a9_11ec_b390_02420a398788row2_col1\" class=\"data row2 col1\" >0.02</td>\n",
       "            </tr>\n",
       "            <tr>\n",
       "                        <th id=\"T_40c41eb0_17a9_11ec_b390_02420a398788level0_row3\" class=\"row_heading level0 row3\" >genre_name</th>\n",
       "                        <td id=\"T_40c41eb0_17a9_11ec_b390_02420a398788row3_col0\" class=\"data row3 col0\" >2</td>\n",
       "                        <td id=\"T_40c41eb0_17a9_11ec_b390_02420a398788row3_col1\" class=\"data row3 col1\" >0</td>\n",
       "            </tr>\n",
       "            <tr>\n",
       "                        <th id=\"T_40c41eb0_17a9_11ec_b390_02420a398788level0_row4\" class=\"row_heading level0 row4\" >na_sales</th>\n",
       "                        <td id=\"T_40c41eb0_17a9_11ec_b390_02420a398788row4_col0\" class=\"data row4 col0\" >0</td>\n",
       "                        <td id=\"T_40c41eb0_17a9_11ec_b390_02420a398788row4_col1\" class=\"data row4 col1\" >0</td>\n",
       "            </tr>\n",
       "            <tr>\n",
       "                        <th id=\"T_40c41eb0_17a9_11ec_b390_02420a398788level0_row5\" class=\"row_heading level0 row5\" >eu_sales</th>\n",
       "                        <td id=\"T_40c41eb0_17a9_11ec_b390_02420a398788row5_col0\" class=\"data row5 col0\" >0</td>\n",
       "                        <td id=\"T_40c41eb0_17a9_11ec_b390_02420a398788row5_col1\" class=\"data row5 col1\" >0</td>\n",
       "            </tr>\n",
       "            <tr>\n",
       "                        <th id=\"T_40c41eb0_17a9_11ec_b390_02420a398788level0_row6\" class=\"row_heading level0 row6\" >jp_sales</th>\n",
       "                        <td id=\"T_40c41eb0_17a9_11ec_b390_02420a398788row6_col0\" class=\"data row6 col0\" >0</td>\n",
       "                        <td id=\"T_40c41eb0_17a9_11ec_b390_02420a398788row6_col1\" class=\"data row6 col1\" >0</td>\n",
       "            </tr>\n",
       "            <tr>\n",
       "                        <th id=\"T_40c41eb0_17a9_11ec_b390_02420a398788level0_row7\" class=\"row_heading level0 row7\" >other_sales</th>\n",
       "                        <td id=\"T_40c41eb0_17a9_11ec_b390_02420a398788row7_col0\" class=\"data row7 col0\" >0</td>\n",
       "                        <td id=\"T_40c41eb0_17a9_11ec_b390_02420a398788row7_col1\" class=\"data row7 col1\" >0</td>\n",
       "            </tr>\n",
       "            <tr>\n",
       "                        <th id=\"T_40c41eb0_17a9_11ec_b390_02420a398788level0_row8\" class=\"row_heading level0 row8\" >critic_score</th>\n",
       "                        <td id=\"T_40c41eb0_17a9_11ec_b390_02420a398788row8_col0\" class=\"data row8 col0\" >8578</td>\n",
       "                        <td id=\"T_40c41eb0_17a9_11ec_b390_02420a398788row8_col1\" class=\"data row8 col1\" >0.51</td>\n",
       "            </tr>\n",
       "            <tr>\n",
       "                        <th id=\"T_40c41eb0_17a9_11ec_b390_02420a398788level0_row9\" class=\"row_heading level0 row9\" >user_score</th>\n",
       "                        <td id=\"T_40c41eb0_17a9_11ec_b390_02420a398788row9_col0\" class=\"data row9 col0\" >6701</td>\n",
       "                        <td id=\"T_40c41eb0_17a9_11ec_b390_02420a398788row9_col1\" class=\"data row9 col1\" >0.4</td>\n",
       "            </tr>\n",
       "            <tr>\n",
       "                        <th id=\"T_40c41eb0_17a9_11ec_b390_02420a398788level0_row10\" class=\"row_heading level0 row10\" >rating</th>\n",
       "                        <td id=\"T_40c41eb0_17a9_11ec_b390_02420a398788row10_col0\" class=\"data row10 col0\" >6766</td>\n",
       "                        <td id=\"T_40c41eb0_17a9_11ec_b390_02420a398788row10_col1\" class=\"data row10 col1\" >0.4</td>\n",
       "            </tr>\n",
       "    </tbody></table>"
      ],
      "text/plain": [
       "<pandas.io.formats.style.Styler at 0x7f08ad1f06d0>"
      ]
     },
     "execution_count": 8,
     "metadata": {},
     "output_type": "execute_result"
    }
   ],
   "source": [
    "report = game_data.isna().sum().to_frame()\n",
    "report = report.rename(columns = {0: 'missing_values'})\n",
    "report['% of total'] = (report['missing_values'] / game_data.shape[0]).round(2)\n",
    "report.style.background_gradient(cmap = 'RdPu')"
   ]
  },
  {
   "cell_type": "markdown",
   "metadata": {},
   "source": [
    "Пропусков в столбце 'name' всего 2, это меньше процента. Название игр у всех разное, заполнить эти значения мы не сможем, так что придется их удалить."
   ]
  },
  {
   "cell_type": "code",
   "execution_count": 9,
   "metadata": {},
   "outputs": [],
   "source": [
    "game_data['game_name'].fillna('game_name', inplace = True)"
   ]
  },
  {
   "cell_type": "markdown",
   "metadata": {},
   "source": [
    "В столбце 'year_of_release' тоже есть пропуски. Они оставляют 2% от общего количества строк. От этих пропусков я избавлюсь, 2% это не много. А данные этого столбца для нас очень важны, дальнейших анализ будет проходить на их основе."
   ]
  },
  {
   "cell_type": "code",
   "execution_count": 10,
   "metadata": {},
   "outputs": [],
   "source": [
    "game_data.dropna(subset = ['year_of_release'], inplace = True)"
   ]
  },
  {
   "cell_type": "markdown",
   "metadata": {},
   "source": [
    "Дальше рассмотрим 3 столбца: 'critic_score', 'user_score', и 'rating'. В первом хранятся значения оценки критиков, во втором оценки пользователей, а в третьем столбце названия рейтинга, к которому игру присвоила организация ESRB. Не будем удалять все эти строки с пропусками, ведь так мы потеряем большую часть информации. Все значения предлагаю заполнить маркерами, которые будут нам говорить о том, что значения были пропущены. В столбцах 'critic_score', 'user_score' используем нули в виде маркера, а в столбце 'rating' пропущенные значения заменим словом 'unkown'."
   ]
  },
  {
   "cell_type": "code",
   "execution_count": 11,
   "metadata": {},
   "outputs": [],
   "source": [
    "# заполним пропуски \n",
    "for column in ['critic_score','user_score']:\n",
    "    game_data[column].fillna(0, inplace = True)"
   ]
  },
  {
   "cell_type": "code",
   "execution_count": 12,
   "metadata": {},
   "outputs": [],
   "source": [
    "game_data['rating'].fillna('unknown', inplace = True)"
   ]
  },
  {
   "cell_type": "markdown",
   "metadata": {},
   "source": [
    "Так же в столбце 'user_score' запряталось странное значение 'tbd'. Так как этот столбец хранит оценки рейтинга от 1 до 10, это значение нам не подходит, похоже на ошибку. Будем считать его за пропуски и тоже заполним его на 0."
   ]
  },
  {
   "cell_type": "code",
   "execution_count": 13,
   "metadata": {},
   "outputs": [],
   "source": [
    "game_data['user_score'] = game_data['user_score'].replace('tbd', '0')"
   ]
  },
  {
   "cell_type": "markdown",
   "metadata": {},
   "source": [
    "Избавились от наших пропусков, давайте посмотрим, в каких типах хранятся наши данные."
   ]
  },
  {
   "cell_type": "markdown",
   "metadata": {},
   "source": [
    "### Преобразуем данные в нужные типы"
   ]
  },
  {
   "cell_type": "markdown",
   "metadata": {},
   "source": [
    "Вспомним, какие данные хранятся в наших столбцах."
   ]
  },
  {
   "cell_type": "code",
   "execution_count": 14,
   "metadata": {},
   "outputs": [
    {
     "name": "stdout",
     "output_type": "stream",
     "text": [
      "<class 'pandas.core.frame.DataFrame'>\n",
      "Int64Index: 16446 entries, 0 to 16714\n",
      "Data columns (total 11 columns):\n",
      "game_name          16446 non-null object\n",
      "platform           16446 non-null object\n",
      "year_of_release    16446 non-null float64\n",
      "genre_name         16444 non-null object\n",
      "na_sales           16446 non-null float64\n",
      "eu_sales           16446 non-null float64\n",
      "jp_sales           16446 non-null float64\n",
      "other_sales        16446 non-null float64\n",
      "critic_score       16446 non-null float64\n",
      "user_score         16446 non-null object\n",
      "rating             16446 non-null object\n",
      "dtypes: float64(6), object(5)\n",
      "memory usage: 1.5+ MB\n"
     ]
    }
   ],
   "source": [
    "game_data.info()"
   ]
  },
  {
   "cell_type": "markdown",
   "metadata": {},
   "source": [
    "В некоторых столбцах данные надо конвертировать в нужный тип. Столбцы 'year_of_release' и 'critic_score' преобразуйте к типу 'int'. А столбец 'user_score' приведем к типу float."
   ]
  },
  {
   "cell_type": "code",
   "execution_count": 15,
   "metadata": {},
   "outputs": [],
   "source": [
    "game_data['user_score'] = game_data['user_score'].astype('float')"
   ]
  },
  {
   "cell_type": "code",
   "execution_count": 16,
   "metadata": {},
   "outputs": [],
   "source": [
    "for column in ['year_of_release','critic_score']:\n",
    "    game_data[column] = game_data[column].astype('int')"
   ]
  },
  {
   "cell_type": "code",
   "execution_count": 17,
   "metadata": {},
   "outputs": [
    {
     "name": "stdout",
     "output_type": "stream",
     "text": [
      "<class 'pandas.core.frame.DataFrame'>\n",
      "Int64Index: 16446 entries, 0 to 16714\n",
      "Data columns (total 11 columns):\n",
      "game_name          16446 non-null object\n",
      "platform           16446 non-null object\n",
      "year_of_release    16446 non-null int64\n",
      "genre_name         16444 non-null object\n",
      "na_sales           16446 non-null float64\n",
      "eu_sales           16446 non-null float64\n",
      "jp_sales           16446 non-null float64\n",
      "other_sales        16446 non-null float64\n",
      "critic_score       16446 non-null int64\n",
      "user_score         16446 non-null float64\n",
      "rating             16446 non-null object\n",
      "dtypes: float64(5), int64(2), object(4)\n",
      "memory usage: 1.5+ MB\n"
     ]
    }
   ],
   "source": [
    "game_data.info()"
   ]
  },
  {
   "cell_type": "markdown",
   "metadata": {},
   "source": [
    "Теперь наши данные выглядят намного лучше. Осталось выполнить некоторые расчеты и можно переходить к анализу."
   ]
  },
  {
   "cell_type": "markdown",
   "metadata": {},
   "source": [
    "### Проведем расчеты"
   ]
  },
  {
   "cell_type": "markdown",
   "metadata": {},
   "source": [
    "Посчитайте суммарные продажи во всех регионах и запишите их в отдельный столбец. Для этого напишем метод, который будет складывать сумму продаж на всех территориях и возвращать её."
   ]
  },
  {
   "cell_type": "code",
   "execution_count": 18,
   "metadata": {},
   "outputs": [],
   "source": [
    "def sum_sales(raw):\n",
    "    return raw['na_sales'] + raw['eu_sales'] + raw['jp_sales'] + raw['other_sales']"
   ]
  },
  {
   "cell_type": "code",
   "execution_count": 19,
   "metadata": {},
   "outputs": [],
   "source": [
    "game_data['total_sales'] = game_data.apply(sum_sales, axis = 1)"
   ]
  },
  {
   "cell_type": "code",
   "execution_count": 20,
   "metadata": {},
   "outputs": [
    {
     "data": {
      "text/html": [
       "<div>\n",
       "<style scoped>\n",
       "    .dataframe tbody tr th:only-of-type {\n",
       "        vertical-align: middle;\n",
       "    }\n",
       "\n",
       "    .dataframe tbody tr th {\n",
       "        vertical-align: top;\n",
       "    }\n",
       "\n",
       "    .dataframe thead th {\n",
       "        text-align: right;\n",
       "    }\n",
       "</style>\n",
       "<table border=\"1\" class=\"dataframe\">\n",
       "  <thead>\n",
       "    <tr style=\"text-align: right;\">\n",
       "      <th></th>\n",
       "      <th>game_name</th>\n",
       "      <th>platform</th>\n",
       "      <th>year_of_release</th>\n",
       "      <th>genre_name</th>\n",
       "      <th>na_sales</th>\n",
       "      <th>eu_sales</th>\n",
       "      <th>jp_sales</th>\n",
       "      <th>other_sales</th>\n",
       "      <th>critic_score</th>\n",
       "      <th>user_score</th>\n",
       "      <th>rating</th>\n",
       "      <th>total_sales</th>\n",
       "    </tr>\n",
       "  </thead>\n",
       "  <tbody>\n",
       "    <tr>\n",
       "      <td>0</td>\n",
       "      <td>Wii Sports</td>\n",
       "      <td>Wii</td>\n",
       "      <td>2006</td>\n",
       "      <td>Sports</td>\n",
       "      <td>41.36</td>\n",
       "      <td>28.96</td>\n",
       "      <td>3.77</td>\n",
       "      <td>8.45</td>\n",
       "      <td>76</td>\n",
       "      <td>8.0</td>\n",
       "      <td>E</td>\n",
       "      <td>82.54</td>\n",
       "    </tr>\n",
       "    <tr>\n",
       "      <td>1</td>\n",
       "      <td>Super Mario Bros.</td>\n",
       "      <td>NES</td>\n",
       "      <td>1985</td>\n",
       "      <td>Platform</td>\n",
       "      <td>29.08</td>\n",
       "      <td>3.58</td>\n",
       "      <td>6.81</td>\n",
       "      <td>0.77</td>\n",
       "      <td>0</td>\n",
       "      <td>0.0</td>\n",
       "      <td>unknown</td>\n",
       "      <td>40.24</td>\n",
       "    </tr>\n",
       "    <tr>\n",
       "      <td>2</td>\n",
       "      <td>Mario Kart Wii</td>\n",
       "      <td>Wii</td>\n",
       "      <td>2008</td>\n",
       "      <td>Racing</td>\n",
       "      <td>15.68</td>\n",
       "      <td>12.76</td>\n",
       "      <td>3.79</td>\n",
       "      <td>3.29</td>\n",
       "      <td>82</td>\n",
       "      <td>8.3</td>\n",
       "      <td>E</td>\n",
       "      <td>35.52</td>\n",
       "    </tr>\n",
       "    <tr>\n",
       "      <td>3</td>\n",
       "      <td>Wii Sports Resort</td>\n",
       "      <td>Wii</td>\n",
       "      <td>2009</td>\n",
       "      <td>Sports</td>\n",
       "      <td>15.61</td>\n",
       "      <td>10.93</td>\n",
       "      <td>3.28</td>\n",
       "      <td>2.95</td>\n",
       "      <td>80</td>\n",
       "      <td>8.0</td>\n",
       "      <td>E</td>\n",
       "      <td>32.77</td>\n",
       "    </tr>\n",
       "    <tr>\n",
       "      <td>4</td>\n",
       "      <td>Pokemon Red/Pokemon Blue</td>\n",
       "      <td>GB</td>\n",
       "      <td>1996</td>\n",
       "      <td>Role-Playing</td>\n",
       "      <td>11.27</td>\n",
       "      <td>8.89</td>\n",
       "      <td>10.22</td>\n",
       "      <td>1.00</td>\n",
       "      <td>0</td>\n",
       "      <td>0.0</td>\n",
       "      <td>unknown</td>\n",
       "      <td>31.38</td>\n",
       "    </tr>\n",
       "    <tr>\n",
       "      <td>5</td>\n",
       "      <td>Tetris</td>\n",
       "      <td>GB</td>\n",
       "      <td>1989</td>\n",
       "      <td>Puzzle</td>\n",
       "      <td>23.20</td>\n",
       "      <td>2.26</td>\n",
       "      <td>4.22</td>\n",
       "      <td>0.58</td>\n",
       "      <td>0</td>\n",
       "      <td>0.0</td>\n",
       "      <td>unknown</td>\n",
       "      <td>30.26</td>\n",
       "    </tr>\n",
       "    <tr>\n",
       "      <td>6</td>\n",
       "      <td>New Super Mario Bros.</td>\n",
       "      <td>DS</td>\n",
       "      <td>2006</td>\n",
       "      <td>Platform</td>\n",
       "      <td>11.28</td>\n",
       "      <td>9.14</td>\n",
       "      <td>6.50</td>\n",
       "      <td>2.88</td>\n",
       "      <td>89</td>\n",
       "      <td>8.5</td>\n",
       "      <td>E</td>\n",
       "      <td>29.80</td>\n",
       "    </tr>\n",
       "    <tr>\n",
       "      <td>7</td>\n",
       "      <td>Wii Play</td>\n",
       "      <td>Wii</td>\n",
       "      <td>2006</td>\n",
       "      <td>Misc</td>\n",
       "      <td>13.96</td>\n",
       "      <td>9.18</td>\n",
       "      <td>2.93</td>\n",
       "      <td>2.84</td>\n",
       "      <td>58</td>\n",
       "      <td>6.6</td>\n",
       "      <td>E</td>\n",
       "      <td>28.91</td>\n",
       "    </tr>\n",
       "    <tr>\n",
       "      <td>8</td>\n",
       "      <td>New Super Mario Bros. Wii</td>\n",
       "      <td>Wii</td>\n",
       "      <td>2009</td>\n",
       "      <td>Platform</td>\n",
       "      <td>14.44</td>\n",
       "      <td>6.94</td>\n",
       "      <td>4.70</td>\n",
       "      <td>2.24</td>\n",
       "      <td>87</td>\n",
       "      <td>8.4</td>\n",
       "      <td>E</td>\n",
       "      <td>28.32</td>\n",
       "    </tr>\n",
       "    <tr>\n",
       "      <td>9</td>\n",
       "      <td>Duck Hunt</td>\n",
       "      <td>NES</td>\n",
       "      <td>1984</td>\n",
       "      <td>Shooter</td>\n",
       "      <td>26.93</td>\n",
       "      <td>0.63</td>\n",
       "      <td>0.28</td>\n",
       "      <td>0.47</td>\n",
       "      <td>0</td>\n",
       "      <td>0.0</td>\n",
       "      <td>unknown</td>\n",
       "      <td>28.31</td>\n",
       "    </tr>\n",
       "  </tbody>\n",
       "</table>\n",
       "</div>"
      ],
      "text/plain": [
       "                   game_name platform  year_of_release    genre_name  \\\n",
       "0                 Wii Sports      Wii             2006        Sports   \n",
       "1          Super Mario Bros.      NES             1985      Platform   \n",
       "2             Mario Kart Wii      Wii             2008        Racing   \n",
       "3          Wii Sports Resort      Wii             2009        Sports   \n",
       "4   Pokemon Red/Pokemon Blue       GB             1996  Role-Playing   \n",
       "5                     Tetris       GB             1989        Puzzle   \n",
       "6      New Super Mario Bros.       DS             2006      Platform   \n",
       "7                   Wii Play      Wii             2006          Misc   \n",
       "8  New Super Mario Bros. Wii      Wii             2009      Platform   \n",
       "9                  Duck Hunt      NES             1984       Shooter   \n",
       "\n",
       "   na_sales  eu_sales  jp_sales  other_sales  critic_score  user_score  \\\n",
       "0     41.36     28.96      3.77         8.45            76         8.0   \n",
       "1     29.08      3.58      6.81         0.77             0         0.0   \n",
       "2     15.68     12.76      3.79         3.29            82         8.3   \n",
       "3     15.61     10.93      3.28         2.95            80         8.0   \n",
       "4     11.27      8.89     10.22         1.00             0         0.0   \n",
       "5     23.20      2.26      4.22         0.58             0         0.0   \n",
       "6     11.28      9.14      6.50         2.88            89         8.5   \n",
       "7     13.96      9.18      2.93         2.84            58         6.6   \n",
       "8     14.44      6.94      4.70         2.24            87         8.4   \n",
       "9     26.93      0.63      0.28         0.47             0         0.0   \n",
       "\n",
       "    rating  total_sales  \n",
       "0        E        82.54  \n",
       "1  unknown        40.24  \n",
       "2        E        35.52  \n",
       "3        E        32.77  \n",
       "4  unknown        31.38  \n",
       "5  unknown        30.26  \n",
       "6        E        29.80  \n",
       "7        E        28.91  \n",
       "8        E        28.32  \n",
       "9  unknown        28.31  "
      ]
     },
     "execution_count": 20,
     "metadata": {},
     "output_type": "execute_result"
    }
   ],
   "source": [
    "game_data.head(10)"
   ]
  },
  {
   "cell_type": "markdown",
   "metadata": {},
   "source": [
    "### Вывод\n",
    "\n",
    "На этом этапе мы подготовили наши данные к дальнейшей работе. Провели предобработку наших данных. Отредактировали названия колонок, заполнили пропуски, переопределили типы данных наших данных. Затем мы создали столбец 'total_sales'. В нём хранятся данные о суммарных продажах во всех регионах."
   ]
  },
  {
   "cell_type": "markdown",
   "metadata": {},
   "source": [
    "## Исследовательский анализ данных"
   ]
  },
  {
   "cell_type": "markdown",
   "metadata": {},
   "source": [
    "На этом этапе мы углубимся в наши данные. Будим изучать статистику по прадажам игр в разные годы."
   ]
  },
  {
   "cell_type": "markdown",
   "metadata": {},
   "source": [
    "Сначала рассчитаем, сколько игр выпускались в разные годы."
   ]
  },
  {
   "cell_type": "code",
   "execution_count": 21,
   "metadata": {},
   "outputs": [],
   "source": [
    "# заранее определим стиль для наших графиков\n",
    "plt.style.use('ggplot')"
   ]
  },
  {
   "cell_type": "code",
   "execution_count": 65,
   "metadata": {},
   "outputs": [],
   "source": [
    "games_per_year = game_data.pivot_table(\n",
    "    index = 'year_of_release',values = 'game_name', aggfunc = 'count'\n",
    ").rename(columns = {'game_name': 'game_count'})"
   ]
  },
  {
   "cell_type": "code",
   "execution_count": 23,
   "metadata": {},
   "outputs": [
    {
     "data": {
      "image/png": "[encoded data removed]",
      "text/plain": [
       "<Figure size 720x504 with 1 Axes>"
      ]
     },
     "metadata": {},
     "output_type": "display_data"
    }
   ],
   "source": [
    "# отобразим полученную таблицу в графике\n",
    "games_per_year.query('year_of_release != 0').plot.bar(\n",
    "    figsize=(10, 7)\n",
    ");\n",
    "plt.ylabel('count')\n",
    "plt.title('График распределения выпущенных игр по годам');"
   ]
  },
  {
   "cell_type": "markdown",
   "metadata": {},
   "source": []
  },
  {
   "cell_type": "markdown",
   "metadata": {},
   "source": [
    "О чем нам говорит наш график? С 1980 по 1993 года игровая индустрия только начала развиваться, до 2000х годов игр выпускалось мало, так что этот период нам не поможет в прогнозировании. По сей день компьютерный игры пользуются большим сроком, но пик своей популярности уже прошел. Больше всего игр выпустили в 2008-2009 годах, сейчас в год выпускают на порядок меньше игр."
   ]
  },
  {
   "cell_type": "code",
   "execution_count": 66,
   "metadata": {},
   "outputs": [],
   "source": [
    "# уберем лишние данные\n",
    "game_data = game_data.query('year_of_release >= 1993 ')"
   ]
  },
  {
   "cell_type": "code",
   "execution_count": 67,
   "metadata": {},
   "outputs": [
    {
     "data": {
      "text/html": [
       "<div>\n",
       "<style scoped>\n",
       "    .dataframe tbody tr th:only-of-type {\n",
       "        vertical-align: middle;\n",
       "    }\n",
       "\n",
       "    .dataframe tbody tr th {\n",
       "        vertical-align: top;\n",
       "    }\n",
       "\n",
       "    .dataframe thead th {\n",
       "        text-align: right;\n",
       "    }\n",
       "</style>\n",
       "<table border=\"1\" class=\"dataframe\">\n",
       "  <thead>\n",
       "    <tr style=\"text-align: right;\">\n",
       "      <th></th>\n",
       "      <th>game_name</th>\n",
       "      <th>platform</th>\n",
       "      <th>year_of_release</th>\n",
       "      <th>genre_name</th>\n",
       "      <th>na_sales</th>\n",
       "      <th>eu_sales</th>\n",
       "      <th>jp_sales</th>\n",
       "      <th>other_sales</th>\n",
       "      <th>critic_score</th>\n",
       "      <th>user_score</th>\n",
       "      <th>rating</th>\n",
       "      <th>total_sales</th>\n",
       "    </tr>\n",
       "  </thead>\n",
       "  <tbody>\n",
       "    <tr>\n",
       "      <td>0</td>\n",
       "      <td>Wii Sports</td>\n",
       "      <td>Wii</td>\n",
       "      <td>2006</td>\n",
       "      <td>Sports</td>\n",
       "      <td>41.36</td>\n",
       "      <td>28.96</td>\n",
       "      <td>3.77</td>\n",
       "      <td>8.45</td>\n",
       "      <td>76</td>\n",
       "      <td>8.0</td>\n",
       "      <td>E</td>\n",
       "      <td>82.54</td>\n",
       "    </tr>\n",
       "    <tr>\n",
       "      <td>2</td>\n",
       "      <td>Mario Kart Wii</td>\n",
       "      <td>Wii</td>\n",
       "      <td>2008</td>\n",
       "      <td>Racing</td>\n",
       "      <td>15.68</td>\n",
       "      <td>12.76</td>\n",
       "      <td>3.79</td>\n",
       "      <td>3.29</td>\n",
       "      <td>82</td>\n",
       "      <td>8.3</td>\n",
       "      <td>E</td>\n",
       "      <td>35.52</td>\n",
       "    </tr>\n",
       "    <tr>\n",
       "      <td>3</td>\n",
       "      <td>Wii Sports Resort</td>\n",
       "      <td>Wii</td>\n",
       "      <td>2009</td>\n",
       "      <td>Sports</td>\n",
       "      <td>15.61</td>\n",
       "      <td>10.93</td>\n",
       "      <td>3.28</td>\n",
       "      <td>2.95</td>\n",
       "      <td>80</td>\n",
       "      <td>8.0</td>\n",
       "      <td>E</td>\n",
       "      <td>32.77</td>\n",
       "    </tr>\n",
       "    <tr>\n",
       "      <td>4</td>\n",
       "      <td>Pokemon Red/Pokemon Blue</td>\n",
       "      <td>GB</td>\n",
       "      <td>1996</td>\n",
       "      <td>Role-Playing</td>\n",
       "      <td>11.27</td>\n",
       "      <td>8.89</td>\n",
       "      <td>10.22</td>\n",
       "      <td>1.00</td>\n",
       "      <td>0</td>\n",
       "      <td>0.0</td>\n",
       "      <td>unknown</td>\n",
       "      <td>31.38</td>\n",
       "    </tr>\n",
       "    <tr>\n",
       "      <td>6</td>\n",
       "      <td>New Super Mario Bros.</td>\n",
       "      <td>DS</td>\n",
       "      <td>2006</td>\n",
       "      <td>Platform</td>\n",
       "      <td>11.28</td>\n",
       "      <td>9.14</td>\n",
       "      <td>6.50</td>\n",
       "      <td>2.88</td>\n",
       "      <td>89</td>\n",
       "      <td>8.5</td>\n",
       "      <td>E</td>\n",
       "      <td>29.80</td>\n",
       "    </tr>\n",
       "    <tr>\n",
       "      <td>...</td>\n",
       "      <td>...</td>\n",
       "      <td>...</td>\n",
       "      <td>...</td>\n",
       "      <td>...</td>\n",
       "      <td>...</td>\n",
       "      <td>...</td>\n",
       "      <td>...</td>\n",
       "      <td>...</td>\n",
       "      <td>...</td>\n",
       "      <td>...</td>\n",
       "      <td>...</td>\n",
       "      <td>...</td>\n",
       "    </tr>\n",
       "    <tr>\n",
       "      <td>16710</td>\n",
       "      <td>Samurai Warriors: Sanada Maru</td>\n",
       "      <td>PS3</td>\n",
       "      <td>2016</td>\n",
       "      <td>Action</td>\n",
       "      <td>0.00</td>\n",
       "      <td>0.00</td>\n",
       "      <td>0.01</td>\n",
       "      <td>0.00</td>\n",
       "      <td>0</td>\n",
       "      <td>0.0</td>\n",
       "      <td>unknown</td>\n",
       "      <td>0.01</td>\n",
       "    </tr>\n",
       "    <tr>\n",
       "      <td>16711</td>\n",
       "      <td>LMA Manager 2007</td>\n",
       "      <td>X360</td>\n",
       "      <td>2006</td>\n",
       "      <td>Sports</td>\n",
       "      <td>0.00</td>\n",
       "      <td>0.01</td>\n",
       "      <td>0.00</td>\n",
       "      <td>0.00</td>\n",
       "      <td>0</td>\n",
       "      <td>0.0</td>\n",
       "      <td>unknown</td>\n",
       "      <td>0.01</td>\n",
       "    </tr>\n",
       "    <tr>\n",
       "      <td>16712</td>\n",
       "      <td>Haitaka no Psychedelica</td>\n",
       "      <td>PSV</td>\n",
       "      <td>2016</td>\n",
       "      <td>Adventure</td>\n",
       "      <td>0.00</td>\n",
       "      <td>0.00</td>\n",
       "      <td>0.01</td>\n",
       "      <td>0.00</td>\n",
       "      <td>0</td>\n",
       "      <td>0.0</td>\n",
       "      <td>unknown</td>\n",
       "      <td>0.01</td>\n",
       "    </tr>\n",
       "    <tr>\n",
       "      <td>16713</td>\n",
       "      <td>Spirits &amp; Spells</td>\n",
       "      <td>GBA</td>\n",
       "      <td>2003</td>\n",
       "      <td>Platform</td>\n",
       "      <td>0.01</td>\n",
       "      <td>0.00</td>\n",
       "      <td>0.00</td>\n",
       "      <td>0.00</td>\n",
       "      <td>0</td>\n",
       "      <td>0.0</td>\n",
       "      <td>unknown</td>\n",
       "      <td>0.01</td>\n",
       "    </tr>\n",
       "    <tr>\n",
       "      <td>16714</td>\n",
       "      <td>Winning Post 8 2016</td>\n",
       "      <td>PSV</td>\n",
       "      <td>2016</td>\n",
       "      <td>Simulation</td>\n",
       "      <td>0.00</td>\n",
       "      <td>0.00</td>\n",
       "      <td>0.01</td>\n",
       "      <td>0.00</td>\n",
       "      <td>0</td>\n",
       "      <td>0.0</td>\n",
       "      <td>unknown</td>\n",
       "      <td>0.01</td>\n",
       "    </tr>\n",
       "  </tbody>\n",
       "</table>\n",
       "<p>16141 rows × 12 columns</p>\n",
       "</div>"
      ],
      "text/plain": [
       "                           game_name platform  year_of_release    genre_name  \\\n",
       "0                         Wii Sports      Wii             2006        Sports   \n",
       "2                     Mario Kart Wii      Wii             2008        Racing   \n",
       "3                  Wii Sports Resort      Wii             2009        Sports   \n",
       "4           Pokemon Red/Pokemon Blue       GB             1996  Role-Playing   \n",
       "6              New Super Mario Bros.       DS             2006      Platform   \n",
       "...                              ...      ...              ...           ...   \n",
       "16710  Samurai Warriors: Sanada Maru      PS3             2016        Action   \n",
       "16711               LMA Manager 2007     X360             2006        Sports   \n",
       "16712        Haitaka no Psychedelica      PSV             2016     Adventure   \n",
       "16713               Spirits & Spells      GBA             2003      Platform   \n",
       "16714            Winning Post 8 2016      PSV             2016    Simulation   \n",
       "\n",
       "       na_sales  eu_sales  jp_sales  other_sales  critic_score  user_score  \\\n",
       "0         41.36     28.96      3.77         8.45            76         8.0   \n",
       "2         15.68     12.76      3.79         3.29            82         8.3   \n",
       "3         15.61     10.93      3.28         2.95            80         8.0   \n",
       "4         11.27      8.89     10.22         1.00             0         0.0   \n",
       "6         11.28      9.14      6.50         2.88            89         8.5   \n",
       "...         ...       ...       ...          ...           ...         ...   \n",
       "16710      0.00      0.00      0.01         0.00             0         0.0   \n",
       "16711      0.00      0.01      0.00         0.00             0         0.0   \n",
       "16712      0.00      0.00      0.01         0.00             0         0.0   \n",
       "16713      0.01      0.00      0.00         0.00             0         0.0   \n",
       "16714      0.00      0.00      0.01         0.00             0         0.0   \n",
       "\n",
       "        rating  total_sales  \n",
       "0            E        82.54  \n",
       "2            E        35.52  \n",
       "3            E        32.77  \n",
       "4      unknown        31.38  \n",
       "6            E        29.80  \n",
       "...        ...          ...  \n",
       "16710  unknown         0.01  \n",
       "16711  unknown         0.01  \n",
       "16712  unknown         0.01  \n",
       "16713  unknown         0.01  \n",
       "16714  unknown         0.01  \n",
       "\n",
       "[16141 rows x 12 columns]"
      ]
     },
     "execution_count": 67,
     "metadata": {},
     "output_type": "execute_result"
    }
   ],
   "source": [
    "game_data"
   ]
  },
  {
   "cell_type": "markdown",
   "metadata": {},
   "source": [
    "Теперь соберем информацию по каждой игровой платформе: \n",
    "* сколько игр вышло на этой платформе\n",
    "* год выпуска первой игры\n",
    "* год выпуска последней игры\n",
    "* посчитаем значения, какой период платформа была актуальна (период времени с момента выпуска первой игры, до момента выпуска последней игры)"
   ]
  },
  {
   "cell_type": "code",
   "execution_count": 26,
   "metadata": {},
   "outputs": [
    {
     "data": {
      "text/html": [
       "<div>\n",
       "<style scoped>\n",
       "    .dataframe tbody tr th:only-of-type {\n",
       "        vertical-align: middle;\n",
       "    }\n",
       "\n",
       "    .dataframe tbody tr th {\n",
       "        vertical-align: top;\n",
       "    }\n",
       "\n",
       "    .dataframe thead th {\n",
       "        text-align: right;\n",
       "    }\n",
       "</style>\n",
       "<table border=\"1\" class=\"dataframe\">\n",
       "  <thead>\n",
       "    <tr style=\"text-align: right;\">\n",
       "      <th></th>\n",
       "      <th>game_count</th>\n",
       "      <th>first_year</th>\n",
       "      <th>last_year</th>\n",
       "      <th>total_lived</th>\n",
       "    </tr>\n",
       "    <tr>\n",
       "      <th>platform</th>\n",
       "      <th></th>\n",
       "      <th></th>\n",
       "      <th></th>\n",
       "      <th></th>\n",
       "    </tr>\n",
       "  </thead>\n",
       "  <tbody>\n",
       "    <tr>\n",
       "      <td>3DO</td>\n",
       "      <td>3</td>\n",
       "      <td>1994</td>\n",
       "      <td>1995</td>\n",
       "      <td>1</td>\n",
       "    </tr>\n",
       "    <tr>\n",
       "      <td>3DS</td>\n",
       "      <td>512</td>\n",
       "      <td>2011</td>\n",
       "      <td>2016</td>\n",
       "      <td>5</td>\n",
       "    </tr>\n",
       "    <tr>\n",
       "      <td>DC</td>\n",
       "      <td>52</td>\n",
       "      <td>1998</td>\n",
       "      <td>2008</td>\n",
       "      <td>10</td>\n",
       "    </tr>\n",
       "    <tr>\n",
       "      <td>DS</td>\n",
       "      <td>2120</td>\n",
       "      <td>2004</td>\n",
       "      <td>2013</td>\n",
       "      <td>9</td>\n",
       "    </tr>\n",
       "    <tr>\n",
       "      <td>GB</td>\n",
       "      <td>67</td>\n",
       "      <td>1994</td>\n",
       "      <td>2001</td>\n",
       "      <td>7</td>\n",
       "    </tr>\n",
       "    <tr>\n",
       "      <td>GBA</td>\n",
       "      <td>811</td>\n",
       "      <td>2000</td>\n",
       "      <td>2007</td>\n",
       "      <td>7</td>\n",
       "    </tr>\n",
       "    <tr>\n",
       "      <td>GC</td>\n",
       "      <td>542</td>\n",
       "      <td>2001</td>\n",
       "      <td>2007</td>\n",
       "      <td>6</td>\n",
       "    </tr>\n",
       "    <tr>\n",
       "      <td>GEN</td>\n",
       "      <td>21</td>\n",
       "      <td>1993</td>\n",
       "      <td>1994</td>\n",
       "      <td>1</td>\n",
       "    </tr>\n",
       "    <tr>\n",
       "      <td>N64</td>\n",
       "      <td>316</td>\n",
       "      <td>1996</td>\n",
       "      <td>2002</td>\n",
       "      <td>6</td>\n",
       "    </tr>\n",
       "    <tr>\n",
       "      <td>NES</td>\n",
       "      <td>5</td>\n",
       "      <td>1993</td>\n",
       "      <td>1994</td>\n",
       "      <td>1</td>\n",
       "    </tr>\n",
       "    <tr>\n",
       "      <td>NG</td>\n",
       "      <td>12</td>\n",
       "      <td>1993</td>\n",
       "      <td>1996</td>\n",
       "      <td>3</td>\n",
       "    </tr>\n",
       "    <tr>\n",
       "      <td>PC</td>\n",
       "      <td>950</td>\n",
       "      <td>1994</td>\n",
       "      <td>2016</td>\n",
       "      <td>22</td>\n",
       "    </tr>\n",
       "    <tr>\n",
       "      <td>PCFX</td>\n",
       "      <td>1</td>\n",
       "      <td>1996</td>\n",
       "      <td>1996</td>\n",
       "      <td>0</td>\n",
       "    </tr>\n",
       "    <tr>\n",
       "      <td>PS</td>\n",
       "      <td>1190</td>\n",
       "      <td>1994</td>\n",
       "      <td>2003</td>\n",
       "      <td>9</td>\n",
       "    </tr>\n",
       "    <tr>\n",
       "      <td>PS2</td>\n",
       "      <td>2127</td>\n",
       "      <td>2000</td>\n",
       "      <td>2011</td>\n",
       "      <td>11</td>\n",
       "    </tr>\n",
       "    <tr>\n",
       "      <td>PS3</td>\n",
       "      <td>1306</td>\n",
       "      <td>2006</td>\n",
       "      <td>2016</td>\n",
       "      <td>10</td>\n",
       "    </tr>\n",
       "    <tr>\n",
       "      <td>PS4</td>\n",
       "      <td>392</td>\n",
       "      <td>2013</td>\n",
       "      <td>2016</td>\n",
       "      <td>3</td>\n",
       "    </tr>\n",
       "    <tr>\n",
       "      <td>PSP</td>\n",
       "      <td>1193</td>\n",
       "      <td>2004</td>\n",
       "      <td>2015</td>\n",
       "      <td>11</td>\n",
       "    </tr>\n",
       "    <tr>\n",
       "      <td>PSV</td>\n",
       "      <td>429</td>\n",
       "      <td>2011</td>\n",
       "      <td>2016</td>\n",
       "      <td>5</td>\n",
       "    </tr>\n",
       "    <tr>\n",
       "      <td>SAT</td>\n",
       "      <td>173</td>\n",
       "      <td>1994</td>\n",
       "      <td>1999</td>\n",
       "      <td>5</td>\n",
       "    </tr>\n",
       "    <tr>\n",
       "      <td>SCD</td>\n",
       "      <td>6</td>\n",
       "      <td>1993</td>\n",
       "      <td>1994</td>\n",
       "      <td>1</td>\n",
       "    </tr>\n",
       "    <tr>\n",
       "      <td>SNES</td>\n",
       "      <td>190</td>\n",
       "      <td>1993</td>\n",
       "      <td>1999</td>\n",
       "      <td>6</td>\n",
       "    </tr>\n",
       "    <tr>\n",
       "      <td>TG16</td>\n",
       "      <td>2</td>\n",
       "      <td>1995</td>\n",
       "      <td>1995</td>\n",
       "      <td>0</td>\n",
       "    </tr>\n",
       "    <tr>\n",
       "      <td>WS</td>\n",
       "      <td>6</td>\n",
       "      <td>1999</td>\n",
       "      <td>2001</td>\n",
       "      <td>2</td>\n",
       "    </tr>\n",
       "    <tr>\n",
       "      <td>Wii</td>\n",
       "      <td>1286</td>\n",
       "      <td>2006</td>\n",
       "      <td>2016</td>\n",
       "      <td>10</td>\n",
       "    </tr>\n",
       "    <tr>\n",
       "      <td>WiiU</td>\n",
       "      <td>147</td>\n",
       "      <td>2012</td>\n",
       "      <td>2016</td>\n",
       "      <td>4</td>\n",
       "    </tr>\n",
       "    <tr>\n",
       "      <td>X360</td>\n",
       "      <td>1232</td>\n",
       "      <td>2005</td>\n",
       "      <td>2016</td>\n",
       "      <td>11</td>\n",
       "    </tr>\n",
       "    <tr>\n",
       "      <td>XB</td>\n",
       "      <td>803</td>\n",
       "      <td>2000</td>\n",
       "      <td>2008</td>\n",
       "      <td>8</td>\n",
       "    </tr>\n",
       "    <tr>\n",
       "      <td>XOne</td>\n",
       "      <td>247</td>\n",
       "      <td>2013</td>\n",
       "      <td>2016</td>\n",
       "      <td>3</td>\n",
       "    </tr>\n",
       "  </tbody>\n",
       "</table>\n",
       "</div>"
      ],
      "text/plain": [
       "          game_count  first_year  last_year  total_lived\n",
       "platform                                                \n",
       "3DO                3        1994       1995            1\n",
       "3DS              512        2011       2016            5\n",
       "DC                52        1998       2008           10\n",
       "DS              2120        2004       2013            9\n",
       "GB                67        1994       2001            7\n",
       "GBA              811        2000       2007            7\n",
       "GC               542        2001       2007            6\n",
       "GEN               21        1993       1994            1\n",
       "N64              316        1996       2002            6\n",
       "NES                5        1993       1994            1\n",
       "NG                12        1993       1996            3\n",
       "PC               950        1994       2016           22\n",
       "PCFX               1        1996       1996            0\n",
       "PS              1190        1994       2003            9\n",
       "PS2             2127        2000       2011           11\n",
       "PS3             1306        2006       2016           10\n",
       "PS4              392        2013       2016            3\n",
       "PSP             1193        2004       2015           11\n",
       "PSV              429        2011       2016            5\n",
       "SAT              173        1994       1999            5\n",
       "SCD                6        1993       1994            1\n",
       "SNES             190        1993       1999            6\n",
       "TG16               2        1995       1995            0\n",
       "WS                 6        1999       2001            2\n",
       "Wii             1286        2006       2016           10\n",
       "WiiU             147        2012       2016            4\n",
       "X360            1232        2005       2016           11\n",
       "XB               803        2000       2008            8\n",
       "XOne             247        2013       2016            3"
      ]
     },
     "execution_count": 26,
     "metadata": {},
     "output_type": "execute_result"
    }
   ],
   "source": [
    "# рассчитаем для каждой платформы количество игр, выпущенных для неё, и год выпуска первой и последней игры\n",
    "top_platforms = game_data.query('year_of_release != 0').pivot_table(\n",
    "    index = 'platform', values = 'year_of_release', aggfunc = ['count','min', 'max']\n",
    ")\n",
    "top_platforms.columns = ['game_count','first_year','last_year']\n",
    "# добавим столбце с периодом жизни (актуальности) платформы\n",
    "top_platforms['total_lived'] = top_platforms['last_year'] - top_platforms['first_year']\n",
    "top_platforms"
   ]
  },
  {
   "cell_type": "markdown",
   "metadata": {},
   "source": [
    "Ещё добавим в нашу таблицу данные о продажах каждой платформы. Для этого посчитаем суммарные продажи всех игр для каждой платформы, а затем методом join() добавим их к нашей таблице."
   ]
  },
  {
   "cell_type": "code",
   "execution_count": 27,
   "metadata": {},
   "outputs": [],
   "source": [
    "platforms_sales = game_data.pivot_table(\n",
    "    index = 'platform', values = 'total_sales', aggfunc = 'sum'\n",
    ")"
   ]
  },
  {
   "cell_type": "code",
   "execution_count": 28,
   "metadata": {},
   "outputs": [],
   "source": [
    "top_platforms = top_platforms.join(platforms_sales, how='outer')"
   ]
  },
  {
   "cell_type": "code",
   "execution_count": 68,
   "metadata": {},
   "outputs": [],
   "source": [
    "top_platforms.sort_values(by = 'total_sales', ascending = False, inplace = True)"
   ]
  },
  {
   "cell_type": "code",
   "execution_count": 30,
   "metadata": {},
   "outputs": [
    {
     "data": {
      "image/png": "[encoded data removed]",
      "text/plain": [
       "<Figure size 720x504 with 1 Axes>"
      ]
     },
     "metadata": {},
     "output_type": "display_data"
    }
   ],
   "source": [
    "top_platforms.plot.bar(\n",
    "    y = 'total_sales',\n",
    "    figsize=(10, 7)\n",
    ");\n",
    "plt.ylabel('count')\n",
    "plt.title('График распределения количества проданных игр по платформам');"
   ]
  },
  {
   "cell_type": "markdown",
   "metadata": {},
   "source": [
    "Это рейтинг самых прибыльных платформ, с подробной информацией. Теперь давайте рассмотрим 6 самых прибыльных (бёрем именно 6, т.к. дальше на нашем графике наблюдается резкий спад), это 'PS2', 'X360', 'PS3', 'Wii', 'DS' и 'PS'. Построим для них распределение суммарных продаж по годам. И ответим на вопрос За какой характерный срок появляются новые и исчезают старые платформы?"
   ]
  },
  {
   "cell_type": "code",
   "execution_count": 31,
   "metadata": {},
   "outputs": [
    {
     "data": {
      "image/png": "[encoded data removed]",
      "text/plain": [
       "<Figure size 432x288 with 1 Axes>"
      ]
     },
     "metadata": {},
     "output_type": "display_data"
    },
    {
     "data": {
      "image/png": "[encoded data removed]",
      "text/plain": [
       "<Figure size 432x288 with 1 Axes>"
      ]
     },
     "metadata": {},
     "output_type": "display_data"
    },
    {
     "data": {
      "image/png": "[encoded data removed]",
      "text/plain": [
       "<Figure size 432x288 with 1 Axes>"
      ]
     },
     "metadata": {},
     "output_type": "display_data"
    },
    {
     "data": {
      "image/png": "[encoded data removed]",
      "text/plain": [
       "<Figure size 432x288 with 1 Axes>"
      ]
     },
     "metadata": {},
     "output_type": "display_data"
    },
    {
     "data": {
      "image/png": "[encoded data removed]",
      "text/plain": [
       "<Figure size 432x288 with 1 Axes>"
      ]
     },
     "metadata": {},
     "output_type": "display_data"
    },
    {
     "data": {
      "image/png": "[encoded data removed]",
      "text/plain": [
       "<Figure size 432x288 with 1 Axes>"
      ]
     },
     "metadata": {},
     "output_type": "display_data"
    }
   ],
   "source": [
    "for platform in [ 'PS2', 'X360', 'PS3', 'Wii', 'DS', 'PS']:\n",
    "    game_data.query('platform == @platform').pivot_table(\n",
    "        index = 'year_of_release', values = 'total_sales', aggfunc = 'sum'\n",
    "    ).query('year_of_release != 0').plot.bar();\n",
    "    plt.ylabel('count')\n",
    "    plt.title(f'График распределения выручки с игр для {platform} по годам');\n",
    "    "
   ]
  },
  {
   "cell_type": "markdown",
   "metadata": {},
   "source": [
    "Сначала хочется сказать о последнем графике: \"График распределения выручки с игр для DS по годам\". На этом графике видно, что первая игра на DS вышла ещё в 1985 году, а следующую игру выпустили лишь в 2004 году. Этот факт выглядит неправдоподобно, так что будем считать, что первая игра на DS вышла в 2004 году.\n",
    "\n",
    "Что можно подметить, посмотрев на эти графики? Период выпуска игр на приставку 9-11 лет. Из них самый активный период продаж составляет около 5 лет, обычно пик продаж наступает за 1-2 года после появления новой платформы. Так что на часть вопроса: за какой характерный срок исчезают старые платформы, мы ответили. Примерно за 10 лет после выпуска. \n",
    "\n",
    "Теперь давайте вернемся к нашей таблице с информацией о продаже игр для каждой платформы и попробуем ответить на вопрос: За какой характерный срок появляются новые платформы? Для этого вспомним данные из нашего рейтинга платформ, отсортируем их по году выпуска первой игры, так как игровая индустрия начала существенно расширятся примерно с 2000х годов, отсеем все платформы, на которые выпустили последнюю игру до 2000 года. "
   ]
  },
  {
   "cell_type": "code",
   "execution_count": 32,
   "metadata": {},
   "outputs": [],
   "source": [
    "# вспомним данные из нашего рейтинга, отсротируемих по году выпуска первой игры\n",
    "top_platforms_2000 = top_platforms.query('first_year >= 2000').sort_values(by = 'first_year')"
   ]
  },
  {
   "cell_type": "markdown",
   "metadata": {},
   "source": [
    "Теперь, чтобы все-таки ответить на вопрос: за какой характерный срок появляются новые платформ, посчитаем по нашей выборке, сколько новых приставок появилось за период с 2000 по 2016 год. Рассчитаем количество приставок, появляющиеся каждый год."
   ]
  },
  {
   "cell_type": "code",
   "execution_count": 33,
   "metadata": {},
   "outputs": [
    {
     "name": "stdout",
     "output_type": "stream",
     "text": [
      "За период с 2000 по 2016 (17 лет) год появиилось 14 новых платформ\n",
      "За период с 2000 по 2016 (17 лет) в год появлялось 0.82 новых платформ\n"
     ]
    }
   ],
   "source": [
    "period = [2000, 2016]\n",
    "print(f'За период с {period[0]} по {period[1]} ({period[1] - period[0] + 1} лет) год появиилось {len(top_platforms_2000)} новых платформ')\n",
    "print(f'За период с {period[0]} по {period[1]} ({period[1] - period[0] + 1} лет) в год появлялось {len(top_platforms_2000) /(period[1] - period[0] + 1):.2f} новых платформ')"
   ]
  },
  {
   "cell_type": "markdown",
   "metadata": {},
   "source": [
    "Какой вывод можно из этого сделать? Новая платформа появляется примерно каждые 16 месяцев."
   ]
  },
  {
   "cell_type": "markdown",
   "metadata": {},
   "source": [
    "Теперь выберем из общего рейтинга те платформы, на которые ещё выпускают игры (значение 'last_year' == 2016). Дальше в анализе будем использовать эти данные."
   ]
  },
  {
   "cell_type": "code",
   "execution_count": 34,
   "metadata": {},
   "outputs": [
    {
     "data": {
      "text/html": [
       "<div>\n",
       "<style scoped>\n",
       "    .dataframe tbody tr th:only-of-type {\n",
       "        vertical-align: middle;\n",
       "    }\n",
       "\n",
       "    .dataframe tbody tr th {\n",
       "        vertical-align: top;\n",
       "    }\n",
       "\n",
       "    .dataframe thead th {\n",
       "        text-align: right;\n",
       "    }\n",
       "</style>\n",
       "<table border=\"1\" class=\"dataframe\">\n",
       "  <thead>\n",
       "    <tr style=\"text-align: right;\">\n",
       "      <th></th>\n",
       "      <th>game_count</th>\n",
       "      <th>first_year</th>\n",
       "      <th>last_year</th>\n",
       "      <th>total_lived</th>\n",
       "      <th>total_sales</th>\n",
       "    </tr>\n",
       "    <tr>\n",
       "      <th>platform</th>\n",
       "      <th></th>\n",
       "      <th></th>\n",
       "      <th></th>\n",
       "      <th></th>\n",
       "      <th></th>\n",
       "    </tr>\n",
       "  </thead>\n",
       "  <tbody>\n",
       "    <tr>\n",
       "      <td>X360</td>\n",
       "      <td>1232</td>\n",
       "      <td>2005</td>\n",
       "      <td>2016</td>\n",
       "      <td>11</td>\n",
       "      <td>961.24</td>\n",
       "    </tr>\n",
       "    <tr>\n",
       "      <td>PS3</td>\n",
       "      <td>1306</td>\n",
       "      <td>2006</td>\n",
       "      <td>2016</td>\n",
       "      <td>10</td>\n",
       "      <td>931.34</td>\n",
       "    </tr>\n",
       "    <tr>\n",
       "      <td>Wii</td>\n",
       "      <td>1286</td>\n",
       "      <td>2006</td>\n",
       "      <td>2016</td>\n",
       "      <td>10</td>\n",
       "      <td>891.18</td>\n",
       "    </tr>\n",
       "    <tr>\n",
       "      <td>PS4</td>\n",
       "      <td>392</td>\n",
       "      <td>2013</td>\n",
       "      <td>2016</td>\n",
       "      <td>3</td>\n",
       "      <td>314.14</td>\n",
       "    </tr>\n",
       "    <tr>\n",
       "      <td>3DS</td>\n",
       "      <td>512</td>\n",
       "      <td>2011</td>\n",
       "      <td>2016</td>\n",
       "      <td>5</td>\n",
       "      <td>257.81</td>\n",
       "    </tr>\n",
       "    <tr>\n",
       "      <td>PC</td>\n",
       "      <td>950</td>\n",
       "      <td>1994</td>\n",
       "      <td>2016</td>\n",
       "      <td>22</td>\n",
       "      <td>252.66</td>\n",
       "    </tr>\n",
       "    <tr>\n",
       "      <td>XOne</td>\n",
       "      <td>247</td>\n",
       "      <td>2013</td>\n",
       "      <td>2016</td>\n",
       "      <td>3</td>\n",
       "      <td>159.32</td>\n",
       "    </tr>\n",
       "    <tr>\n",
       "      <td>WiiU</td>\n",
       "      <td>147</td>\n",
       "      <td>2012</td>\n",
       "      <td>2016</td>\n",
       "      <td>4</td>\n",
       "      <td>82.19</td>\n",
       "    </tr>\n",
       "    <tr>\n",
       "      <td>PSV</td>\n",
       "      <td>429</td>\n",
       "      <td>2011</td>\n",
       "      <td>2016</td>\n",
       "      <td>5</td>\n",
       "      <td>53.81</td>\n",
       "    </tr>\n",
       "  </tbody>\n",
       "</table>\n",
       "</div>"
      ],
      "text/plain": [
       "          game_count  first_year  last_year  total_lived  total_sales\n",
       "platform                                                             \n",
       "X360            1232        2005       2016           11       961.24\n",
       "PS3             1306        2006       2016           10       931.34\n",
       "Wii             1286        2006       2016           10       891.18\n",
       "PS4              392        2013       2016            3       314.14\n",
       "3DS              512        2011       2016            5       257.81\n",
       "PC               950        1994       2016           22       252.66\n",
       "XOne             247        2013       2016            3       159.32\n",
       "WiiU             147        2012       2016            4        82.19\n",
       "PSV              429        2011       2016            5        53.81"
      ]
     },
     "execution_count": 34,
     "metadata": {},
     "output_type": "execute_result"
    }
   ],
   "source": [
    "actual_statistics = top_platforms.query('last_year == 2016')\n",
    "actual_statistics"
   ]
  },
  {
   "cell_type": "markdown",
   "metadata": {},
   "source": [
    "Лидеры по продажам у нас: 'X360', 'PS3' и 'Wii'. По суммарным продажам они не сильно отличаются, но на порядок опережают своих конкурентов.\n",
    "Лидеры по продажам за все время своего существования у нас: 'X360', 'PS3' и 'Wii'. По суммарным продажам они не сильно отличаются, но на порядок опережают своих конкурентов. Но на рынке все эти платформы существуют разное количество времени. Давайте для каждой из актуальных платформ построим графики со значениями суммарных продаж по годам. Посмотрим, какие из них растут, а какие в упадке. Выберем несколько потенциально прибыльных платформ.\n"
   ]
  },
  {
   "cell_type": "code",
   "execution_count": 35,
   "metadata": {},
   "outputs": [
    {
     "data": {
      "image/png": "[encoded data removed]",
      "text/plain": [
       "<Figure size 432x288 with 1 Axes>"
      ]
     },
     "metadata": {},
     "output_type": "display_data"
    },
    {
     "data": {
      "image/png": "[encoded data removed]",
      "text/plain": [
       "<Figure size 432x288 with 1 Axes>"
      ]
     },
     "metadata": {},
     "output_type": "display_data"
    },
    {
     "data": {
      "image/png": "[encoded data removed]",
      "text/plain": [
       "<Figure size 432x288 with 1 Axes>"
      ]
     },
     "metadata": {},
     "output_type": "display_data"
    },
    {
     "data": {
      "image/png": "[encoded data removed]",
      "text/plain": [
       "<Figure size 432x288 with 1 Axes>"
      ]
     },
     "metadata": {},
     "output_type": "display_data"
    },
    {
     "data": {
      "image/png": "[encoded data removed]",
      "text/plain": [
       "<Figure size 432x288 with 1 Axes>"
      ]
     },
     "metadata": {},
     "output_type": "display_data"
    },
    {
     "data": {
      "image/png": "[encoded data removed]",
      "text/plain": [
       "<Figure size 432x288 with 1 Axes>"
      ]
     },
     "metadata": {},
     "output_type": "display_data"
    },
    {
     "data": {
      "image/png": "[encoded data removed]",
      "text/plain": [
       "<Figure size 432x288 with 1 Axes>"
      ]
     },
     "metadata": {},
     "output_type": "display_data"
    },
    {
     "data": {
      "image/png": "[encoded data removed]",
      "text/plain": [
       "<Figure size 432x288 with 1 Axes>"
      ]
     },
     "metadata": {},
     "output_type": "display_data"
    },
    {
     "data": {
      "image/png": "[encoded data removed]",
      "text/plain": [
       "<Figure size 432x288 with 1 Axes>"
      ]
     },
     "metadata": {},
     "output_type": "display_data"
    }
   ],
   "source": [
    "for platform in actual_statistics.index:\n",
    "    game_data.query('platform == @platform').pivot_table(\n",
    "        index = 'year_of_release', values = 'total_sales', aggfunc = 'sum'\n",
    "    ).query('year_of_release != 0').plot.bar();\n",
    "    plt.ylabel('sum in millions')\n",
    "    plt.title(f'График распределения выручки с игр для {platform} по годам');\n",
    "    plt.show();\n"
   ]
  },
  {
   "cell_type": "markdown",
   "metadata": {},
   "source": [
    "Некоторые приставки: 'X360', 'PS3' и 'Wii' - существуют на рынке уже достаточно давно, они уже пережили пик своей популярности и в их жизнь подходит к закату популярности. В этот перечень я не засунул 'PC', так компьютеры постоянно улучшается, становятся мощнее, так что новые игры всегда можно сделать и для 'PC'. Факт, что сейчас игры для персонального компьютера пользуются меньшей популярностью, чем в 2011 году, но пользоваться спросом игры на PC будут ещё очень долго. Но я бы не рассчитывал на новый скачок продаж, так как игры начинают переезжать на консоли, которые специально создаются для этого.\n",
    "\n",
    "На какие платформы можно сделать ставку? Точно я бы сделал ставку на 'PS4' и 'XOne', хоть и в последнем году продажи на эти платформы немного просели, но по этим данным нельзя сказать, что у этих консолей начинается спад. Я в них не сомневаюсь, так как их предшественники (старые консоли от тех же компаний): 'PS2', 'PS3' и 'X360' - это платформы, которые находятся в лидерах по продаже игр. У этих консолей есть известное имя, из-за которых пользователь будет выбирать их из множества всех.\n"
   ]
  },
  {
   "cell_type": "code",
   "execution_count": 36,
   "metadata": {},
   "outputs": [],
   "source": [
    "platform_size = (\n",
    "    ['X360', 3],\n",
    "    ['PS3', 3], \n",
    "    ['Wii', 2], \n",
    "    ['PS4', 2], \n",
    "    ['PC', 0.5], \n",
    "    ['3DS', 1], \n",
    "    ['XOne', 2], \n",
    "    ['WiiU', 1.5], \n",
    "    ['PSV', 0.5]\n",
    ")"
   ]
  },
  {
   "cell_type": "code",
   "execution_count": 37,
   "metadata": {},
   "outputs": [
    {
     "data": {
      "image/png": "[encoded data removed]",
      "text/plain": [
       "<Figure size 432x288 with 1 Axes>"
      ]
     },
     "metadata": {},
     "output_type": "display_data"
    },
    {
     "data": {
      "image/png": "[encoded data removed]",
      "text/plain": [
       "<Figure size 432x288 with 1 Axes>"
      ]
     },
     "metadata": {},
     "output_type": "display_data"
    },
    {
     "data": {
      "image/png": "[encoded data removed]",
      "text/plain": [
       "<Figure size 432x288 with 1 Axes>"
      ]
     },
     "metadata": {},
     "output_type": "display_data"
    },
    {
     "data": {
      "image/png": "[encoded data removed]",
      "text/plain": [
       "<Figure size 432x288 with 1 Axes>"
      ]
     },
     "metadata": {},
     "output_type": "display_data"
    },
    {
     "data": {
      "image/png": "[encoded data removed]",
      "text/plain": [
       "<Figure size 432x288 with 1 Axes>"
      ]
     },
     "metadata": {},
     "output_type": "display_data"
    },
    {
     "data": {
      "image/png": "[encoded data removed]",
      "text/plain": [
       "<Figure size 432x288 with 1 Axes>"
      ]
     },
     "metadata": {},
     "output_type": "display_data"
    },
    {
     "data": {
      "image/png": "[encoded data removed]",
      "text/plain": [
       "<Figure size 432x288 with 1 Axes>"
      ]
     },
     "metadata": {},
     "output_type": "display_data"
    },
    {
     "data": {
      "image/png": "[encoded data removed]",
      "text/plain": [
       "<Figure size 432x288 with 1 Axes>"
      ]
     },
     "metadata": {},
     "output_type": "display_data"
    },
    {
     "data": {
      "image/png": "[encoded data removed]",
      "text/plain": [
       "<Figure size 432x288 with 1 Axes>"
      ]
     },
     "metadata": {},
     "output_type": "display_data"
    }
   ],
   "source": [
    "for platform, ymax in platform_size:\n",
    "    plt.ylim(0, ymax)\n",
    "    game_data.query('platform == @platform')['total_sales'].to_frame().boxplot()\n",
    "    plt.ylabel('count in millions')\n",
    "    plt.title(f'График распределения выручки с игр для {platform}');\n",
    "    plt.show()"
   ]
  },
  {
   "cell_type": "code",
   "execution_count": 38,
   "metadata": {},
   "outputs": [
    {
     "data": {
      "text/plain": [
       "(0, 1)"
      ]
     },
     "execution_count": 38,
     "metadata": {},
     "output_type": "execute_result"
    },
    {
     "data": {
      "image/png": "[encoded data removed]",
      "text/plain": [
       "<Figure size 432x288 with 1 Axes>"
      ]
     },
     "metadata": {},
     "output_type": "display_data"
    }
   ],
   "source": [
    "# для удобного сравнения построим все boxplot на одном графике\n",
    "sns.boxplot(x='platform', y='total_sales', data=game_data.query(\n",
    "    'platform in @actual_statistics.index'\n",
    "))\n",
    "plt.ylim(0, 1)"
   ]
  },
  {
   "cell_type": "markdown",
   "metadata": {},
   "source": [
    "Теперь мы видим, что, вне зависимости от платформы, большая часть значений лежит в диапазоне, который не превышает 1 млн шт. На некоторых платформах большая часть лежит в диапазоне в 0.15 млн. шт, а у некоторых платформ 0.8 млн. шт. Теперь нам легче сделать прогноз для новой консоли. Из всех новых платформ в лидерах 'PS4' и 'XOne', так же можно понадеется на игры для 'WiiU', но они с меньшей вероятностью принесут такое большое количество продаж, как фавориты. А вот '3DS' и 'PSV' оставляют желать лучшего, продают они меньше всего.\n",
    "\n",
    "Вывод на следующий год очень даже хорош. У нас есть две молодые и перспективные консоли, а также одна черная лошадка, которая тоже может показать себя в продажах."
   ]
  },
  {
   "cell_type": "markdown",
   "metadata": {},
   "source": [
    "Тепере изучим зависимость продаж от отзывов пользователей и критиков на примере платформы 'PS2'. Построим диаграмму рассеяния и посчитаем корреляцию между отзывами и продажами."
   ]
  },
  {
   "cell_type": "code",
   "execution_count": 39,
   "metadata": {},
   "outputs": [],
   "source": [
    "# выберем только игры для платформы 'PS2'\n",
    "PS2_stat = game_data.query('platform == \"PS2\"')"
   ]
  },
  {
   "cell_type": "code",
   "execution_count": 40,
   "metadata": {},
   "outputs": [
    {
     "data": {
      "image/png": "[encoded data removed]",
      "text/plain": [
       "<Figure size 432x288 with 1 Axes>"
      ]
     },
     "metadata": {},
     "output_type": "display_data"
    }
   ],
   "source": [
    "PS2_stat.query('user_score != 0').plot.scatter(\n",
    "    x = 'user_score',\n",
    "    y = 'total_sales',\n",
    ");\n",
    "plt.title(f'График зависимости \"total_sales\" от \"user_score\" для PS2');"
   ]
  },
  {
   "cell_type": "code",
   "execution_count": 41,
   "metadata": {},
   "outputs": [
    {
     "data": {
      "text/plain": [
       "0.26391805692099385"
      ]
     },
     "execution_count": 41,
     "metadata": {},
     "output_type": "execute_result"
    }
   ],
   "source": [
    "#коэффициент корреляции суммы продаж от оценки пользователей \n",
    "PS2_stat['total_sales'].corr(PS2_stat['user_score'])"
   ]
  },
  {
   "cell_type": "code",
   "execution_count": 42,
   "metadata": {},
   "outputs": [
    {
     "data": {
      "image/png": "[encoded data removed]",
      "text/plain": [
       "<Figure size 432x288 with 1 Axes>"
      ]
     },
     "metadata": {},
     "output_type": "display_data"
    }
   ],
   "source": [
    "PS2_stat.query('critic_score != 0').plot.scatter(\n",
    "    x = 'critic_score',\n",
    "    y = 'total_sales',\n",
    ");\n",
    "plt.title(f'График зависимости \"total_sales\" от \"critic_score\" для PS2');"
   ]
  },
  {
   "cell_type": "code",
   "execution_count": 43,
   "metadata": {},
   "outputs": [
    {
     "data": {
      "text/plain": [
       "0.30095304085458136"
      ]
     },
     "execution_count": 43,
     "metadata": {},
     "output_type": "execute_result"
    }
   ],
   "source": [
    "#коэффициент корреляции суммы продаж от оценки критиков\n",
    "PS2_stat['total_sales'].corr(PS2_stat['critic_score'])"
   ]
  },
  {
   "cell_type": "markdown",
   "metadata": {},
   "source": [
    "Какой вывод можно сделать? Вне зависимости от оценки критиков или игроков, игры могут плохо продаваться. Значения корреляции в обоих случаях мало, 0.3 и 0.26. Но на Диаграмме размаха видно, что у всех выдающихся игр (игры, которые принесли большую прибыль), имеют хорошую оценку, как от пользователей, так и от критиков. Тут нет казуальности, скорее всего логика здесь очень простая. Перед покупкой игры люди тщательно её изучают, они не хотят покупать непонятно что. Поэтому и выдающиеся игры приносят большую выручку."
   ]
  },
  {
   "cell_type": "markdown",
   "metadata": {},
   "source": [
    "Давайте возьмем две другие популярные платформы, 'XOne' и 'PS3' и проведем с ними тот же эксперимент. Чтобы проверить правдивость нашего вывода."
   ]
  },
  {
   "cell_type": "code",
   "execution_count": 44,
   "metadata": {},
   "outputs": [],
   "source": [
    "# создадим выборки только игры для платформы 'XOne' и 'PS3'\n",
    "XOne_stat = game_data.query('platform == \"XOne\"')\n",
    "PS3_stat = game_data.query('platform == \"PS3\"')\n"
   ]
  },
  {
   "cell_type": "code",
   "execution_count": 45,
   "metadata": {},
   "outputs": [
    {
     "data": {
      "image/png": "[encoded data removed]",
      "text/plain": [
       "<Figure size 432x288 with 1 Axes>"
      ]
     },
     "metadata": {},
     "output_type": "display_data"
    },
    {
     "data": {
      "image/png": "[encoded data removed]",
      "text/plain": [
       "<Figure size 432x288 with 1 Axes>"
      ]
     },
     "metadata": {},
     "output_type": "display_data"
    },
    {
     "data": {
      "image/png": "[encoded data removed]",
      "text/plain": [
       "<Figure size 432x288 with 1 Axes>"
      ]
     },
     "metadata": {},
     "output_type": "display_data"
    },
    {
     "data": {
      "image/png": "[encoded data removed]",
      "text/plain": [
       "<Figure size 432x288 with 1 Axes>"
      ]
     },
     "metadata": {},
     "output_type": "display_data"
    }
   ],
   "source": [
    "for platform_stat, platform_name in [[XOne_stat,'XOne'], [PS3_stat, 'PS3']]:\n",
    "    platform_stat.query('user_score != 0').plot.scatter(\n",
    "    x = 'user_score',\n",
    "    y = 'total_sales',\n",
    "    );\n",
    "    plt.title(f'График зависимости \"total_sales\" от \"user_score\" для {platform_name}');\n",
    "    PS2_stat.query('critic_score != 0').plot.scatter(\n",
    "    x = 'critic_score',\n",
    "    y = 'total_sales',\n",
    "    );\n",
    "    plt.title(f'График зависимости \"total_sales\" от \"critic_score\" для {platform_name}');"
   ]
  },
  {
   "cell_type": "code",
   "execution_count": 46,
   "metadata": {},
   "outputs": [
    {
     "name": "stdout",
     "output_type": "stream",
     "text": [
      "Для XOne\n",
      "Rоэффициент корреляции между 'total_sales' и 'user_score': 0.1166\n",
      "Rоэффициент корреляции между 'total_sales' и 'critic_score': 0.2748\n",
      "\n",
      "Для PS3\n",
      "Rоэффициент корреляции между 'total_sales' и 'user_score': 0.2746\n",
      "Rоэффициент корреляции между 'total_sales' и 'critic_score': 0.3551\n",
      "\n"
     ]
    }
   ],
   "source": [
    "# рассчитаем коэффициент корреляции для каждой зависимости\n",
    "for platform_stat, platform_name in [[XOne_stat,'XOne'], [PS3_stat, 'PS3']]:\n",
    "    print(f'Для {platform_name}')\n",
    "    print(f\"Rоэффициент корреляции между 'total_sales' и 'user_score': {platform_stat['total_sales'].corr(platform_stat['user_score']):.4f}\")\n",
    "    print(f\"Rоэффициент корреляции между 'total_sales' и 'critic_score': {platform_stat['total_sales'].corr(platform_stat['critic_score']):.4f}\")\n",
    "    print()\n",
    "\n",
    "    "
   ]
  },
  {
   "cell_type": "markdown",
   "metadata": {},
   "source": [
    "Взглянув на значения корреляции, которые мы рассчитали, понятно, что связи между этими значениями. Вывод, что, зачастую, игры, на которых удалось заработать больше обычного, не так очевиден. Это видно на графиках зависимости между общих сборов от оценки пользователей, ну это скорей говорит о том, что у людей очень разные вкусы. А вот зависимость между общими сборами и оценкой критикой подтверждает наш вывод. На этих графиков хорошо видно, что игры, которые заработали сильно больше остальных, имеют хорошую оценку."
   ]
  },
  {
   "cell_type": "markdown",
   "metadata": {},
   "source": [
    "Теперь предлагаю посмотреть на игры, разделив их по жанрам. Посмотрим, сколько игр каждого жанров существует. Рассчитаем общую прибыль игр каждого жанра."
   ]
  },
  {
   "cell_type": "code",
   "execution_count": 47,
   "metadata": {},
   "outputs": [
    {
     "data": {
      "text/html": [
       "<div>\n",
       "<style scoped>\n",
       "    .dataframe tbody tr th:only-of-type {\n",
       "        vertical-align: middle;\n",
       "    }\n",
       "\n",
       "    .dataframe tbody tr th {\n",
       "        vertical-align: top;\n",
       "    }\n",
       "\n",
       "    .dataframe thead th {\n",
       "        text-align: right;\n",
       "    }\n",
       "</style>\n",
       "<table border=\"1\" class=\"dataframe\">\n",
       "  <thead>\n",
       "    <tr style=\"text-align: right;\">\n",
       "      <th></th>\n",
       "      <th>total_sales</th>\n",
       "    </tr>\n",
       "    <tr>\n",
       "      <th>genre_name</th>\n",
       "      <th></th>\n",
       "    </tr>\n",
       "  </thead>\n",
       "  <tbody>\n",
       "    <tr>\n",
       "      <td>Action</td>\n",
       "      <td>1648.43</td>\n",
       "    </tr>\n",
       "    <tr>\n",
       "      <td>Sports</td>\n",
       "      <td>1269.92</td>\n",
       "    </tr>\n",
       "    <tr>\n",
       "      <td>Shooter</td>\n",
       "      <td>979.32</td>\n",
       "    </tr>\n",
       "    <tr>\n",
       "      <td>Role-Playing</td>\n",
       "      <td>901.19</td>\n",
       "    </tr>\n",
       "    <tr>\n",
       "      <td>Misc</td>\n",
       "      <td>776.83</td>\n",
       "    </tr>\n",
       "    <tr>\n",
       "      <td>Racing</td>\n",
       "      <td>694.95</td>\n",
       "    </tr>\n",
       "    <tr>\n",
       "      <td>Platform</td>\n",
       "      <td>659.27</td>\n",
       "    </tr>\n",
       "    <tr>\n",
       "      <td>Fighting</td>\n",
       "      <td>419.80</td>\n",
       "    </tr>\n",
       "    <tr>\n",
       "      <td>Simulation</td>\n",
       "      <td>382.03</td>\n",
       "    </tr>\n",
       "    <tr>\n",
       "      <td>Adventure</td>\n",
       "      <td>214.06</td>\n",
       "    </tr>\n",
       "    <tr>\n",
       "      <td>Strategy</td>\n",
       "      <td>171.26</td>\n",
       "    </tr>\n",
       "    <tr>\n",
       "      <td>Puzzle</td>\n",
       "      <td>163.07</td>\n",
       "    </tr>\n",
       "  </tbody>\n",
       "</table>\n",
       "</div>"
      ],
      "text/plain": [
       "              total_sales\n",
       "genre_name               \n",
       "Action            1648.43\n",
       "Sports            1269.92\n",
       "Shooter            979.32\n",
       "Role-Playing       901.19\n",
       "Misc               776.83\n",
       "Racing             694.95\n",
       "Platform           659.27\n",
       "Fighting           419.80\n",
       "Simulation         382.03\n",
       "Adventure          214.06\n",
       "Strategy           171.26\n",
       "Puzzle             163.07"
      ]
     },
     "execution_count": 47,
     "metadata": {},
     "output_type": "execute_result"
    }
   ],
   "source": [
    "# Сгруппируем игры по жанрам \n",
    "genre_stat = game_data.pivot_table(\n",
    "    index = 'genre_name', values = 'total_sales', aggfunc = 'sum'\n",
    ")\n",
    "genre_stat.sort_values(by = 'total_sales', ascending = False, inplace = True)\n",
    "genre_stat"
   ]
  },
  {
   "cell_type": "code",
   "execution_count": 48,
   "metadata": {},
   "outputs": [
    {
     "data": {
      "image/png": "[encoded data removed]",
      "text/plain": [
       "<Figure size 432x288 with 1 Axes>"
      ]
     },
     "metadata": {},
     "output_type": "display_data"
    }
   ],
   "source": [
    "#Теперь построим графики распределения количества проданных игр и количество заработанных денег по жанрам\n",
    "genre_stat.plot.bar();"
   ]
  },
  {
   "cell_type": "markdown",
   "metadata": {},
   "source": [
    "Что мы видем на графике? Самый популярный жанр: 'Action', но он не слишкомдалеко ушел от ближайших сопреников: 'Sports' и 'Shooter'. Оказывается, самый нелюбимый жанр у игроков - 'Strategy', никогда бы не подумал. На графике нет резких скачков, количесьтво проданных игр каждого жанра плавно уменьшается от жанра к жанру. В центре даже есть жанры, где значение проданных игр почти равно."
   ]
  },
  {
   "cell_type": "markdown",
   "metadata": {},
   "source": [
    "### Вывод\n",
    "\n",
    "Провели большое исследовательский анализ наших данных. Проанализировали ситуацию с платформами. Теперь мы знаем, что в среднем платформа актуальна около 10 лет, а продолжительность популярности около 5. Нашли способ прогнозирования продаж игр на следующий год. Определили платформы, которые могут принести хорошую прибыль в следующем году. Затем, используя математические вычисления, поняли, что оценки пользователя и критиков не влияют на количество продаж, но у популярных игр чаще всего хорошая оценка. В конце мы проанализировали игры по жанрам, построили рейтинг. На удивление мой любимый жанр игр: 'Strategy' - находится в конце нашего рейтинга. \n",
    "\n",
    "Теперь предлагаю перейти дальше и попробовать составить портрет пользователя каждого региона"
   ]
  },
  {
   "cell_type": "markdown",
   "metadata": {},
   "source": [
    "## Составим портрет пользователя каждого региона"
   ]
  },
  {
   "cell_type": "markdown",
   "metadata": {},
   "source": [
    "Для пользователя каждого региона (NA, EU, JP) определим:\n",
    "* Самые популярные платформы (топ-5).\n",
    "* Самые популярные жанры (топ-5).\n",
    "* Проверим влияет ли рейтинг ESRB на продажи в отдельном регионе?"
   ]
  },
  {
   "cell_type": "markdown",
   "metadata": {},
   "source": [
    "Будем брать каждый регион по отдельности и составлять для него портрет. Для удобства напишем функции, которые будут на вход получать название строки с продажами нужноо региона и строить нужный рейтинг."
   ]
  },
  {
   "cell_type": "code",
   "execution_count": 49,
   "metadata": {},
   "outputs": [],
   "source": [
    "# рейтинг самых популярных платформ в заданном регине\n",
    "def top5_platform(data, columns):\n",
    "    report = data.pivot_table(\n",
    "        index = 'platform', values = columns, aggfunc = 'sum'\n",
    "    ).sort_values(by = columns, ascending = False)\n",
    "    report['%_of_total'] = (report[columns] / report[columns].sum()).round(2)\n",
    "    return report.head()"
   ]
  },
  {
   "cell_type": "code",
   "execution_count": 50,
   "metadata": {},
   "outputs": [],
   "source": [
    "# рейтинг самых популярных жанров в заданном регионе\n",
    "def top5_genre(data, columns):\n",
    "    report = data.pivot_table(\n",
    "        index = 'genre_name', values = columns, aggfunc = 'sum'\n",
    "    ).sort_values(by = columns, ascending = False)\n",
    "    report['%_of_total'] = (report[columns] / report[columns].sum()).round(2)\n",
    "    return report.head()"
   ]
  },
  {
   "cell_type": "code",
   "execution_count": 51,
   "metadata": {},
   "outputs": [],
   "source": [
    "# сгруппировали игры по рейтингу\n",
    "def addiction_from_ESRB(data, columns):\n",
    "    report = data.query('rating != \"unknown\"').pivot_table(\n",
    "        index = 'rating', values = columns, aggfunc = 'sum'\n",
    "    ).sort_values(by = columns, ascending = False)\n",
    "    report['%_of_total'] = (report[columns] / report[columns].sum()).round(2)\n",
    "    return report"
   ]
  },
  {
   "cell_type": "markdown",
   "metadata": {},
   "source": [
    "Наши алгоритмы готовы. Сначала составим портрет для игроков из Северной Америки."
   ]
  },
  {
   "cell_type": "code",
   "execution_count": 52,
   "metadata": {},
   "outputs": [
    {
     "data": {
      "text/html": [
       "<div>\n",
       "<style scoped>\n",
       "    .dataframe tbody tr th:only-of-type {\n",
       "        vertical-align: middle;\n",
       "    }\n",
       "\n",
       "    .dataframe tbody tr th {\n",
       "        vertical-align: top;\n",
       "    }\n",
       "\n",
       "    .dataframe thead th {\n",
       "        text-align: right;\n",
       "    }\n",
       "</style>\n",
       "<table border=\"1\" class=\"dataframe\">\n",
       "  <thead>\n",
       "    <tr style=\"text-align: right;\">\n",
       "      <th></th>\n",
       "      <th>na_sales</th>\n",
       "      <th>%_of_total</th>\n",
       "    </tr>\n",
       "    <tr>\n",
       "      <th>platform</th>\n",
       "      <th></th>\n",
       "      <th></th>\n",
       "    </tr>\n",
       "  </thead>\n",
       "  <tbody>\n",
       "    <tr>\n",
       "      <td>X360</td>\n",
       "      <td>595.74</td>\n",
       "      <td>0.15</td>\n",
       "    </tr>\n",
       "    <tr>\n",
       "      <td>PS2</td>\n",
       "      <td>572.92</td>\n",
       "      <td>0.14</td>\n",
       "    </tr>\n",
       "    <tr>\n",
       "      <td>Wii</td>\n",
       "      <td>486.87</td>\n",
       "      <td>0.12</td>\n",
       "    </tr>\n",
       "    <tr>\n",
       "      <td>PS3</td>\n",
       "      <td>390.13</td>\n",
       "      <td>0.10</td>\n",
       "    </tr>\n",
       "    <tr>\n",
       "      <td>DS</td>\n",
       "      <td>380.31</td>\n",
       "      <td>0.09</td>\n",
       "    </tr>\n",
       "  </tbody>\n",
       "</table>\n",
       "</div>"
      ],
      "text/plain": [
       "          na_sales  %_of_total\n",
       "platform                      \n",
       "X360        595.74        0.15\n",
       "PS2         572.92        0.14\n",
       "Wii         486.87        0.12\n",
       "PS3         390.13        0.10\n",
       "DS          380.31        0.09"
      ]
     },
     "execution_count": 52,
     "metadata": {},
     "output_type": "execute_result"
    }
   ],
   "source": [
    "# Самые популярные платформы\n",
    "na_platform = top5_platform(game_data, 'na_sales')\n",
    "na_platform"
   ]
  },
  {
   "cell_type": "code",
   "execution_count": 53,
   "metadata": {},
   "outputs": [
    {
     "data": {
      "text/html": [
       "<div>\n",
       "<style scoped>\n",
       "    .dataframe tbody tr th:only-of-type {\n",
       "        vertical-align: middle;\n",
       "    }\n",
       "\n",
       "    .dataframe tbody tr th {\n",
       "        vertical-align: top;\n",
       "    }\n",
       "\n",
       "    .dataframe thead th {\n",
       "        text-align: right;\n",
       "    }\n",
       "</style>\n",
       "<table border=\"1\" class=\"dataframe\">\n",
       "  <thead>\n",
       "    <tr style=\"text-align: right;\">\n",
       "      <th></th>\n",
       "      <th>na_sales</th>\n",
       "      <th>%_of_total</th>\n",
       "    </tr>\n",
       "    <tr>\n",
       "      <th>genre_name</th>\n",
       "      <th></th>\n",
       "      <th></th>\n",
       "    </tr>\n",
       "  </thead>\n",
       "  <tbody>\n",
       "    <tr>\n",
       "      <td>Action</td>\n",
       "      <td>815.32</td>\n",
       "      <td>0.20</td>\n",
       "    </tr>\n",
       "    <tr>\n",
       "      <td>Sports</td>\n",
       "      <td>657.61</td>\n",
       "      <td>0.16</td>\n",
       "    </tr>\n",
       "    <tr>\n",
       "      <td>Shooter</td>\n",
       "      <td>532.91</td>\n",
       "      <td>0.13</td>\n",
       "    </tr>\n",
       "    <tr>\n",
       "      <td>Misc</td>\n",
       "      <td>393.92</td>\n",
       "      <td>0.10</td>\n",
       "    </tr>\n",
       "    <tr>\n",
       "      <td>Platform</td>\n",
       "      <td>343.37</td>\n",
       "      <td>0.09</td>\n",
       "    </tr>\n",
       "  </tbody>\n",
       "</table>\n",
       "</div>"
      ],
      "text/plain": [
       "            na_sales  %_of_total\n",
       "genre_name                      \n",
       "Action        815.32        0.20\n",
       "Sports        657.61        0.16\n",
       "Shooter       532.91        0.13\n",
       "Misc          393.92        0.10\n",
       "Platform      343.37        0.09"
      ]
     },
     "execution_count": 53,
     "metadata": {},
     "output_type": "execute_result"
    }
   ],
   "source": [
    "# самые популярные жанры\n",
    "na_genre = top5_genre(game_data, 'na_sales')\n",
    "na_genre"
   ]
  },
  {
   "cell_type": "code",
   "execution_count": 54,
   "metadata": {},
   "outputs": [
    {
     "data": {
      "text/html": [
       "<div>\n",
       "<style scoped>\n",
       "    .dataframe tbody tr th:only-of-type {\n",
       "        vertical-align: middle;\n",
       "    }\n",
       "\n",
       "    .dataframe tbody tr th {\n",
       "        vertical-align: top;\n",
       "    }\n",
       "\n",
       "    .dataframe thead th {\n",
       "        text-align: right;\n",
       "    }\n",
       "</style>\n",
       "<table border=\"1\" class=\"dataframe\">\n",
       "  <thead>\n",
       "    <tr style=\"text-align: right;\">\n",
       "      <th></th>\n",
       "      <th>na_sales</th>\n",
       "      <th>%_of_total</th>\n",
       "    </tr>\n",
       "    <tr>\n",
       "      <th>rating</th>\n",
       "      <th></th>\n",
       "      <th></th>\n",
       "    </tr>\n",
       "  </thead>\n",
       "  <tbody>\n",
       "    <tr>\n",
       "      <td>E</td>\n",
       "      <td>1274.24</td>\n",
       "      <td>0.41</td>\n",
       "    </tr>\n",
       "    <tr>\n",
       "      <td>T</td>\n",
       "      <td>747.58</td>\n",
       "      <td>0.24</td>\n",
       "    </tr>\n",
       "    <tr>\n",
       "      <td>M</td>\n",
       "      <td>742.87</td>\n",
       "      <td>0.24</td>\n",
       "    </tr>\n",
       "    <tr>\n",
       "      <td>E10+</td>\n",
       "      <td>345.50</td>\n",
       "      <td>0.11</td>\n",
       "    </tr>\n",
       "    <tr>\n",
       "      <td>K-A</td>\n",
       "      <td>2.56</td>\n",
       "      <td>0.00</td>\n",
       "    </tr>\n",
       "    <tr>\n",
       "      <td>EC</td>\n",
       "      <td>1.53</td>\n",
       "      <td>0.00</td>\n",
       "    </tr>\n",
       "    <tr>\n",
       "      <td>AO</td>\n",
       "      <td>1.26</td>\n",
       "      <td>0.00</td>\n",
       "    </tr>\n",
       "    <tr>\n",
       "      <td>RP</td>\n",
       "      <td>0.00</td>\n",
       "      <td>0.00</td>\n",
       "    </tr>\n",
       "  </tbody>\n",
       "</table>\n",
       "</div>"
      ],
      "text/plain": [
       "        na_sales  %_of_total\n",
       "rating                      \n",
       "E        1274.24        0.41\n",
       "T         747.58        0.24\n",
       "M         742.87        0.24\n",
       "E10+      345.50        0.11\n",
       "K-A         2.56        0.00\n",
       "EC          1.53        0.00\n",
       "AO          1.26        0.00\n",
       "RP          0.00        0.00"
      ]
     },
     "execution_count": 54,
     "metadata": {},
     "output_type": "execute_result"
    }
   ],
   "source": [
    "# количество проданных игр каждого рейтинга\n",
    "na_rating = addiction_from_ESRB(game_data, 'na_sales')\n",
    "na_rating"
   ]
  },
  {
   "cell_type": "markdown",
   "metadata": {},
   "source": [
    "Что можно сказать о геймерах из Северной Америки? Пользователи из Северной Америки предпочитают играть в игры на 'X360' и 'PS2', чуть меньше на 'Wii'. Топ-3 самых популярных жанра - это 'Action', 'Sports' и 'Shooter': в этом игроки из Северной Америки схожи с игроками со всего мира. Чаще всего они играют в игры рейтинга 'E'. А игры с рейтингом 'K-A', 'EC', 'AO' и 'RP' эти игроки почти не выбирают."
   ]
  },
  {
   "cell_type": "markdown",
   "metadata": {},
   "source": [
    "Переходим к составлению портрета для любителей поиграть из Европпы."
   ]
  },
  {
   "cell_type": "code",
   "execution_count": 55,
   "metadata": {},
   "outputs": [
    {
     "data": {
      "text/html": [
       "<div>\n",
       "<style scoped>\n",
       "    .dataframe tbody tr th:only-of-type {\n",
       "        vertical-align: middle;\n",
       "    }\n",
       "\n",
       "    .dataframe tbody tr th {\n",
       "        vertical-align: top;\n",
       "    }\n",
       "\n",
       "    .dataframe thead th {\n",
       "        text-align: right;\n",
       "    }\n",
       "</style>\n",
       "<table border=\"1\" class=\"dataframe\">\n",
       "  <thead>\n",
       "    <tr style=\"text-align: right;\">\n",
       "      <th></th>\n",
       "      <th>eu_sales</th>\n",
       "      <th>%_of_total</th>\n",
       "    </tr>\n",
       "    <tr>\n",
       "      <th>platform</th>\n",
       "      <th></th>\n",
       "      <th></th>\n",
       "    </tr>\n",
       "  </thead>\n",
       "  <tbody>\n",
       "    <tr>\n",
       "      <td>PS2</td>\n",
       "      <td>332.63</td>\n",
       "      <td>0.14</td>\n",
       "    </tr>\n",
       "    <tr>\n",
       "      <td>PS3</td>\n",
       "      <td>327.21</td>\n",
       "      <td>0.14</td>\n",
       "    </tr>\n",
       "    <tr>\n",
       "      <td>X360</td>\n",
       "      <td>268.32</td>\n",
       "      <td>0.11</td>\n",
       "    </tr>\n",
       "    <tr>\n",
       "      <td>Wii</td>\n",
       "      <td>258.32</td>\n",
       "      <td>0.11</td>\n",
       "    </tr>\n",
       "    <tr>\n",
       "      <td>PS</td>\n",
       "      <td>212.39</td>\n",
       "      <td>0.09</td>\n",
       "    </tr>\n",
       "  </tbody>\n",
       "</table>\n",
       "</div>"
      ],
      "text/plain": [
       "          eu_sales  %_of_total\n",
       "platform                      \n",
       "PS2         332.63        0.14\n",
       "PS3         327.21        0.14\n",
       "X360        268.32        0.11\n",
       "Wii         258.32        0.11\n",
       "PS          212.39        0.09"
      ]
     },
     "execution_count": 55,
     "metadata": {},
     "output_type": "execute_result"
    }
   ],
   "source": [
    "# Самые популярные платформы\n",
    "eu_platforms = top5_platform(game_data, 'eu_sales')\n",
    "eu_platforms"
   ]
  },
  {
   "cell_type": "code",
   "execution_count": 56,
   "metadata": {},
   "outputs": [
    {
     "data": {
      "text/html": [
       "<div>\n",
       "<style scoped>\n",
       "    .dataframe tbody tr th:only-of-type {\n",
       "        vertical-align: middle;\n",
       "    }\n",
       "\n",
       "    .dataframe tbody tr th {\n",
       "        vertical-align: top;\n",
       "    }\n",
       "\n",
       "    .dataframe thead th {\n",
       "        text-align: right;\n",
       "    }\n",
       "</style>\n",
       "<table border=\"1\" class=\"dataframe\">\n",
       "  <thead>\n",
       "    <tr style=\"text-align: right;\">\n",
       "      <th></th>\n",
       "      <th>eu_sales</th>\n",
       "      <th>%_of_total</th>\n",
       "    </tr>\n",
       "    <tr>\n",
       "      <th>genre_name</th>\n",
       "      <th></th>\n",
       "      <th></th>\n",
       "    </tr>\n",
       "  </thead>\n",
       "  <tbody>\n",
       "    <tr>\n",
       "      <td>Action</td>\n",
       "      <td>503.69</td>\n",
       "      <td>0.21</td>\n",
       "    </tr>\n",
       "    <tr>\n",
       "      <td>Sports</td>\n",
       "      <td>367.91</td>\n",
       "      <td>0.16</td>\n",
       "    </tr>\n",
       "    <tr>\n",
       "      <td>Shooter</td>\n",
       "      <td>311.31</td>\n",
       "      <td>0.13</td>\n",
       "    </tr>\n",
       "    <tr>\n",
       "      <td>Racing</td>\n",
       "      <td>230.32</td>\n",
       "      <td>0.10</td>\n",
       "    </tr>\n",
       "    <tr>\n",
       "      <td>Misc</td>\n",
       "      <td>209.69</td>\n",
       "      <td>0.09</td>\n",
       "    </tr>\n",
       "  </tbody>\n",
       "</table>\n",
       "</div>"
      ],
      "text/plain": [
       "            eu_sales  %_of_total\n",
       "genre_name                      \n",
       "Action        503.69        0.21\n",
       "Sports        367.91        0.16\n",
       "Shooter       311.31        0.13\n",
       "Racing        230.32        0.10\n",
       "Misc          209.69        0.09"
      ]
     },
     "execution_count": 56,
     "metadata": {},
     "output_type": "execute_result"
    }
   ],
   "source": [
    "# самые популярные жанры\n",
    "eu_genre = top5_genre(game_data, 'eu_sales')\n",
    "eu_genre"
   ]
  },
  {
   "cell_type": "code",
   "execution_count": 57,
   "metadata": {},
   "outputs": [
    {
     "data": {
      "text/html": [
       "<div>\n",
       "<style scoped>\n",
       "    .dataframe tbody tr th:only-of-type {\n",
       "        vertical-align: middle;\n",
       "    }\n",
       "\n",
       "    .dataframe tbody tr th {\n",
       "        vertical-align: top;\n",
       "    }\n",
       "\n",
       "    .dataframe thead th {\n",
       "        text-align: right;\n",
       "    }\n",
       "</style>\n",
       "<table border=\"1\" class=\"dataframe\">\n",
       "  <thead>\n",
       "    <tr style=\"text-align: right;\">\n",
       "      <th></th>\n",
       "      <th>eu_sales</th>\n",
       "      <th>%_of_total</th>\n",
       "    </tr>\n",
       "    <tr>\n",
       "      <th>rating</th>\n",
       "      <th></th>\n",
       "      <th></th>\n",
       "    </tr>\n",
       "  </thead>\n",
       "  <tbody>\n",
       "    <tr>\n",
       "      <td>E</td>\n",
       "      <td>703.87</td>\n",
       "      <td>0.39</td>\n",
       "    </tr>\n",
       "    <tr>\n",
       "      <td>M</td>\n",
       "      <td>480.00</td>\n",
       "      <td>0.27</td>\n",
       "    </tr>\n",
       "    <tr>\n",
       "      <td>T</td>\n",
       "      <td>420.99</td>\n",
       "      <td>0.24</td>\n",
       "    </tr>\n",
       "    <tr>\n",
       "      <td>E10+</td>\n",
       "      <td>183.33</td>\n",
       "      <td>0.10</td>\n",
       "    </tr>\n",
       "    <tr>\n",
       "      <td>AO</td>\n",
       "      <td>0.61</td>\n",
       "      <td>0.00</td>\n",
       "    </tr>\n",
       "    <tr>\n",
       "      <td>K-A</td>\n",
       "      <td>0.27</td>\n",
       "      <td>0.00</td>\n",
       "    </tr>\n",
       "    <tr>\n",
       "      <td>EC</td>\n",
       "      <td>0.11</td>\n",
       "      <td>0.00</td>\n",
       "    </tr>\n",
       "    <tr>\n",
       "      <td>RP</td>\n",
       "      <td>0.03</td>\n",
       "      <td>0.00</td>\n",
       "    </tr>\n",
       "  </tbody>\n",
       "</table>\n",
       "</div>"
      ],
      "text/plain": [
       "        eu_sales  %_of_total\n",
       "rating                      \n",
       "E         703.87        0.39\n",
       "M         480.00        0.27\n",
       "T         420.99        0.24\n",
       "E10+      183.33        0.10\n",
       "AO          0.61        0.00\n",
       "K-A         0.27        0.00\n",
       "EC          0.11        0.00\n",
       "RP          0.03        0.00"
      ]
     },
     "execution_count": 57,
     "metadata": {},
     "output_type": "execute_result"
    }
   ],
   "source": [
    "# количество проданных игр каждого рейтинга\n",
    "eu_rating = addiction_from_ESRB(game_data, 'eu_sales')\n",
    "eu_rating"
   ]
  },
  {
   "cell_type": "markdown",
   "metadata": {},
   "source": [
    "А вот в Европе, в отличие от Северной Америки, сильнее любят playstation. На первый двух местах находятся приставки 'PS2' и 'PS3', а третье место, с небольшим разрывом (меньше процента) делят 'X360' (в Америке занимает первое место) и 'Wii'. Так же как в мире или в Америке, здесь самые популярные жанры - это 'Action', 'Sports' и 'Shooter. А пристрастие к играм разных рейтингов в Европе отличается, но совсем немного. Так же, как и в Америке, в Европе самый любимые игры - игры с рейтингом 'E'. И, снова, так же, как и в Америке, в Европе почти не покупают игры рейтинга 'K-A', 'EC', 'AO' или 'RP'."
   ]
  },
  {
   "cell_type": "markdown",
   "metadata": {},
   "source": [
    "Осталось нарисовать последний портрет. Что-то краски заканчиваются... Ладно, купим их по пути в Японию. Что-то мне подсказывает, что сейчас начнется самое интересное."
   ]
  },
  {
   "cell_type": "code",
   "execution_count": 58,
   "metadata": {},
   "outputs": [
    {
     "data": {
      "text/html": [
       "<div>\n",
       "<style scoped>\n",
       "    .dataframe tbody tr th:only-of-type {\n",
       "        vertical-align: middle;\n",
       "    }\n",
       "\n",
       "    .dataframe tbody tr th {\n",
       "        vertical-align: top;\n",
       "    }\n",
       "\n",
       "    .dataframe thead th {\n",
       "        text-align: right;\n",
       "    }\n",
       "</style>\n",
       "<table border=\"1\" class=\"dataframe\">\n",
       "  <thead>\n",
       "    <tr style=\"text-align: right;\">\n",
       "      <th></th>\n",
       "      <th>jp_sales</th>\n",
       "      <th>%_of_total</th>\n",
       "    </tr>\n",
       "    <tr>\n",
       "      <th>platform</th>\n",
       "      <th></th>\n",
       "      <th></th>\n",
       "    </tr>\n",
       "  </thead>\n",
       "  <tbody>\n",
       "    <tr>\n",
       "      <td>DS</td>\n",
       "      <td>175.00</td>\n",
       "      <td>0.15</td>\n",
       "    </tr>\n",
       "    <tr>\n",
       "      <td>PS</td>\n",
       "      <td>139.78</td>\n",
       "      <td>0.12</td>\n",
       "    </tr>\n",
       "    <tr>\n",
       "      <td>PS2</td>\n",
       "      <td>137.54</td>\n",
       "      <td>0.12</td>\n",
       "    </tr>\n",
       "    <tr>\n",
       "      <td>3DS</td>\n",
       "      <td>100.62</td>\n",
       "      <td>0.09</td>\n",
       "    </tr>\n",
       "    <tr>\n",
       "      <td>SNES</td>\n",
       "      <td>82.74</td>\n",
       "      <td>0.07</td>\n",
       "    </tr>\n",
       "  </tbody>\n",
       "</table>\n",
       "</div>"
      ],
      "text/plain": [
       "          jp_sales  %_of_total\n",
       "platform                      \n",
       "DS          175.00        0.15\n",
       "PS          139.78        0.12\n",
       "PS2         137.54        0.12\n",
       "3DS         100.62        0.09\n",
       "SNES         82.74        0.07"
      ]
     },
     "execution_count": 58,
     "metadata": {},
     "output_type": "execute_result"
    }
   ],
   "source": [
    "# Самые популярные платформы\n",
    "jp_platforms = top5_platform(game_data, 'jp_sales')\n",
    "jp_platforms"
   ]
  },
  {
   "cell_type": "code",
   "execution_count": 59,
   "metadata": {},
   "outputs": [
    {
     "data": {
      "text/html": [
       "<div>\n",
       "<style scoped>\n",
       "    .dataframe tbody tr th:only-of-type {\n",
       "        vertical-align: middle;\n",
       "    }\n",
       "\n",
       "    .dataframe tbody tr th {\n",
       "        vertical-align: top;\n",
       "    }\n",
       "\n",
       "    .dataframe thead th {\n",
       "        text-align: right;\n",
       "    }\n",
       "</style>\n",
       "<table border=\"1\" class=\"dataframe\">\n",
       "  <thead>\n",
       "    <tr style=\"text-align: right;\">\n",
       "      <th></th>\n",
       "      <th>jp_sales</th>\n",
       "      <th>%_of_total</th>\n",
       "    </tr>\n",
       "    <tr>\n",
       "      <th>genre_name</th>\n",
       "      <th></th>\n",
       "      <th></th>\n",
       "    </tr>\n",
       "  </thead>\n",
       "  <tbody>\n",
       "    <tr>\n",
       "      <td>Role-Playing</td>\n",
       "      <td>326.65</td>\n",
       "      <td>0.29</td>\n",
       "    </tr>\n",
       "    <tr>\n",
       "      <td>Action</td>\n",
       "      <td>148.22</td>\n",
       "      <td>0.13</td>\n",
       "    </tr>\n",
       "    <tr>\n",
       "      <td>Sports</td>\n",
       "      <td>112.67</td>\n",
       "      <td>0.10</td>\n",
       "    </tr>\n",
       "    <tr>\n",
       "      <td>Misc</td>\n",
       "      <td>100.27</td>\n",
       "      <td>0.09</td>\n",
       "    </tr>\n",
       "    <tr>\n",
       "      <td>Platform</td>\n",
       "      <td>89.28</td>\n",
       "      <td>0.08</td>\n",
       "    </tr>\n",
       "  </tbody>\n",
       "</table>\n",
       "</div>"
      ],
      "text/plain": [
       "              jp_sales  %_of_total\n",
       "genre_name                        \n",
       "Role-Playing    326.65        0.29\n",
       "Action          148.22        0.13\n",
       "Sports          112.67        0.10\n",
       "Misc            100.27        0.09\n",
       "Platform         89.28        0.08"
      ]
     },
     "execution_count": 59,
     "metadata": {},
     "output_type": "execute_result"
    }
   ],
   "source": [
    "# самые популярные жанры\n",
    "jp_genre = top5_genre(game_data, 'jp_sales')\n",
    "jp_genre"
   ]
  },
  {
   "cell_type": "code",
   "execution_count": 60,
   "metadata": {},
   "outputs": [
    {
     "data": {
      "text/html": [
       "<div>\n",
       "<style scoped>\n",
       "    .dataframe tbody tr th:only-of-type {\n",
       "        vertical-align: middle;\n",
       "    }\n",
       "\n",
       "    .dataframe tbody tr th {\n",
       "        vertical-align: top;\n",
       "    }\n",
       "\n",
       "    .dataframe thead th {\n",
       "        text-align: right;\n",
       "    }\n",
       "</style>\n",
       "<table border=\"1\" class=\"dataframe\">\n",
       "  <thead>\n",
       "    <tr style=\"text-align: right;\">\n",
       "      <th></th>\n",
       "      <th>jp_sales</th>\n",
       "      <th>%_of_total</th>\n",
       "    </tr>\n",
       "    <tr>\n",
       "      <th>rating</th>\n",
       "      <th></th>\n",
       "      <th></th>\n",
       "    </tr>\n",
       "  </thead>\n",
       "  <tbody>\n",
       "    <tr>\n",
       "      <td>E</td>\n",
       "      <td>197.96</td>\n",
       "      <td>0.44</td>\n",
       "    </tr>\n",
       "    <tr>\n",
       "      <td>T</td>\n",
       "      <td>150.70</td>\n",
       "      <td>0.33</td>\n",
       "    </tr>\n",
       "    <tr>\n",
       "      <td>M</td>\n",
       "      <td>63.58</td>\n",
       "      <td>0.14</td>\n",
       "    </tr>\n",
       "    <tr>\n",
       "      <td>E10+</td>\n",
       "      <td>40.20</td>\n",
       "      <td>0.09</td>\n",
       "    </tr>\n",
       "    <tr>\n",
       "      <td>K-A</td>\n",
       "      <td>1.46</td>\n",
       "      <td>0.00</td>\n",
       "    </tr>\n",
       "    <tr>\n",
       "      <td>AO</td>\n",
       "      <td>0.00</td>\n",
       "      <td>0.00</td>\n",
       "    </tr>\n",
       "    <tr>\n",
       "      <td>EC</td>\n",
       "      <td>0.00</td>\n",
       "      <td>0.00</td>\n",
       "    </tr>\n",
       "    <tr>\n",
       "      <td>RP</td>\n",
       "      <td>0.00</td>\n",
       "      <td>0.00</td>\n",
       "    </tr>\n",
       "  </tbody>\n",
       "</table>\n",
       "</div>"
      ],
      "text/plain": [
       "        jp_sales  %_of_total\n",
       "rating                      \n",
       "E         197.96        0.44\n",
       "T         150.70        0.33\n",
       "M          63.58        0.14\n",
       "E10+       40.20        0.09\n",
       "K-A         1.46        0.00\n",
       "AO          0.00        0.00\n",
       "EC          0.00        0.00\n",
       "RP          0.00        0.00"
      ]
     },
     "execution_count": 60,
     "metadata": {},
     "output_type": "execute_result"
    }
   ],
   "source": [
    "# количество проданных игр каждого рейтинга\n",
    "jp_rating = addiction_from_ESRB(game_data, 'jp_sales')\n",
    "jp_rating"
   ]
  },
  {
   "cell_type": "markdown",
   "metadata": {},
   "source": [
    "Класс! А вот и новые лидеры. Любимые платформы для игр у японцев - это 'DS', 'PS' и 'PS2'. Из знакомых нам до этого в топ-5 входит лишь 'PS2'. В любимых жанров совпадений уже больше. На первом месте появляется новый жанр 'Role-Playing', остальные два занимают, уже известные нам, 'Action' и 'Sports'. В 'Shooter' японцы играть не любят. А вот с рейтингами ситуация почти такая же. Первые три места: 'E', 'T' и 'M'. А вот игры с рейтингом 'AO','EC' или 'RP' в Японии вообще не продаются."
   ]
  },
  {
   "cell_type": "markdown",
   "metadata": {},
   "source": [
    "### Вывод \n",
    "\n",
    "Составили портреты среднего пользователя каждого из трёх регионов (Северная Америка, Европа и Япония). Пользователи из Северная Америки и Европы имеют схожие пристрастия к играм. А вот при описании пользователя из Японии появляются новые названия. Не зря говорят, что Япония – другой мир."
   ]
  },
  {
   "cell_type": "markdown",
   "metadata": {},
   "source": [
    "## Проверяем гипотезы"
   ]
  },
  {
   "cell_type": "markdown",
   "metadata": {},
   "source": [
    "Проверим две гипотезы:\n",
    "* Средние пользовательские рейтинги платформ Xbox One и PC одинаковые;\n",
    "* Средние пользовательские рейтинги жанров Action (англ. «действие», экшен-игры) и Sports (англ. «спортивные соревнования») разные."
   ]
  },
  {
   "cell_type": "markdown",
   "metadata": {},
   "source": [
    "Для Начала рассмотрим первую.\n",
    "\n",
    "Формируем нулевую гипотезу: Средние пользовательские рейтинги платформ Xbox One и PC равны.\n",
    "\n",
    "Формируем альтернативную гипотезу, если не произойдет нулевая гипотеза, то произойдет следующее: Средние пользовательские рейтинги платформ Xbox One и PC различаются.\n",
    "\n",
    "Использовать мы будем метод st.ttest_ind(). Значение st.ttest_ind().pvalue мы будем сравнивать со значением равным 0.05, так как он характеризует лишь 5% случаев, если 5% будут выбиваться из общей картины, это не будет повод отвергать гепотезу о равенстве."
   ]
  },
  {
   "cell_type": "code",
   "execution_count": 61,
   "metadata": {},
   "outputs": [],
   "source": [
    "# строим выборки, которые мы будем сравнивать\n",
    "proceeds_from_XOne = game_data.query('platform == \"XOne\"')['user_score']\n",
    "proceeds_from_PC = game_data.query('platform == \"PC\"')['user_score']"
   ]
  },
  {
   "cell_type": "code",
   "execution_count": 62,
   "metadata": {},
   "outputs": [
    {
     "name": "stdout",
     "output_type": "stream",
     "text": [
      "p-значение: 0.0004652379265680001\n",
      "Отвергаем нулевую гипотезу\n"
     ]
    }
   ],
   "source": [
    "# Проверим равенство наших двух совакупностей и выведем результат\n",
    "\n",
    "alpha = .05\n",
    "\n",
    "results = st.ttest_ind(proceeds_from_XOne, proceeds_from_PC, equal_var = True)\n",
    "\n",
    "print('p-значение:', results.pvalue)\n",
    "\n",
    "if (results.pvalue < alpha):\n",
    "    print(\"Отвергаем нулевую гипотезу\")\n",
    "else:\n",
    "    print(\"Не получилось отвергнуть нулевую гипотезу\")"
   ]
  },
  {
   "cell_type": "markdown",
   "metadata": {},
   "source": [
    "Вероятность того, что cредние пользовательские рейтинги платформ Xbox One и PC равны, слишком мала, меньше процента. Об этом нам говорит результат выполнения метода st.ttest_ind(), который проверяет две совокупности на равенство. Из-за этого мы подтверждаем альтернативную гипотезу о том, что средние пользовательские рейтинги платформ Xbox One и PC различаются."
   ]
  },
  {
   "cell_type": "markdown",
   "metadata": {},
   "source": [
    "Теперь переходим к следующей гипотизе.\n",
    "\n",
    "Нулевая гипотеза: Средние пользовательские рейтинги жанров Action и Sports равны.\n",
    "\n",
    "Альтернативная гипотеза: Средние пользовательские рейтинги жанров Action и Sports различаются."
   ]
  },
  {
   "cell_type": "code",
   "execution_count": 63,
   "metadata": {},
   "outputs": [],
   "source": [
    "# строим выборки, которые мы будем сравнивать\n",
    "proceeds_from_action = game_data.query('genre_name == \"Action\"')['user_score']\n",
    "proceeds_from_sports = game_data.query('genre_name == \"Sports\"')['user_score']"
   ]
  },
  {
   "cell_type": "code",
   "execution_count": 64,
   "metadata": {},
   "outputs": [
    {
     "name": "stdout",
     "output_type": "stream",
     "text": [
      "p-значение: 1.1884827974373375e-09\n",
      "Отвергаем нулевую гипотезу\n"
     ]
    }
   ],
   "source": [
    "# Проверим равенство наших двух совакупностей и выведем результат\n",
    "\n",
    "alpha = .05\n",
    "\n",
    "results = st.ttest_ind(proceeds_from_action, proceeds_from_sports, equal_var = True)\n",
    "\n",
    "print('p-значение:', results.pvalue)\n",
    "\n",
    "if (results.pvalue < alpha):\n",
    "    print(\"Отвергаем нулевую гипотезу\")\n",
    "else:\n",
    "    print(\"Не получилось отвергнуть нулевую гипотезу\")"
   ]
  },
  {
   "cell_type": "markdown",
   "metadata": {},
   "source": [
    "В этом случае мы снова отвергли нулевую гипотезу. Это значит, что средние пользовательские рейтинги жанров Action и Sports различаются."
   ]
  },
  {
   "cell_type": "markdown",
   "metadata": {},
   "source": [
    "### Вывод\n",
    "Что можно сказать о работе в этом разделе? Все просто: \n",
    "* первую гипотезу: \"Средние пользовательские рейтинги платформ Xbox One и PC одинаковые\", мы не отвергаем, так как одинаковые значения рейтингамы можем получить лишь 0.05% случаях.\n",
    "* вторую гипотезу: \"средние пользовательские рейтинги жанров Action и Sports разные.\" Её мы не можем отвергнуть, ведь процент случаев, когда пользовательский рейтинг у этих двух жанров схожий, равен значению меньше 1%.\n"
   ]
  },
  {
   "cell_type": "markdown",
   "metadata": {},
   "source": [
    "## Вывод\n",
    "\n",
    "Вот и подошла к концу наша работа. Первую часть работы мы обрабатывали наши данные. Сначала была предобработка, затем мы добавили новый столбец со значениями, которые использовали в анализе. Затем начался анализ. В нём мы составляли статистику, группировали наши данные по разным видам категорий и смотрели, как эти категории влияют на цену. Ещё мы сравнивали, как влияет разного рода рейтинг на количество проданных копий игры. После анализа мы принялись составлять портрет компьютерных игроков из разных стран. Что мы узнали? Интересы у игроков Европы и Северной Америки почти не отличались. А вот Японцы любят много необычного, в их портрете мы увидели в лидерах и новый приставки, и новые непонятные жанры. В последнем пункте мы проверяли две поставленные гипотезы о равенстве, используя метод st.ttest_ind(). Первую гипотезу: 'средние пользовательские рейтинги платформ Xbox One и PC одинаковые', мы отвергли. А вот вторую: 'средние пользовательские рейтинги жанров Action и Sports различаются', мы не смогли отвергнуть.\n",
    "\n",
    "Подводя итоги, хочется провести большую черту, и кое-что написать. Давайте вспомним нашу задачу. А звучала она примерно так: 'вам нужно выявить определяющие успешность игры закономерности. Это позволит сделать ставку на потенциально популярный продукт и спланировать рекламные кампании'.  Пиар отделу, при планировании рекламной компании, я советую сначала проанализировать все актуальные платформы, на которые выпускают игры, посмотреть на их популярность, спрогнозировать, сколько лет им осталось быть в списке 'актуальные' (в среднем этот период длится около 10 лет). Посмотреть, прошёл ли у данной платформы пик большого спроса (мы определили, что он в среднем длится 4-5 лет). Так же можно посмотреть, были ли у этой платформы предшественники, если да, то насколько успешно они себя показали. Проделав данную работу, я считаю, что именно эти факторы должны учитываться при планировании рекламной компании на следующий год для магазина по продажам игр. "
   ]
  }
 ],
 "metadata": {
  "ExecuteTimeLog": [
   {
    "duration": 1553,
    "start_time": "2021-09-14T10:57:55.720Z"
   },
   {
    "duration": 4,
    "start_time": "2021-09-14T11:04:25.720Z"
   },
   {
    "duration": 50,
    "start_time": "2021-09-14T11:05:43.121Z"
   },
   {
    "duration": 32,
    "start_time": "2021-09-14T11:05:46.229Z"
   },
   {
    "duration": 48,
    "start_time": "2021-09-14T11:07:02.635Z"
   },
   {
    "duration": 27,
    "start_time": "2021-09-14T11:07:11.659Z"
   },
   {
    "duration": 28,
    "start_time": "2021-09-14T11:07:41.524Z"
   },
   {
    "duration": 17,
    "start_time": "2021-09-14T11:07:52.214Z"
   },
   {
    "duration": 476,
    "start_time": "2021-09-14T12:53:04.258Z"
   },
   {
    "duration": 6,
    "start_time": "2021-09-14T12:53:51.942Z"
   },
   {
    "duration": 1544,
    "start_time": "2021-09-14T12:55:32.148Z"
   },
   {
    "duration": 386,
    "start_time": "2021-09-14T12:55:52.783Z"
   },
   {
    "duration": 439,
    "start_time": "2021-09-14T12:57:39.221Z"
   },
   {
    "duration": 4,
    "start_time": "2021-09-14T12:57:44.677Z"
   },
   {
    "duration": 714,
    "start_time": "2021-09-14T12:57:47.333Z"
   },
   {
    "duration": 6,
    "start_time": "2021-09-14T12:57:54.770Z"
   },
   {
    "duration": 4,
    "start_time": "2021-09-14T12:59:29.981Z"
   },
   {
    "duration": 376,
    "start_time": "2021-09-14T13:03:16.910Z"
   },
   {
    "duration": 1321,
    "start_time": "2021-09-14T13:03:36.091Z"
   },
   {
    "duration": 477,
    "start_time": "2021-09-14T13:04:23.497Z"
   },
   {
    "duration": 39,
    "start_time": "2021-09-14T13:04:26.969Z"
   },
   {
    "duration": 10,
    "start_time": "2021-09-14T13:05:16.898Z"
   },
   {
    "duration": 35,
    "start_time": "2021-09-14T13:05:21.918Z"
   },
   {
    "duration": 1057,
    "start_time": "2021-09-14T13:06:32.440Z"
   },
   {
    "duration": 6,
    "start_time": "2021-09-14T13:06:36.040Z"
   },
   {
    "duration": 34,
    "start_time": "2021-09-14T13:06:39.745Z"
   },
   {
    "duration": 54,
    "start_time": "2021-09-14T13:06:41.477Z"
   },
   {
    "duration": 4,
    "start_time": "2021-09-14T13:06:46.545Z"
   },
   {
    "duration": 4,
    "start_time": "2021-09-14T13:06:46.960Z"
   },
   {
    "duration": 49,
    "start_time": "2021-09-14T13:06:47.136Z"
   },
   {
    "duration": 29,
    "start_time": "2021-09-14T13:06:47.330Z"
   },
   {
    "duration": 22,
    "start_time": "2021-09-14T13:06:47.681Z"
   },
   {
    "duration": 6,
    "start_time": "2021-09-14T13:06:49.624Z"
   },
   {
    "duration": 5,
    "start_time": "2021-09-14T13:06:51.778Z"
   },
   {
    "duration": 36,
    "start_time": "2021-09-14T13:06:56.565Z"
   },
   {
    "duration": 5,
    "start_time": "2021-09-14T13:07:09.545Z"
   },
   {
    "duration": 7,
    "start_time": "2021-09-14T13:07:10.094Z"
   },
   {
    "duration": 6,
    "start_time": "2021-09-14T13:07:13.438Z"
   },
   {
    "duration": 6,
    "start_time": "2021-09-14T13:07:25.827Z"
   },
   {
    "duration": 355,
    "start_time": "2021-09-14T13:07:26.240Z"
   },
   {
    "duration": 366,
    "start_time": "2021-09-14T13:08:38.285Z"
   },
   {
    "duration": 364,
    "start_time": "2021-09-14T13:08:44.532Z"
   },
   {
    "duration": 4,
    "start_time": "2021-09-14T13:08:52.123Z"
   },
   {
    "duration": 5,
    "start_time": "2021-09-14T13:08:52.475Z"
   },
   {
    "duration": 49,
    "start_time": "2021-09-14T13:08:52.642Z"
   },
   {
    "duration": 29,
    "start_time": "2021-09-14T13:08:52.829Z"
   },
   {
    "duration": 14,
    "start_time": "2021-09-14T13:08:53.164Z"
   },
   {
    "duration": 5,
    "start_time": "2021-09-14T13:08:54.228Z"
   },
   {
    "duration": 6,
    "start_time": "2021-09-14T13:08:55.096Z"
   },
   {
    "duration": 34,
    "start_time": "2021-09-14T13:08:56.405Z"
   },
   {
    "duration": 11,
    "start_time": "2021-09-14T13:08:56.919Z"
   },
   {
    "duration": 35,
    "start_time": "2021-09-14T13:08:58.689Z"
   },
   {
    "duration": 4,
    "start_time": "2021-09-14T13:10:20.497Z"
   },
   {
    "duration": 35,
    "start_time": "2021-09-14T13:10:21.886Z"
   },
   {
    "duration": 14,
    "start_time": "2021-09-14T13:10:27.817Z"
   },
   {
    "duration": 396,
    "start_time": "2021-09-14T13:12:19.986Z"
   },
   {
    "duration": 35,
    "start_time": "2021-09-14T13:12:24.934Z"
   },
   {
    "duration": 5,
    "start_time": "2021-09-14T13:16:54.366Z"
   },
   {
    "duration": 52,
    "start_time": "2021-09-14T13:16:56.887Z"
   },
   {
    "duration": 11,
    "start_time": "2021-09-14T13:20:11.205Z"
   },
   {
    "duration": 10,
    "start_time": "2021-09-14T13:20:12.430Z"
   },
   {
    "duration": 59,
    "start_time": "2021-09-14T13:20:25.415Z"
   },
   {
    "duration": 8,
    "start_time": "2021-09-14T13:25:33.668Z"
   },
   {
    "duration": 1537,
    "start_time": "2021-09-14T13:25:50.950Z"
   },
   {
    "duration": 394,
    "start_time": "2021-09-14T13:26:07.959Z"
   },
   {
    "duration": 7,
    "start_time": "2021-09-14T13:26:48.418Z"
   },
   {
    "duration": 8781,
    "start_time": "2021-09-14T13:27:09.696Z"
   },
   {
    "duration": 7,
    "start_time": "2021-09-14T13:27:26.217Z"
   },
   {
    "duration": 5,
    "start_time": "2021-09-14T13:29:38.242Z"
   },
   {
    "duration": 58,
    "start_time": "2021-09-14T13:29:39.011Z"
   },
   {
    "duration": 14,
    "start_time": "2021-09-14T13:29:40.304Z"
   },
   {
    "duration": 5,
    "start_time": "2021-09-14T13:29:40.777Z"
   },
   {
    "duration": 43,
    "start_time": "2021-09-14T13:29:41.891Z"
   },
   {
    "duration": 7,
    "start_time": "2021-09-14T13:40:21.343Z"
   },
   {
    "duration": 34,
    "start_time": "2021-09-14T13:40:28.081Z"
   },
   {
    "duration": 6,
    "start_time": "2021-09-14T13:40:49.525Z"
   },
   {
    "duration": 36,
    "start_time": "2021-09-14T13:40:53.038Z"
   },
   {
    "duration": 8,
    "start_time": "2021-09-14T13:42:32.225Z"
   },
   {
    "duration": 7,
    "start_time": "2021-09-14T13:42:32.546Z"
   },
   {
    "duration": 47,
    "start_time": "2021-09-14T13:42:32.700Z"
   },
   {
    "duration": 29,
    "start_time": "2021-09-14T13:42:32.834Z"
   },
   {
    "duration": 13,
    "start_time": "2021-09-14T13:42:32.968Z"
   },
   {
    "duration": 5,
    "start_time": "2021-09-14T13:42:33.524Z"
   },
   {
    "duration": 5,
    "start_time": "2021-09-14T13:42:33.774Z"
   },
   {
    "duration": 37,
    "start_time": "2021-09-14T13:42:34.438Z"
   },
   {
    "duration": 12,
    "start_time": "2021-09-14T13:42:35.336Z"
   },
   {
    "duration": 5,
    "start_time": "2021-09-14T13:42:36.699Z"
   },
   {
    "duration": 6,
    "start_time": "2021-09-14T13:42:37.145Z"
   },
   {
    "duration": 5,
    "start_time": "2021-09-14T13:42:37.513Z"
   },
   {
    "duration": 24,
    "start_time": "2021-09-14T13:47:28.582Z"
   },
   {
    "duration": 25,
    "start_time": "2021-09-14T13:47:35.243Z"
   },
   {
    "duration": 24,
    "start_time": "2021-09-14T13:47:44.209Z"
   },
   {
    "duration": -582,
    "start_time": "2021-09-14T13:48:48.614Z"
   },
   {
    "duration": 9,
    "start_time": "2021-09-14T13:48:52.122Z"
   },
   {
    "duration": 9,
    "start_time": "2021-09-14T14:02:29.058Z"
   },
   {
    "duration": 15,
    "start_time": "2021-09-14T14:02:38.518Z"
   },
   {
    "duration": 6,
    "start_time": "2021-09-14T14:02:40.643Z"
   },
   {
    "duration": 34,
    "start_time": "2021-09-14T14:07:37.358Z"
   },
   {
    "duration": 13,
    "start_time": "2021-09-14T14:10:33.145Z"
   },
   {
    "duration": 7,
    "start_time": "2021-09-14T14:18:22.384Z"
   },
   {
    "duration": 146,
    "start_time": "2021-09-14T14:22:15.421Z"
   },
   {
    "duration": 9931,
    "start_time": "2021-09-14T14:22:28.267Z"
   },
   {
    "duration": 525,
    "start_time": "2021-09-14T14:22:47.675Z"
   },
   {
    "duration": 373,
    "start_time": "2021-09-14T14:23:14.196Z"
   },
   {
    "duration": 134,
    "start_time": "2021-09-14T14:23:29.395Z"
   },
   {
    "duration": 6,
    "start_time": "2021-09-14T14:23:35.002Z"
   },
   {
    "duration": 15,
    "start_time": "2021-09-14T15:07:12.851Z"
   },
   {
    "duration": 28,
    "start_time": "2021-09-14T15:11:53.070Z"
   },
   {
    "duration": 4,
    "start_time": "2021-09-14T15:12:14.225Z"
   },
   {
    "duration": 796,
    "start_time": "2021-09-14T15:12:46.041Z"
   },
   {
    "duration": 20,
    "start_time": "2021-09-14T15:12:55.805Z"
   },
   {
    "duration": 22,
    "start_time": "2021-09-14T15:13:02.090Z"
   },
   {
    "duration": 367,
    "start_time": "2021-09-14T15:13:17.936Z"
   },
   {
    "duration": 6,
    "start_time": "2021-09-14T15:13:32.410Z"
   },
   {
    "duration": 6,
    "start_time": "2021-09-14T15:14:00.854Z"
   },
   {
    "duration": 4,
    "start_time": "2021-09-14T15:14:07.091Z"
   },
   {
    "duration": 4,
    "start_time": "2021-09-14T15:14:07.533Z"
   },
   {
    "duration": 48,
    "start_time": "2021-09-14T15:14:08.009Z"
   },
   {
    "duration": 22,
    "start_time": "2021-09-14T15:14:08.216Z"
   },
   {
    "duration": 14,
    "start_time": "2021-09-14T15:14:08.393Z"
   },
   {
    "duration": 6,
    "start_time": "2021-09-14T15:14:08.941Z"
   },
   {
    "duration": 5,
    "start_time": "2021-09-14T15:14:09.228Z"
   },
   {
    "duration": 34,
    "start_time": "2021-09-14T15:14:09.622Z"
   },
   {
    "duration": 10,
    "start_time": "2021-09-14T15:14:09.905Z"
   },
   {
    "duration": 4,
    "start_time": "2021-09-14T15:14:10.202Z"
   },
   {
    "duration": 7,
    "start_time": "2021-09-14T15:14:10.497Z"
   },
   {
    "duration": 6,
    "start_time": "2021-09-14T15:14:10.620Z"
   },
   {
    "duration": 5,
    "start_time": "2021-09-14T15:14:10.913Z"
   },
   {
    "duration": 14,
    "start_time": "2021-09-14T15:14:11.484Z"
   },
   {
    "duration": 6,
    "start_time": "2021-09-14T15:14:11.786Z"
   },
   {
    "duration": 14,
    "start_time": "2021-09-14T15:14:11.926Z"
   },
   {
    "duration": 4,
    "start_time": "2021-09-14T15:14:12.516Z"
   },
   {
    "duration": 759,
    "start_time": "2021-09-14T15:14:12.681Z"
   },
   {
    "duration": 22,
    "start_time": "2021-09-14T15:14:13.442Z"
   },
   {
    "duration": 6,
    "start_time": "2021-09-14T15:14:14.109Z"
   },
   {
    "duration": 34,
    "start_time": "2021-09-14T15:37:18.980Z"
   },
   {
    "duration": 11,
    "start_time": "2021-09-14T15:37:31.400Z"
   },
   {
    "duration": 38,
    "start_time": "2021-09-14T15:38:48.579Z"
   },
   {
    "duration": 21,
    "start_time": "2021-09-14T15:39:09.615Z"
   },
   {
    "duration": -1219,
    "start_time": "2021-09-14T15:39:42.820Z"
   },
   {
    "duration": 20,
    "start_time": "2021-09-14T15:39:57.294Z"
   },
   {
    "duration": 15,
    "start_time": "2021-09-14T15:41:06.790Z"
   },
   {
    "duration": 20,
    "start_time": "2021-09-14T15:41:10.997Z"
   },
   {
    "duration": 22,
    "start_time": "2021-09-14T15:46:35.954Z"
   },
   {
    "duration": 14,
    "start_time": "2021-09-14T15:46:50.532Z"
   },
   {
    "duration": 22,
    "start_time": "2021-09-14T15:47:12.175Z"
   },
   {
    "duration": 403,
    "start_time": "2021-09-14T15:47:32.538Z"
   },
   {
    "duration": 24,
    "start_time": "2021-09-14T15:47:42.041Z"
   },
   {
    "duration": 22,
    "start_time": "2021-09-14T15:47:54.473Z"
   },
   {
    "duration": 23,
    "start_time": "2021-09-14T15:49:11.798Z"
   },
   {
    "duration": 22,
    "start_time": "2021-09-14T15:49:13.667Z"
   },
   {
    "duration": 33,
    "start_time": "2021-09-14T15:52:27.845Z"
   },
   {
    "duration": 23,
    "start_time": "2021-09-14T15:52:53.763Z"
   },
   {
    "duration": 23,
    "start_time": "2021-09-14T15:53:21.061Z"
   },
   {
    "duration": 23,
    "start_time": "2021-09-14T15:53:38.373Z"
   },
   {
    "duration": 22,
    "start_time": "2021-09-14T15:53:56.173Z"
   },
   {
    "duration": 22,
    "start_time": "2021-09-14T15:53:59.636Z"
   },
   {
    "duration": 23,
    "start_time": "2021-09-14T15:54:32.058Z"
   },
   {
    "duration": 316,
    "start_time": "2021-09-14T15:59:56.203Z"
   },
   {
    "duration": 352,
    "start_time": "2021-09-14T16:00:59.600Z"
   },
   {
    "duration": 316,
    "start_time": "2021-09-14T16:01:05.256Z"
   },
   {
    "duration": 410,
    "start_time": "2021-09-14T16:01:07.834Z"
   },
   {
    "duration": 5,
    "start_time": "2021-09-14T16:02:22.580Z"
   },
   {
    "duration": 24,
    "start_time": "2021-09-14T16:02:23.110Z"
   },
   {
    "duration": 325,
    "start_time": "2021-09-14T16:02:23.761Z"
   },
   {
    "duration": 358,
    "start_time": "2021-09-14T16:03:06.532Z"
   },
   {
    "duration": 343,
    "start_time": "2021-09-14T16:03:13.134Z"
   },
   {
    "duration": 357,
    "start_time": "2021-09-14T16:03:18.275Z"
   },
   {
    "duration": 346,
    "start_time": "2021-09-14T16:04:59.329Z"
   },
   {
    "duration": 340,
    "start_time": "2021-09-14T16:05:21.615Z"
   },
   {
    "duration": 335,
    "start_time": "2021-09-14T16:05:48.060Z"
   },
   {
    "duration": 358,
    "start_time": "2021-09-14T16:06:37.893Z"
   },
   {
    "duration": 559,
    "start_time": "2021-09-14T16:06:46.993Z"
   },
   {
    "duration": 329,
    "start_time": "2021-09-14T16:06:51.855Z"
   },
   {
    "duration": 317,
    "start_time": "2021-09-14T16:06:57.331Z"
   },
   {
    "duration": 24,
    "start_time": "2021-09-14T17:00:38.380Z"
   },
   {
    "duration": 430,
    "start_time": "2021-09-15T07:33:00.018Z"
   },
   {
    "duration": 367,
    "start_time": "2021-09-15T07:33:22.632Z"
   },
   {
    "duration": 1441,
    "start_time": "2021-09-15T07:33:33.685Z"
   },
   {
    "duration": 3,
    "start_time": "2021-09-15T07:33:35.129Z"
   },
   {
    "duration": 52,
    "start_time": "2021-09-15T07:33:35.135Z"
   },
   {
    "duration": 24,
    "start_time": "2021-09-15T07:33:35.190Z"
   },
   {
    "duration": 17,
    "start_time": "2021-09-15T07:33:35.216Z"
   },
   {
    "duration": 5,
    "start_time": "2021-09-15T07:33:35.236Z"
   },
   {
    "duration": 7,
    "start_time": "2021-09-15T07:33:35.243Z"
   },
   {
    "duration": 1437,
    "start_time": "2021-09-15T07:33:35.283Z"
   },
   {
    "duration": 13,
    "start_time": "2021-09-15T07:33:36.724Z"
   },
   {
    "duration": 5,
    "start_time": "2021-09-15T07:33:36.740Z"
   },
   {
    "duration": 35,
    "start_time": "2021-09-15T07:33:36.747Z"
   },
   {
    "duration": 12,
    "start_time": "2021-09-15T07:33:36.785Z"
   },
   {
    "duration": 16,
    "start_time": "2021-09-15T07:33:36.799Z"
   },
   {
    "duration": 20,
    "start_time": "2021-09-15T07:33:36.818Z"
   },
   {
    "duration": 5,
    "start_time": "2021-09-15T07:33:36.841Z"
   },
   {
    "duration": 34,
    "start_time": "2021-09-15T07:33:36.848Z"
   },
   {
    "duration": 4,
    "start_time": "2021-09-15T07:33:36.885Z"
   },
   {
    "duration": 715,
    "start_time": "2021-09-15T07:33:36.891Z"
   },
   {
    "duration": 22,
    "start_time": "2021-09-15T07:33:37.608Z"
   },
   {
    "duration": 24,
    "start_time": "2021-09-15T07:33:37.632Z"
   },
   {
    "duration": 53,
    "start_time": "2021-09-15T07:33:37.659Z"
   },
   {
    "duration": 5,
    "start_time": "2021-09-15T07:33:37.715Z"
   },
   {
    "duration": 62,
    "start_time": "2021-09-15T07:33:37.726Z"
   },
   {
    "duration": 346,
    "start_time": "2021-09-15T07:33:37.791Z"
   },
   {
    "duration": 22,
    "start_time": "2021-09-15T07:33:38.140Z"
   },
   {
    "duration": 321,
    "start_time": "2021-09-15T07:33:38.183Z"
   },
   {
    "duration": 22,
    "start_time": "2021-09-15T07:33:38.506Z"
   },
   {
    "duration": 315,
    "start_time": "2021-09-15T07:33:38.530Z"
   },
   {
    "duration": 500,
    "start_time": "2021-09-15T07:33:38.848Z"
   },
   {
    "duration": 19,
    "start_time": "2021-09-15T07:34:09.170Z"
   },
   {
    "duration": 42,
    "start_time": "2021-09-15T07:34:27.824Z"
   },
   {
    "duration": 35,
    "start_time": "2021-09-15T07:34:41.014Z"
   },
   {
    "duration": 330,
    "start_time": "2021-09-15T07:35:11.415Z"
   },
   {
    "duration": 361,
    "start_time": "2021-09-15T07:35:22.284Z"
   },
   {
    "duration": 313,
    "start_time": "2021-09-15T07:35:29.484Z"
   },
   {
    "duration": 39,
    "start_time": "2021-09-15T07:35:34.164Z"
   },
   {
    "duration": 46,
    "start_time": "2021-09-15T07:36:21.590Z"
   },
   {
    "duration": 373,
    "start_time": "2021-09-15T07:36:46.198Z"
   },
   {
    "duration": 44,
    "start_time": "2021-09-15T07:36:58.586Z"
   },
   {
    "duration": 21,
    "start_time": "2021-09-15T07:37:11.765Z"
   },
   {
    "duration": 406,
    "start_time": "2021-09-15T07:38:05.198Z"
   },
   {
    "duration": 861,
    "start_time": "2021-09-15T07:38:12.847Z"
   },
   {
    "duration": 423,
    "start_time": "2021-09-15T07:38:30.430Z"
   },
   {
    "duration": 36,
    "start_time": "2021-09-15T07:40:46.395Z"
   },
   {
    "duration": 5,
    "start_time": "2021-09-15T07:41:04.040Z"
   },
   {
    "duration": 3,
    "start_time": "2021-09-15T07:41:13.414Z"
   },
   {
    "duration": 13,
    "start_time": "2021-09-15T07:41:16.677Z"
   },
   {
    "duration": 4,
    "start_time": "2021-09-15T07:41:21.499Z"
   },
   {
    "duration": 4,
    "start_time": "2021-09-15T07:41:29.331Z"
   },
   {
    "duration": 13,
    "start_time": "2021-09-15T07:41:29.778Z"
   },
   {
    "duration": 4,
    "start_time": "2021-09-15T07:42:32.477Z"
   },
   {
    "duration": 11,
    "start_time": "2021-09-15T07:42:33.006Z"
   },
   {
    "duration": 4,
    "start_time": "2021-09-15T07:42:58.189Z"
   },
   {
    "duration": 12,
    "start_time": "2021-09-15T07:42:58.629Z"
   },
   {
    "duration": 307,
    "start_time": "2021-09-15T07:51:05.745Z"
   },
   {
    "duration": 14,
    "start_time": "2021-09-15T07:51:08.599Z"
   },
   {
    "duration": 1275,
    "start_time": "2021-09-15T08:19:05.405Z"
   },
   {
    "duration": 1397,
    "start_time": "2021-09-15T08:19:15.948Z"
   },
   {
    "duration": 19,
    "start_time": "2021-09-15T08:19:40.099Z"
   },
   {
    "duration": 42,
    "start_time": "2021-09-15T08:19:43.415Z"
   },
   {
    "duration": 13,
    "start_time": "2021-09-15T08:19:53.863Z"
   },
   {
    "duration": 38,
    "start_time": "2021-09-15T08:20:04.396Z"
   },
   {
    "duration": 41,
    "start_time": "2021-09-15T08:20:08.897Z"
   },
   {
    "duration": 12,
    "start_time": "2021-09-15T08:20:09.397Z"
   },
   {
    "duration": 45,
    "start_time": "2021-09-15T08:20:42.368Z"
   },
   {
    "duration": 46,
    "start_time": "2021-09-15T08:20:51.632Z"
   },
   {
    "duration": 38,
    "start_time": "2021-09-15T08:22:36.410Z"
   },
   {
    "duration": 52,
    "start_time": "2021-09-15T08:22:40.661Z"
   },
   {
    "duration": 10,
    "start_time": "2021-09-15T08:23:17.381Z"
   },
   {
    "duration": 100,
    "start_time": "2021-09-15T08:23:41.247Z"
   },
   {
    "duration": 10,
    "start_time": "2021-09-15T08:23:46.207Z"
   },
   {
    "duration": 116,
    "start_time": "2021-09-15T08:25:10.434Z"
   },
   {
    "duration": 605,
    "start_time": "2021-09-15T08:25:16.141Z"
   },
   {
    "duration": 332,
    "start_time": "2021-09-15T08:26:14.167Z"
   },
   {
    "duration": 350,
    "start_time": "2021-09-15T08:26:24.270Z"
   },
   {
    "duration": 305,
    "start_time": "2021-09-15T08:26:33.690Z"
   },
   {
    "duration": 314,
    "start_time": "2021-09-15T08:26:39.271Z"
   },
   {
    "duration": 44,
    "start_time": "2021-09-15T08:26:42.320Z"
   },
   {
    "duration": 27,
    "start_time": "2021-09-15T08:26:50.185Z"
   },
   {
    "duration": 27,
    "start_time": "2021-09-15T08:27:07.687Z"
   },
   {
    "duration": 317,
    "start_time": "2021-09-15T08:27:44.406Z"
   },
   {
    "duration": 26,
    "start_time": "2021-09-15T08:27:58.115Z"
   },
   {
    "duration": 285,
    "start_time": "2021-09-15T08:28:15.604Z"
   },
   {
    "duration": 484,
    "start_time": "2021-09-15T08:28:35.674Z"
   },
   {
    "duration": 332,
    "start_time": "2021-09-15T08:28:50.224Z"
   },
   {
    "duration": 26,
    "start_time": "2021-09-15T08:29:01.501Z"
   },
   {
    "duration": 22,
    "start_time": "2021-09-15T08:29:06.568Z"
   },
   {
    "duration": 25,
    "start_time": "2021-09-15T08:29:12.340Z"
   },
   {
    "duration": 346,
    "start_time": "2021-09-15T08:29:45.817Z"
   },
   {
    "duration": 27,
    "start_time": "2021-09-15T08:30:00.587Z"
   },
   {
    "duration": 25,
    "start_time": "2021-09-15T08:30:14.292Z"
   },
   {
    "duration": 48,
    "start_time": "2021-09-15T08:35:10.819Z"
   },
   {
    "duration": 31,
    "start_time": "2021-09-15T08:35:34.394Z"
   },
   {
    "duration": 47,
    "start_time": "2021-09-15T08:37:17.202Z"
   },
   {
    "duration": 30,
    "start_time": "2021-09-15T08:37:42.273Z"
   },
   {
    "duration": 24,
    "start_time": "2021-09-15T08:37:55.466Z"
   },
   {
    "duration": 18,
    "start_time": "2021-09-15T08:38:48.191Z"
   },
   {
    "duration": 17,
    "start_time": "2021-09-15T08:39:48.841Z"
   },
   {
    "duration": 337,
    "start_time": "2021-09-15T08:40:23.212Z"
   },
   {
    "duration": 24,
    "start_time": "2021-09-15T08:40:57.220Z"
   },
   {
    "duration": 557,
    "start_time": "2021-09-15T09:18:26.761Z"
   },
   {
    "duration": 4,
    "start_time": "2021-09-15T09:19:18.024Z"
   },
   {
    "duration": 578,
    "start_time": "2021-09-15T09:19:31.223Z"
   },
   {
    "duration": 553,
    "start_time": "2021-09-15T09:22:59.245Z"
   },
   {
    "duration": 644,
    "start_time": "2021-09-15T09:23:04.110Z"
   },
   {
    "duration": 563,
    "start_time": "2021-09-15T09:23:09.539Z"
   },
   {
    "duration": 567,
    "start_time": "2021-09-15T09:23:14.124Z"
   },
   {
    "duration": 631,
    "start_time": "2021-09-15T09:23:19.813Z"
   },
   {
    "duration": 523,
    "start_time": "2021-09-15T09:23:41.836Z"
   },
   {
    "duration": 529,
    "start_time": "2021-09-15T09:23:45.768Z"
   },
   {
    "duration": 764,
    "start_time": "2021-09-15T09:23:51.872Z"
   },
   {
    "duration": 651,
    "start_time": "2021-09-15T09:23:57.022Z"
   },
   {
    "duration": 658,
    "start_time": "2021-09-15T09:24:20.206Z"
   },
   {
    "duration": 604,
    "start_time": "2021-09-15T09:24:25.251Z"
   },
   {
    "duration": 644,
    "start_time": "2021-09-15T09:26:48.658Z"
   },
   {
    "duration": 723,
    "start_time": "2021-09-15T09:26:59.036Z"
   },
   {
    "duration": 4,
    "start_time": "2021-09-15T09:36:41.530Z"
   },
   {
    "duration": 9,
    "start_time": "2021-09-15T09:37:17.432Z"
   },
   {
    "duration": 50,
    "start_time": "2021-09-15T09:42:38.293Z"
   },
   {
    "duration": 49,
    "start_time": "2021-09-15T09:42:45.906Z"
   },
   {
    "duration": 48,
    "start_time": "2021-09-15T09:43:13.414Z"
   },
   {
    "duration": 48,
    "start_time": "2021-09-15T09:43:26.640Z"
   },
   {
    "duration": 49,
    "start_time": "2021-09-15T09:43:39.134Z"
   },
   {
    "duration": 380,
    "start_time": "2021-09-15T09:45:07.350Z"
   },
   {
    "duration": 327,
    "start_time": "2021-09-15T09:45:22.747Z"
   },
   {
    "duration": 365,
    "start_time": "2021-09-15T09:45:30.398Z"
   },
   {
    "duration": 18,
    "start_time": "2021-09-15T09:46:33.299Z"
   },
   {
    "duration": 6,
    "start_time": "2021-09-15T09:46:54.346Z"
   },
   {
    "duration": 15,
    "start_time": "2021-09-15T09:46:56.859Z"
   },
   {
    "duration": 397,
    "start_time": "2021-09-15T09:47:00.029Z"
   },
   {
    "duration": 16,
    "start_time": "2021-09-15T09:47:00.561Z"
   },
   {
    "duration": 307,
    "start_time": "2021-09-15T10:12:15.173Z"
   },
   {
    "duration": 19,
    "start_time": "2021-09-15T10:12:17.894Z"
   },
   {
    "duration": 352,
    "start_time": "2021-09-15T10:12:18.377Z"
   },
   {
    "duration": 51,
    "start_time": "2021-09-15T10:12:29.713Z"
   },
   {
    "duration": 20,
    "start_time": "2021-09-15T10:12:33.326Z"
   },
   {
    "duration": 19,
    "start_time": "2021-09-15T10:12:34.142Z"
   },
   {
    "duration": 13,
    "start_time": "2021-09-15T10:12:42.012Z"
   },
   {
    "duration": 454,
    "start_time": "2021-09-15T10:12:52.755Z"
   },
   {
    "duration": 14,
    "start_time": "2021-09-15T10:12:53.599Z"
   },
   {
    "duration": 7,
    "start_time": "2021-09-15T10:13:06.083Z"
   },
   {
    "duration": 15,
    "start_time": "2021-09-15T10:13:06.758Z"
   },
   {
    "duration": 13,
    "start_time": "2021-09-15T10:13:37.219Z"
   },
   {
    "duration": 446,
    "start_time": "2021-09-15T10:13:37.600Z"
   },
   {
    "duration": 15,
    "start_time": "2021-09-15T10:13:38.730Z"
   },
   {
    "duration": 47,
    "start_time": "2021-09-15T10:13:46.854Z"
   },
   {
    "duration": 14,
    "start_time": "2021-09-15T10:13:48.026Z"
   },
   {
    "duration": 6,
    "start_time": "2021-09-15T10:13:48.642Z"
   },
   {
    "duration": 21,
    "start_time": "2021-09-15T10:13:55.510Z"
   },
   {
    "duration": 333,
    "start_time": "2021-09-15T10:13:58.905Z"
   },
   {
    "duration": 14,
    "start_time": "2021-09-15T10:13:59.586Z"
   },
   {
    "duration": 51,
    "start_time": "2021-09-15T10:14:13.991Z"
   },
   {
    "duration": 20,
    "start_time": "2021-09-15T10:14:18.286Z"
   },
   {
    "duration": 5,
    "start_time": "2021-09-15T10:14:19.062Z"
   },
   {
    "duration": 6,
    "start_time": "2021-09-15T10:14:26.615Z"
   },
   {
    "duration": 16,
    "start_time": "2021-09-15T10:14:29.741Z"
   },
   {
    "duration": 15,
    "start_time": "2021-09-15T10:14:39.261Z"
   },
   {
    "duration": 24,
    "start_time": "2021-09-15T10:24:24.048Z"
   },
   {
    "duration": 22,
    "start_time": "2021-09-15T10:24:33.832Z"
   },
   {
    "duration": 23,
    "start_time": "2021-09-15T10:24:50.764Z"
   },
   {
    "duration": 22,
    "start_time": "2021-09-15T10:25:19.847Z"
   },
   {
    "duration": 318,
    "start_time": "2021-09-15T10:25:36.540Z"
   },
   {
    "duration": 329,
    "start_time": "2021-09-15T10:26:11.166Z"
   },
   {
    "duration": 343,
    "start_time": "2021-09-15T10:29:03.747Z"
   },
   {
    "duration": 1574,
    "start_time": "2021-09-15T10:30:23.678Z"
   },
   {
    "duration": 1710,
    "start_time": "2021-09-15T10:30:36.165Z"
   },
   {
    "duration": 1594,
    "start_time": "2021-09-15T10:30:46.917Z"
   },
   {
    "duration": 2000,
    "start_time": "2021-09-15T10:31:40.295Z"
   },
   {
    "duration": 1750,
    "start_time": "2021-09-15T10:32:36.181Z"
   },
   {
    "duration": 14,
    "start_time": "2021-09-15T10:57:35.529Z"
   },
   {
    "duration": 15,
    "start_time": "2021-09-15T10:58:16.434Z"
   },
   {
    "duration": 17,
    "start_time": "2021-09-15T11:01:18.124Z"
   },
   {
    "duration": 16,
    "start_time": "2021-09-15T11:02:40.750Z"
   },
   {
    "duration": 6,
    "start_time": "2021-09-15T11:06:24.152Z"
   },
   {
    "duration": 16,
    "start_time": "2021-09-15T11:06:28.931Z"
   },
   {
    "duration": 4,
    "start_time": "2021-09-15T11:07:48.547Z"
   },
   {
    "duration": 5,
    "start_time": "2021-09-15T11:09:45.261Z"
   },
   {
    "duration": 5,
    "start_time": "2021-09-15T11:10:55.983Z"
   },
   {
    "duration": 5,
    "start_time": "2021-09-15T11:11:04.920Z"
   },
   {
    "duration": 6,
    "start_time": "2021-09-15T11:11:22.703Z"
   },
   {
    "duration": 6,
    "start_time": "2021-09-15T11:11:57.134Z"
   },
   {
    "duration": 6,
    "start_time": "2021-09-15T11:12:06.801Z"
   },
   {
    "duration": 6,
    "start_time": "2021-09-15T11:12:23.092Z"
   },
   {
    "duration": 15,
    "start_time": "2021-09-15T11:29:25.380Z"
   },
   {
    "duration": 406,
    "start_time": "2021-09-15T11:29:47.574Z"
   },
   {
    "duration": 10702,
    "start_time": "2021-09-15T11:30:05.759Z"
   },
   {
    "duration": 15,
    "start_time": "2021-09-15T11:30:17.317Z"
   },
   {
    "duration": 13,
    "start_time": "2021-09-15T11:30:45.709Z"
   },
   {
    "duration": 378,
    "start_time": "2021-09-15T11:30:57.088Z"
   },
   {
    "duration": 9,
    "start_time": "2021-09-15T11:31:05.915Z"
   },
   {
    "duration": 7,
    "start_time": "2021-09-15T11:31:09.430Z"
   },
   {
    "duration": 11,
    "start_time": "2021-09-15T11:31:16.413Z"
   },
   {
    "duration": 16,
    "start_time": "2021-09-15T11:31:20.357Z"
   },
   {
    "duration": 15,
    "start_time": "2021-09-15T11:31:32.357Z"
   },
   {
    "duration": 14,
    "start_time": "2021-09-15T11:33:19.979Z"
   },
   {
    "duration": 14,
    "start_time": "2021-09-15T11:33:44.906Z"
   },
   {
    "duration": 8,
    "start_time": "2021-09-15T11:34:00.796Z"
   },
   {
    "duration": 14,
    "start_time": "2021-09-15T11:34:04.386Z"
   },
   {
    "duration": 1833,
    "start_time": "2021-09-15T11:34:14.376Z"
   },
   {
    "duration": 1454,
    "start_time": "2021-09-15T11:34:26.534Z"
   },
   {
    "duration": 5,
    "start_time": "2021-09-15T11:34:27.991Z"
   },
   {
    "duration": 51,
    "start_time": "2021-09-15T11:34:27.999Z"
   },
   {
    "duration": 31,
    "start_time": "2021-09-15T11:34:28.053Z"
   },
   {
    "duration": 17,
    "start_time": "2021-09-15T11:34:28.086Z"
   },
   {
    "duration": 5,
    "start_time": "2021-09-15T11:34:28.106Z"
   },
   {
    "duration": 4,
    "start_time": "2021-09-15T11:34:28.114Z"
   },
   {
    "duration": 769,
    "start_time": "2021-09-15T11:34:28.122Z"
   },
   {
    "duration": 13,
    "start_time": "2021-09-15T11:34:28.896Z"
   },
   {
    "duration": 5,
    "start_time": "2021-09-15T11:34:28.911Z"
   },
   {
    "duration": 9,
    "start_time": "2021-09-15T11:34:28.918Z"
   },
   {
    "duration": 25,
    "start_time": "2021-09-15T11:34:28.929Z"
   },
   {
    "duration": 9,
    "start_time": "2021-09-15T11:34:28.956Z"
   },
   {
    "duration": 27,
    "start_time": "2021-09-15T11:34:28.967Z"
   },
   {
    "duration": 6,
    "start_time": "2021-09-15T11:34:28.996Z"
   },
   {
    "duration": 15,
    "start_time": "2021-09-15T11:34:29.004Z"
   },
   {
    "duration": 4,
    "start_time": "2021-09-15T11:34:29.022Z"
   },
   {
    "duration": 776,
    "start_time": "2021-09-15T11:34:29.029Z"
   },
   {
    "duration": 23,
    "start_time": "2021-09-15T11:34:29.808Z"
   },
   {
    "duration": 16,
    "start_time": "2021-09-15T11:34:29.834Z"
   },
   {
    "duration": 42,
    "start_time": "2021-09-15T11:34:29.853Z"
   },
   {
    "duration": 657,
    "start_time": "2021-09-15T11:34:29.898Z"
   },
   {
    "duration": 62,
    "start_time": "2021-09-15T11:34:30.559Z"
   },
   {
    "duration": 21,
    "start_time": "2021-09-15T11:34:30.624Z"
   },
   {
    "duration": 11,
    "start_time": "2021-09-15T11:34:30.647Z"
   },
   {
    "duration": 54,
    "start_time": "2021-09-15T11:34:30.661Z"
   },
   {
    "duration": 1791,
    "start_time": "2021-09-15T11:34:30.719Z"
   },
   {
    "duration": 16,
    "start_time": "2021-09-15T11:34:32.513Z"
   },
   {
    "duration": 1098,
    "start_time": "2021-09-15T11:34:32.532Z"
   },
   {
    "duration": 143,
    "start_time": "2021-09-15T11:34:33.489Z"
   },
   {
    "duration": 116,
    "start_time": "2021-09-15T11:34:33.518Z"
   },
   {
    "duration": 16,
    "start_time": "2021-09-15T11:34:51.077Z"
   },
   {
    "duration": 10,
    "start_time": "2021-09-15T11:35:17.347Z"
   },
   {
    "duration": 15,
    "start_time": "2021-09-15T11:35:19.797Z"
   },
   {
    "duration": 21,
    "start_time": "2021-09-15T11:35:32.428Z"
   },
   {
    "duration": 18,
    "start_time": "2021-09-15T11:35:49.310Z"
   },
   {
    "duration": 6,
    "start_time": "2021-09-15T11:55:07.822Z"
   },
   {
    "duration": 15,
    "start_time": "2021-09-15T11:55:11.955Z"
   },
   {
    "duration": 6,
    "start_time": "2021-09-15T11:55:15.672Z"
   },
   {
    "duration": 6,
    "start_time": "2021-09-15T12:25:15.452Z"
   },
   {
    "duration": 6,
    "start_time": "2021-09-15T12:25:34.675Z"
   },
   {
    "duration": 2907,
    "start_time": "2021-09-15T12:26:30.835Z"
   },
   {
    "duration": 2845,
    "start_time": "2021-09-15T12:26:49.870Z"
   },
   {
    "duration": 1606,
    "start_time": "2021-09-15T12:27:06.046Z"
   },
   {
    "duration": 2926,
    "start_time": "2021-09-15T12:27:58.572Z"
   },
   {
    "duration": 2850,
    "start_time": "2021-09-15T12:28:28.609Z"
   },
   {
    "duration": 2849,
    "start_time": "2021-09-15T12:32:41.756Z"
   },
   {
    "duration": 2918,
    "start_time": "2021-09-15T12:32:45.411Z"
   },
   {
    "duration": 319,
    "start_time": "2021-09-15T12:52:56.605Z"
   },
   {
    "duration": 529,
    "start_time": "2021-09-15T12:53:38.665Z"
   },
   {
    "duration": 539,
    "start_time": "2021-09-15T12:53:58.371Z"
   },
   {
    "duration": 1849,
    "start_time": "2021-09-15T12:54:07.851Z"
   },
   {
    "duration": 1784,
    "start_time": "2021-09-15T12:55:52.966Z"
   },
   {
    "duration": 30,
    "start_time": "2021-09-15T12:56:33.708Z"
   },
   {
    "duration": 989,
    "start_time": "2021-09-15T12:56:42.521Z"
   },
   {
    "duration": 470,
    "start_time": "2021-09-15T12:57:01.695Z"
   },
   {
    "duration": 130,
    "start_time": "2021-09-15T12:57:21.966Z"
   },
   {
    "duration": 1860,
    "start_time": "2021-09-15T12:57:57.726Z"
   },
   {
    "duration": 1936,
    "start_time": "2021-09-15T12:59:34.026Z"
   },
   {
    "duration": 1996,
    "start_time": "2021-09-15T13:00:23.127Z"
   },
   {
    "duration": 2873,
    "start_time": "2021-09-15T13:00:54.658Z"
   },
   {
    "duration": 2216,
    "start_time": "2021-09-15T13:01:16.104Z"
   },
   {
    "duration": 2142,
    "start_time": "2021-09-15T13:01:24.137Z"
   },
   {
    "duration": 1946,
    "start_time": "2021-09-15T13:01:44.168Z"
   },
   {
    "duration": 2046,
    "start_time": "2021-09-15T13:03:29.285Z"
   },
   {
    "duration": 2638,
    "start_time": "2021-09-15T13:03:55.473Z"
   },
   {
    "duration": 2157,
    "start_time": "2021-09-15T13:04:13.679Z"
   },
   {
    "duration": 1532,
    "start_time": "2021-09-15T14:24:40.321Z"
   },
   {
    "duration": 4,
    "start_time": "2021-09-15T14:24:41.855Z"
   },
   {
    "duration": 66,
    "start_time": "2021-09-15T14:24:41.862Z"
   },
   {
    "duration": 24,
    "start_time": "2021-09-15T14:24:41.931Z"
   },
   {
    "duration": 26,
    "start_time": "2021-09-15T14:24:41.957Z"
   },
   {
    "duration": 4,
    "start_time": "2021-09-15T14:24:41.986Z"
   },
   {
    "duration": 18,
    "start_time": "2021-09-15T14:24:41.992Z"
   },
   {
    "duration": 823,
    "start_time": "2021-09-15T14:24:42.014Z"
   },
   {
    "duration": 14,
    "start_time": "2021-09-15T14:24:42.841Z"
   },
   {
    "duration": 12,
    "start_time": "2021-09-15T14:24:42.858Z"
   },
   {
    "duration": 14,
    "start_time": "2021-09-15T14:24:42.872Z"
   },
   {
    "duration": 8,
    "start_time": "2021-09-15T14:24:42.888Z"
   },
   {
    "duration": 13,
    "start_time": "2021-09-15T14:24:42.898Z"
   },
   {
    "duration": 22,
    "start_time": "2021-09-15T14:24:42.913Z"
   },
   {
    "duration": 7,
    "start_time": "2021-09-15T14:24:42.938Z"
   },
   {
    "duration": 44,
    "start_time": "2021-09-15T14:24:42.948Z"
   },
   {
    "duration": 5,
    "start_time": "2021-09-15T14:24:42.995Z"
   },
   {
    "duration": 786,
    "start_time": "2021-09-15T14:24:43.003Z"
   },
   {
    "duration": 24,
    "start_time": "2021-09-15T14:24:43.792Z"
   },
   {
    "duration": 4,
    "start_time": "2021-09-15T14:24:43.819Z"
   },
   {
    "duration": 58,
    "start_time": "2021-09-15T14:24:43.827Z"
   },
   {
    "duration": 712,
    "start_time": "2021-09-15T14:24:43.888Z"
   },
   {
    "duration": 53,
    "start_time": "2021-09-15T14:24:44.606Z"
   },
   {
    "duration": 23,
    "start_time": "2021-09-15T14:24:44.683Z"
   },
   {
    "duration": 5,
    "start_time": "2021-09-15T14:24:44.709Z"
   },
   {
    "duration": 26,
    "start_time": "2021-09-15T14:24:44.717Z"
   },
   {
    "duration": 1778,
    "start_time": "2021-09-15T14:24:44.746Z"
   },
   {
    "duration": 17,
    "start_time": "2021-09-15T14:24:46.526Z"
   },
   {
    "duration": 36,
    "start_time": "2021-09-15T14:24:46.546Z"
   },
   {
    "duration": 17,
    "start_time": "2021-09-15T14:24:46.586Z"
   },
   {
    "duration": 3141,
    "start_time": "2021-09-15T14:24:46.606Z"
   },
   {
    "duration": 2269,
    "start_time": "2021-09-15T14:24:49.750Z"
   },
   {
    "duration": 6,
    "start_time": "2021-09-15T14:27:01.965Z"
   },
   {
    "duration": 545,
    "start_time": "2021-09-15T14:33:24.573Z"
   },
   {
    "duration": 2263,
    "start_time": "2021-09-15T14:33:29.308Z"
   },
   {
    "duration": 348,
    "start_time": "2021-09-15T14:34:17.259Z"
   },
   {
    "duration": 4,
    "start_time": "2021-09-15T14:34:23.695Z"
   },
   {
    "duration": 2005,
    "start_time": "2021-09-15T14:34:24.363Z"
   },
   {
    "duration": 9,
    "start_time": "2021-09-15T14:35:08.223Z"
   },
   {
    "duration": 2240,
    "start_time": "2021-09-15T14:35:25.647Z"
   },
   {
    "duration": 2038,
    "start_time": "2021-09-15T14:35:33.250Z"
   },
   {
    "duration": 1975,
    "start_time": "2021-09-15T14:35:39.888Z"
   },
   {
    "duration": 10,
    "start_time": "2021-09-15T14:35:58.395Z"
   },
   {
    "duration": 2186,
    "start_time": "2021-09-15T14:35:58.986Z"
   },
   {
    "duration": 10,
    "start_time": "2021-09-15T14:36:09.798Z"
   },
   {
    "duration": 2128,
    "start_time": "2021-09-15T14:36:10.379Z"
   },
   {
    "duration": 10,
    "start_time": "2021-09-15T14:36:22.371Z"
   },
   {
    "duration": 2085,
    "start_time": "2021-09-15T14:36:22.794Z"
   },
   {
    "duration": 11,
    "start_time": "2021-09-15T14:36:39.077Z"
   },
   {
    "duration": 11,
    "start_time": "2021-09-15T14:36:46.183Z"
   },
   {
    "duration": 2185,
    "start_time": "2021-09-15T14:36:47.375Z"
   },
   {
    "duration": 10,
    "start_time": "2021-09-15T14:36:58.476Z"
   },
   {
    "duration": 2166,
    "start_time": "2021-09-15T14:36:59.059Z"
   },
   {
    "duration": 10,
    "start_time": "2021-09-15T14:37:32.672Z"
   },
   {
    "duration": 8,
    "start_time": "2021-09-15T14:37:43.301Z"
   },
   {
    "duration": 1962,
    "start_time": "2021-09-15T14:37:43.740Z"
   },
   {
    "duration": 2199,
    "start_time": "2021-09-15T14:41:17.270Z"
   },
   {
    "duration": 2123,
    "start_time": "2021-09-15T14:41:37.877Z"
   },
   {
    "duration": 8,
    "start_time": "2021-09-15T14:42:05.836Z"
   },
   {
    "duration": 8,
    "start_time": "2021-09-15T15:17:36.943Z"
   },
   {
    "duration": 2132,
    "start_time": "2021-09-15T15:17:37.436Z"
   },
   {
    "duration": 34,
    "start_time": "2021-09-15T15:54:07.791Z"
   },
   {
    "duration": 9,
    "start_time": "2021-09-15T15:54:20.073Z"
   },
   {
    "duration": 36,
    "start_time": "2021-09-15T15:54:23.818Z"
   },
   {
    "duration": 12,
    "start_time": "2021-09-15T15:54:53.207Z"
   },
   {
    "duration": 20,
    "start_time": "2021-09-15T15:56:21.058Z"
   },
   {
    "duration": 362,
    "start_time": "2021-09-15T15:56:44.466Z"
   },
   {
    "duration": 8,
    "start_time": "2021-09-15T15:56:48.814Z"
   },
   {
    "duration": 403,
    "start_time": "2021-09-15T15:56:53.055Z"
   },
   {
    "duration": 872,
    "start_time": "2021-09-15T15:57:04.019Z"
   },
   {
    "duration": 11,
    "start_time": "2021-09-15T15:57:14.275Z"
   },
   {
    "duration": 1521,
    "start_time": "2021-09-15T15:58:26.233Z"
   },
   {
    "duration": 5,
    "start_time": "2021-09-15T15:58:27.758Z"
   },
   {
    "duration": 82,
    "start_time": "2021-09-15T15:58:27.767Z"
   },
   {
    "duration": 40,
    "start_time": "2021-09-15T15:58:27.853Z"
   },
   {
    "duration": 22,
    "start_time": "2021-09-15T15:58:27.896Z"
   },
   {
    "duration": 7,
    "start_time": "2021-09-15T15:58:27.921Z"
   },
   {
    "duration": 7,
    "start_time": "2021-09-15T15:58:27.931Z"
   },
   {
    "duration": 810,
    "start_time": "2021-09-15T15:58:27.944Z"
   },
   {
    "duration": 26,
    "start_time": "2021-09-15T15:58:28.758Z"
   },
   {
    "duration": 5,
    "start_time": "2021-09-15T15:58:28.786Z"
   },
   {
    "duration": 9,
    "start_time": "2021-09-15T15:58:28.794Z"
   },
   {
    "duration": 9,
    "start_time": "2021-09-15T15:58:28.806Z"
   },
   {
    "duration": 8,
    "start_time": "2021-09-15T15:58:28.817Z"
   },
   {
    "duration": 17,
    "start_time": "2021-09-15T15:58:28.827Z"
   },
   {
    "duration": 40,
    "start_time": "2021-09-15T15:58:28.846Z"
   },
   {
    "duration": 96,
    "start_time": "2021-09-15T15:58:28.889Z"
   },
   {
    "duration": 4,
    "start_time": "2021-09-15T15:58:28.988Z"
   },
   {
    "duration": 813,
    "start_time": "2021-09-15T15:58:28.995Z"
   },
   {
    "duration": 23,
    "start_time": "2021-09-15T15:58:29.810Z"
   },
   {
    "duration": 16,
    "start_time": "2021-09-15T15:58:29.836Z"
   },
   {
    "duration": 39,
    "start_time": "2021-09-15T15:58:29.854Z"
   },
   {
    "duration": 704,
    "start_time": "2021-09-15T15:58:29.895Z"
   },
   {
    "duration": 84,
    "start_time": "2021-09-15T15:58:30.606Z"
   },
   {
    "duration": 29,
    "start_time": "2021-09-15T15:58:30.694Z"
   },
   {
    "duration": 6,
    "start_time": "2021-09-15T15:58:30.726Z"
   },
   {
    "duration": 50,
    "start_time": "2021-09-15T15:58:30.735Z"
   },
   {
    "duration": 1794,
    "start_time": "2021-09-15T15:58:30.788Z"
   },
   {
    "duration": 17,
    "start_time": "2021-09-15T15:58:32.585Z"
   },
   {
    "duration": 8,
    "start_time": "2021-09-15T15:58:32.605Z"
   },
   {
    "duration": 17,
    "start_time": "2021-09-15T15:58:32.616Z"
   },
   {
    "duration": 4487,
    "start_time": "2021-09-15T15:58:32.636Z"
   },
   {
    "duration": 6,
    "start_time": "2021-09-15T15:58:37.126Z"
   },
   {
    "duration": 2226,
    "start_time": "2021-09-15T15:58:37.134Z"
   },
   {
    "duration": 23,
    "start_time": "2021-09-15T15:58:39.363Z"
   },
   {
    "duration": 549,
    "start_time": "2021-09-15T15:58:39.389Z"
   },
   {
    "duration": -340,
    "start_time": "2021-09-15T15:58:40.281Z"
   },
   {
    "duration": 15,
    "start_time": "2021-09-15T15:58:44.933Z"
   },
   {
    "duration": 7,
    "start_time": "2021-09-15T15:59:35.072Z"
   },
   {
    "duration": 1318,
    "start_time": "2021-09-15T15:59:57.148Z"
   },
   {
    "duration": 1516,
    "start_time": "2021-09-15T16:00:17.439Z"
   },
   {
    "duration": 4,
    "start_time": "2021-09-15T16:00:18.958Z"
   },
   {
    "duration": 53,
    "start_time": "2021-09-15T16:00:18.965Z"
   },
   {
    "duration": 26,
    "start_time": "2021-09-15T16:00:19.021Z"
   },
   {
    "duration": 34,
    "start_time": "2021-09-15T16:00:19.049Z"
   },
   {
    "duration": 9,
    "start_time": "2021-09-15T16:00:19.086Z"
   },
   {
    "duration": 9,
    "start_time": "2021-09-15T16:00:19.098Z"
   },
   {
    "duration": 910,
    "start_time": "2021-09-15T16:00:19.114Z"
   },
   {
    "duration": 13,
    "start_time": "2021-09-15T16:00:20.028Z"
   },
   {
    "duration": 16,
    "start_time": "2021-09-15T16:00:20.044Z"
   },
   {
    "duration": 22,
    "start_time": "2021-09-15T16:00:20.062Z"
   },
   {
    "duration": 13,
    "start_time": "2021-09-15T16:00:20.087Z"
   },
   {
    "duration": 11,
    "start_time": "2021-09-15T16:00:20.104Z"
   },
   {
    "duration": 19,
    "start_time": "2021-09-15T16:00:20.117Z"
   },
   {
    "duration": 1631,
    "start_time": "2021-09-15T16:00:20.139Z"
   },
   {
    "duration": -295,
    "start_time": "2021-09-15T16:00:22.068Z"
   },
   {
    "duration": -301,
    "start_time": "2021-09-15T16:00:22.076Z"
   },
   {
    "duration": -303,
    "start_time": "2021-09-15T16:00:22.079Z"
   },
   {
    "duration": -304,
    "start_time": "2021-09-15T16:00:22.081Z"
   },
   {
    "duration": -305,
    "start_time": "2021-09-15T16:00:22.084Z"
   },
   {
    "duration": -306,
    "start_time": "2021-09-15T16:00:22.086Z"
   },
   {
    "duration": -309,
    "start_time": "2021-09-15T16:00:22.090Z"
   },
   {
    "duration": -310,
    "start_time": "2021-09-15T16:00:22.093Z"
   },
   {
    "duration": -311,
    "start_time": "2021-09-15T16:00:22.095Z"
   },
   {
    "duration": -313,
    "start_time": "2021-09-15T16:00:22.098Z"
   },
   {
    "duration": -313,
    "start_time": "2021-09-15T16:00:22.100Z"
   },
   {
    "duration": -314,
    "start_time": "2021-09-15T16:00:22.103Z"
   },
   {
    "duration": -316,
    "start_time": "2021-09-15T16:00:22.106Z"
   },
   {
    "duration": -316,
    "start_time": "2021-09-15T16:00:22.108Z"
   },
   {
    "duration": -318,
    "start_time": "2021-09-15T16:00:22.111Z"
   },
   {
    "duration": -319,
    "start_time": "2021-09-15T16:00:22.113Z"
   },
   {
    "duration": -320,
    "start_time": "2021-09-15T16:00:22.116Z"
   },
   {
    "duration": -327,
    "start_time": "2021-09-15T16:00:22.124Z"
   },
   {
    "duration": -329,
    "start_time": "2021-09-15T16:00:22.129Z"
   },
   {
    "duration": -330,
    "start_time": "2021-09-15T16:00:22.131Z"
   },
   {
    "duration": -331,
    "start_time": "2021-09-15T16:00:22.134Z"
   },
   {
    "duration": 7,
    "start_time": "2021-09-15T16:00:51.900Z"
   },
   {
    "duration": 1376,
    "start_time": "2021-09-15T16:01:20.510Z"
   },
   {
    "duration": 6,
    "start_time": "2021-09-15T16:01:52.064Z"
   },
   {
    "duration": 4,
    "start_time": "2021-09-15T16:01:56.640Z"
   },
   {
    "duration": 4,
    "start_time": "2021-09-15T16:01:57.027Z"
   },
   {
    "duration": 48,
    "start_time": "2021-09-15T16:01:57.202Z"
   },
   {
    "duration": 21,
    "start_time": "2021-09-15T16:01:57.362Z"
   },
   {
    "duration": 15,
    "start_time": "2021-09-15T16:01:57.520Z"
   },
   {
    "duration": 6,
    "start_time": "2021-09-15T16:01:58.181Z"
   },
   {
    "duration": 4,
    "start_time": "2021-09-15T16:01:58.971Z"
   },
   {
    "duration": 47,
    "start_time": "2021-09-15T16:02:00.201Z"
   },
   {
    "duration": 11,
    "start_time": "2021-09-15T16:02:00.902Z"
   },
   {
    "duration": 5,
    "start_time": "2021-09-15T16:02:01.512Z"
   },
   {
    "duration": 7,
    "start_time": "2021-09-15T16:02:02.363Z"
   },
   {
    "duration": 7,
    "start_time": "2021-09-15T16:02:02.757Z"
   },
   {
    "duration": 6,
    "start_time": "2021-09-15T16:02:03.670Z"
   },
   {
    "duration": 17,
    "start_time": "2021-09-15T16:02:05.755Z"
   },
   {
    "duration": 7,
    "start_time": "2021-09-15T16:02:06.957Z"
   },
   {
    "duration": 1499,
    "start_time": "2021-09-15T16:02:12.093Z"
   },
   {
    "duration": 6,
    "start_time": "2021-09-15T16:02:34.355Z"
   },
   {
    "duration": 7,
    "start_time": "2021-09-15T16:02:44.464Z"
   },
   {
    "duration": 1532,
    "start_time": "2021-09-15T16:03:18.671Z"
   },
   {
    "duration": 4,
    "start_time": "2021-09-15T16:03:20.206Z"
   },
   {
    "duration": 60,
    "start_time": "2021-09-15T16:03:20.213Z"
   },
   {
    "duration": 36,
    "start_time": "2021-09-15T16:03:20.276Z"
   },
   {
    "duration": 21,
    "start_time": "2021-09-15T16:03:20.315Z"
   },
   {
    "duration": 7,
    "start_time": "2021-09-15T16:03:20.339Z"
   },
   {
    "duration": 5,
    "start_time": "2021-09-15T16:03:20.384Z"
   },
   {
    "duration": 713,
    "start_time": "2021-09-15T16:03:20.394Z"
   },
   {
    "duration": 13,
    "start_time": "2021-09-15T16:03:21.111Z"
   },
   {
    "duration": 11,
    "start_time": "2021-09-15T16:03:21.126Z"
   },
   {
    "duration": 17,
    "start_time": "2021-09-15T16:03:21.140Z"
   },
   {
    "duration": 23,
    "start_time": "2021-09-15T16:03:21.160Z"
   },
   {
    "duration": 19,
    "start_time": "2021-09-15T16:03:21.185Z"
   },
   {
    "duration": 19,
    "start_time": "2021-09-15T16:03:21.206Z"
   },
   {
    "duration": 6,
    "start_time": "2021-09-15T16:03:21.228Z"
   },
   {
    "duration": 14,
    "start_time": "2021-09-15T16:03:21.237Z"
   },
   {
    "duration": 33,
    "start_time": "2021-09-15T16:03:21.254Z"
   },
   {
    "duration": 4,
    "start_time": "2021-09-15T16:03:21.290Z"
   },
   {
    "duration": 824,
    "start_time": "2021-09-15T16:03:21.296Z"
   },
   {
    "duration": 24,
    "start_time": "2021-09-15T16:03:22.123Z"
   },
   {
    "duration": 6,
    "start_time": "2021-09-15T16:03:22.149Z"
   },
   {
    "duration": 42,
    "start_time": "2021-09-15T16:03:22.158Z"
   },
   {
    "duration": 733,
    "start_time": "2021-09-15T16:03:22.205Z"
   },
   {
    "duration": 63,
    "start_time": "2021-09-15T16:03:22.941Z"
   },
   {
    "duration": 19,
    "start_time": "2021-09-15T16:03:23.006Z"
   },
   {
    "duration": 45,
    "start_time": "2021-09-15T16:03:23.028Z"
   },
   {
    "duration": 23,
    "start_time": "2021-09-15T16:03:23.076Z"
   },
   {
    "duration": 1868,
    "start_time": "2021-09-15T16:03:23.102Z"
   },
   {
    "duration": 21,
    "start_time": "2021-09-15T16:03:24.972Z"
   },
   {
    "duration": 10,
    "start_time": "2021-09-15T16:03:24.995Z"
   },
   {
    "duration": 18,
    "start_time": "2021-09-15T16:03:25.007Z"
   },
   {
    "duration": 3048,
    "start_time": "2021-09-15T16:03:25.027Z"
   },
   {
    "duration": 6,
    "start_time": "2021-09-15T16:03:28.078Z"
   },
   {
    "duration": 2172,
    "start_time": "2021-09-15T16:03:28.086Z"
   },
   {
    "duration": 8,
    "start_time": "2021-09-15T16:03:30.261Z"
   },
   {
    "duration": 351,
    "start_time": "2021-09-15T16:03:30.283Z"
   },
   {
    "duration": 10,
    "start_time": "2021-09-15T16:03:30.637Z"
   },
   {
    "duration": 484,
    "start_time": "2021-09-15T16:03:44.987Z"
   },
   {
    "duration": 413,
    "start_time": "2021-09-15T16:04:11.277Z"
   },
   {
    "duration": 11,
    "start_time": "2021-09-15T16:04:29.582Z"
   },
   {
    "duration": 413,
    "start_time": "2021-09-15T16:04:30.815Z"
   },
   {
    "duration": 413,
    "start_time": "2021-09-15T16:08:24.761Z"
   },
   {
    "duration": 7,
    "start_time": "2021-09-15T16:08:46.404Z"
   },
   {
    "duration": 32,
    "start_time": "2021-09-15T16:09:35.543Z"
   },
   {
    "duration": 428,
    "start_time": "2021-09-15T16:10:16.148Z"
   },
   {
    "duration": 8,
    "start_time": "2021-09-15T16:10:33.643Z"
   },
   {
    "duration": 11,
    "start_time": "2021-09-15T16:11:00.526Z"
   },
   {
    "duration": 590,
    "start_time": "2021-09-15T16:11:01.043Z"
   },
   {
    "duration": 7,
    "start_time": "2021-09-15T16:11:03.867Z"
   },
   {
    "duration": 452,
    "start_time": "2021-09-15T16:11:04.759Z"
   },
   {
    "duration": 8,
    "start_time": "2021-09-15T16:11:05.396Z"
   },
   {
    "duration": 8,
    "start_time": "2021-09-15T16:11:50.115Z"
   },
   {
    "duration": 381,
    "start_time": "2021-09-15T16:11:50.800Z"
   },
   {
    "duration": 7,
    "start_time": "2021-09-15T16:11:51.849Z"
   },
   {
    "duration": 412,
    "start_time": "2021-09-15T16:11:52.865Z"
   },
   {
    "duration": 8,
    "start_time": "2021-09-15T16:11:55.083Z"
   },
   {
    "duration": 33,
    "start_time": "2021-09-15T16:11:56.928Z"
   },
   {
    "duration": 896,
    "start_time": "2021-09-15T16:14:55.025Z"
   },
   {
    "duration": 466,
    "start_time": "2021-09-15T16:15:00.449Z"
   },
   {
    "duration": 942,
    "start_time": "2021-09-15T16:15:07.459Z"
   },
   {
    "duration": 528,
    "start_time": "2021-09-15T16:16:16.274Z"
   },
   {
    "duration": 433,
    "start_time": "2021-09-15T16:16:30.556Z"
   },
   {
    "duration": 391,
    "start_time": "2021-09-15T16:16:52.317Z"
   },
   {
    "duration": 12,
    "start_time": "2021-09-15T16:26:54.648Z"
   },
   {
    "duration": 747,
    "start_time": "2021-09-15T16:27:22.985Z"
   },
   {
    "duration": 731,
    "start_time": "2021-09-15T16:27:55.192Z"
   },
   {
    "duration": 759,
    "start_time": "2021-09-15T16:28:07.974Z"
   },
   {
    "duration": 765,
    "start_time": "2021-09-15T16:29:21.302Z"
   },
   {
    "duration": 818,
    "start_time": "2021-09-15T16:29:33.267Z"
   },
   {
    "duration": 499,
    "start_time": "2021-09-15T16:30:10.804Z"
   },
   {
    "duration": 6,
    "start_time": "2021-09-15T16:30:11.306Z"
   },
   {
    "duration": 425,
    "start_time": "2021-09-15T16:30:11.872Z"
   },
   {
    "duration": 7,
    "start_time": "2021-09-15T16:30:13.048Z"
   },
   {
    "duration": 1570,
    "start_time": "2021-09-15T16:30:40.086Z"
   },
   {
    "duration": 12,
    "start_time": "2021-09-15T16:35:09.059Z"
   },
   {
    "duration": 9,
    "start_time": "2021-09-15T16:35:16.257Z"
   },
   {
    "duration": 10,
    "start_time": "2021-09-15T16:35:28.164Z"
   },
   {
    "duration": 10,
    "start_time": "2021-09-15T16:35:42.334Z"
   },
   {
    "duration": 19,
    "start_time": "2021-09-15T16:54:02.714Z"
   },
   {
    "duration": 26,
    "start_time": "2021-09-15T16:54:31.890Z"
   },
   {
    "duration": 22,
    "start_time": "2021-09-15T16:54:38.928Z"
   },
   {
    "duration": 8,
    "start_time": "2021-09-15T16:54:50.000Z"
   },
   {
    "duration": 362,
    "start_time": "2021-09-15T16:55:23.317Z"
   },
   {
    "duration": 336,
    "start_time": "2021-09-15T16:55:31.394Z"
   },
   {
    "duration": 161,
    "start_time": "2021-09-15T16:56:02.371Z"
   },
   {
    "duration": 118,
    "start_time": "2021-09-15T16:56:34.622Z"
   },
   {
    "duration": 349,
    "start_time": "2021-09-15T16:56:38.825Z"
   },
   {
    "duration": 360,
    "start_time": "2021-09-15T16:56:54.174Z"
   },
   {
    "duration": 33,
    "start_time": "2021-09-15T16:58:08.541Z"
   },
   {
    "duration": 26,
    "start_time": "2021-09-15T16:59:46.760Z"
   },
   {
    "duration": 379,
    "start_time": "2021-09-15T16:59:50.834Z"
   },
   {
    "duration": 35,
    "start_time": "2021-09-15T16:59:56.014Z"
   },
   {
    "duration": 36,
    "start_time": "2021-09-15T17:00:00.074Z"
   },
   {
    "duration": 399,
    "start_time": "2021-09-15T17:01:03.948Z"
   },
   {
    "duration": 433,
    "start_time": "2021-09-15T17:01:08.242Z"
   },
   {
    "duration": 349,
    "start_time": "2021-09-15T17:01:12.882Z"
   },
   {
    "duration": 26,
    "start_time": "2021-09-15T17:01:22.461Z"
   },
   {
    "duration": 27,
    "start_time": "2021-09-15T17:01:26.861Z"
   },
   {
    "duration": 32,
    "start_time": "2021-09-15T17:01:34.743Z"
   },
   {
    "duration": 382,
    "start_time": "2021-09-15T17:03:39.238Z"
   },
   {
    "duration": 18,
    "start_time": "2021-09-15T17:05:09.364Z"
   },
   {
    "duration": 16,
    "start_time": "2021-09-15T17:05:13.148Z"
   },
   {
    "duration": 15,
    "start_time": "2021-09-15T17:05:17.011Z"
   },
   {
    "duration": 4,
    "start_time": "2021-09-15T17:05:25.219Z"
   },
   {
    "duration": 4,
    "start_time": "2021-09-15T17:05:31.724Z"
   },
   {
    "duration": 16,
    "start_time": "2021-09-15T17:05:43.833Z"
   },
   {
    "duration": 5,
    "start_time": "2021-09-15T17:05:44.672Z"
   },
   {
    "duration": 21,
    "start_time": "2021-09-15T17:05:50.945Z"
   },
   {
    "duration": 16,
    "start_time": "2021-09-15T17:06:04.695Z"
   },
   {
    "duration": 16,
    "start_time": "2021-09-15T17:06:11.074Z"
   },
   {
    "duration": 16,
    "start_time": "2021-09-15T17:06:27.914Z"
   },
   {
    "duration": 7,
    "start_time": "2021-09-15T17:06:28.565Z"
   },
   {
    "duration": 22,
    "start_time": "2021-09-15T17:06:38.005Z"
   },
   {
    "duration": 326,
    "start_time": "2021-09-15T17:06:45.352Z"
   },
   {
    "duration": 23,
    "start_time": "2021-09-15T17:39:06.854Z"
   },
   {
    "duration": 24,
    "start_time": "2021-09-15T17:43:39.168Z"
   },
   {
    "duration": 21,
    "start_time": "2021-09-15T17:43:51.209Z"
   },
   {
    "duration": 4,
    "start_time": "2021-09-15T17:46:58.414Z"
   },
   {
    "duration": 439,
    "start_time": "2021-09-15T17:50:26.289Z"
   },
   {
    "duration": 457,
    "start_time": "2021-09-15T17:50:44.133Z"
   },
   {
    "duration": 316,
    "start_time": "2021-09-15T17:53:04.412Z"
   },
   {
    "duration": 9,
    "start_time": "2021-09-15T17:53:12.787Z"
   },
   {
    "duration": 100,
    "start_time": "2021-09-15T18:07:36.817Z"
   },
   {
    "duration": 7,
    "start_time": "2021-09-15T18:07:42.067Z"
   },
   {
    "duration": 6,
    "start_time": "2021-09-15T18:08:06.092Z"
   },
   {
    "duration": 324,
    "start_time": "2021-09-15T18:08:25.291Z"
   },
   {
    "duration": 13,
    "start_time": "2021-09-15T18:08:40.099Z"
   },
   {
    "duration": 1602,
    "start_time": "2021-09-15T18:09:41.125Z"
   },
   {
    "duration": 5,
    "start_time": "2021-09-15T18:09:42.731Z"
   },
   {
    "duration": 58,
    "start_time": "2021-09-15T18:09:42.739Z"
   },
   {
    "duration": 28,
    "start_time": "2021-09-15T18:09:42.800Z"
   },
   {
    "duration": 15,
    "start_time": "2021-09-15T18:09:42.830Z"
   },
   {
    "duration": 5,
    "start_time": "2021-09-15T18:09:42.848Z"
   },
   {
    "duration": 4,
    "start_time": "2021-09-15T18:09:42.884Z"
   },
   {
    "duration": 720,
    "start_time": "2021-09-15T18:09:42.893Z"
   },
   {
    "duration": 15,
    "start_time": "2021-09-15T18:09:43.616Z"
   },
   {
    "duration": 5,
    "start_time": "2021-09-15T18:09:43.633Z"
   },
   {
    "duration": 11,
    "start_time": "2021-09-15T18:09:43.640Z"
   },
   {
    "duration": 29,
    "start_time": "2021-09-15T18:09:43.654Z"
   },
   {
    "duration": 11,
    "start_time": "2021-09-15T18:09:43.685Z"
   },
   {
    "duration": 18,
    "start_time": "2021-09-15T18:09:43.698Z"
   },
   {
    "duration": 6,
    "start_time": "2021-09-15T18:09:43.719Z"
   },
   {
    "duration": 9,
    "start_time": "2021-09-15T18:09:43.727Z"
   },
   {
    "duration": 48,
    "start_time": "2021-09-15T18:09:43.738Z"
   },
   {
    "duration": 4,
    "start_time": "2021-09-15T18:09:43.788Z"
   },
   {
    "duration": 858,
    "start_time": "2021-09-15T18:09:43.795Z"
   },
   {
    "duration": 30,
    "start_time": "2021-09-15T18:09:44.656Z"
   },
   {
    "duration": 24,
    "start_time": "2021-09-15T18:09:44.689Z"
   },
   {
    "duration": 78,
    "start_time": "2021-09-15T18:09:44.716Z"
   },
   {
    "duration": 707,
    "start_time": "2021-09-15T18:09:44.801Z"
   },
   {
    "duration": 70,
    "start_time": "2021-09-15T18:09:45.512Z"
   },
   {
    "duration": 22,
    "start_time": "2021-09-15T18:09:45.585Z"
   },
   {
    "duration": 4,
    "start_time": "2021-09-15T18:09:45.610Z"
   },
   {
    "duration": 27,
    "start_time": "2021-09-15T18:09:45.616Z"
   },
   {
    "duration": 1989,
    "start_time": "2021-09-15T18:09:45.645Z"
   },
   {
    "duration": 18,
    "start_time": "2021-09-15T18:09:47.636Z"
   },
   {
    "duration": 47,
    "start_time": "2021-09-15T18:09:47.657Z"
   },
   {
    "duration": 21,
    "start_time": "2021-09-15T18:09:47.706Z"
   },
   {
    "duration": 3580,
    "start_time": "2021-09-15T18:09:47.730Z"
   },
   {
    "duration": 5,
    "start_time": "2021-09-15T18:09:51.312Z"
   },
   {
    "duration": 2145,
    "start_time": "2021-09-15T18:09:51.319Z"
   },
   {
    "duration": 17,
    "start_time": "2021-09-15T18:09:53.466Z"
   },
   {
    "duration": 465,
    "start_time": "2021-09-15T18:09:53.486Z"
   },
   {
    "duration": 6,
    "start_time": "2021-09-15T18:09:53.954Z"
   },
   {
    "duration": 437,
    "start_time": "2021-09-15T18:09:53.962Z"
   },
   {
    "duration": 6,
    "start_time": "2021-09-15T18:09:54.402Z"
   },
   {
    "duration": 25,
    "start_time": "2021-09-15T18:09:54.410Z"
   },
   {
    "duration": 1614,
    "start_time": "2021-09-15T18:09:54.437Z"
   },
   {
    "duration": 11,
    "start_time": "2021-09-15T18:09:56.053Z"
   },
   {
    "duration": 37,
    "start_time": "2021-09-15T18:09:56.066Z"
   },
   {
    "duration": 447,
    "start_time": "2021-09-15T18:09:56.105Z"
   },
   {
    "duration": 5,
    "start_time": "2021-09-15T18:09:56.555Z"
   },
   {
    "duration": 20,
    "start_time": "2021-09-15T18:09:56.562Z"
   },
   {
    "duration": 6,
    "start_time": "2021-09-15T18:09:56.585Z"
   },
   {
    "duration": 17,
    "start_time": "2021-09-15T18:09:56.593Z"
   },
   {
    "duration": 21,
    "start_time": "2021-09-15T18:09:56.613Z"
   },
   {
    "duration": 4,
    "start_time": "2021-09-15T18:17:11.254Z"
   },
   {
    "duration": 586,
    "start_time": "2021-09-15T18:17:59.311Z"
   },
   {
    "duration": 5,
    "start_time": "2021-09-15T18:18:10.768Z"
   },
   {
    "duration": 550,
    "start_time": "2021-09-15T18:18:13.491Z"
   },
   {
    "duration": 6,
    "start_time": "2021-09-15T18:18:32.854Z"
   },
   {
    "duration": 2498,
    "start_time": "2021-09-15T18:18:33.284Z"
   },
   {
    "duration": 5,
    "start_time": "2021-09-15T18:18:39.025Z"
   },
   {
    "duration": 2559,
    "start_time": "2021-09-15T18:18:39.504Z"
   },
   {
    "duration": 6,
    "start_time": "2021-09-15T18:18:54.367Z"
   },
   {
    "duration": 2658,
    "start_time": "2021-09-15T18:18:57.148Z"
   },
   {
    "duration": 6,
    "start_time": "2021-09-15T18:19:22.005Z"
   },
   {
    "duration": 2782,
    "start_time": "2021-09-15T18:19:22.435Z"
   },
   {
    "duration": 6,
    "start_time": "2021-09-15T18:20:17.379Z"
   },
   {
    "duration": 2795,
    "start_time": "2021-09-15T18:20:20.099Z"
   },
   {
    "duration": 38,
    "start_time": "2021-09-15T18:21:21.717Z"
   },
   {
    "duration": 595,
    "start_time": "2021-09-15T18:22:31.200Z"
   },
   {
    "duration": 23,
    "start_time": "2021-09-15T18:22:44.854Z"
   },
   {
    "duration": 125,
    "start_time": "2021-09-15T18:23:25.064Z"
   },
   {
    "duration": 15,
    "start_time": "2021-09-15T18:23:29.476Z"
   },
   {
    "duration": 21,
    "start_time": "2021-09-15T18:23:35.071Z"
   },
   {
    "duration": 395,
    "start_time": "2021-09-15T18:23:39.238Z"
   },
   {
    "duration": 21,
    "start_time": "2021-09-15T18:23:43.458Z"
   },
   {
    "duration": 264,
    "start_time": "2021-09-15T18:24:04.746Z"
   },
   {
    "duration": 364,
    "start_time": "2021-09-15T18:24:14.350Z"
   },
   {
    "duration": 5,
    "start_time": "2021-09-15T18:32:23.130Z"
   },
   {
    "duration": 4,
    "start_time": "2021-09-15T18:32:23.589Z"
   },
   {
    "duration": 6,
    "start_time": "2021-09-15T18:32:23.980Z"
   },
   {
    "duration": 5,
    "start_time": "2021-09-15T18:32:25.766Z"
   },
   {
    "duration": 15,
    "start_time": "2021-09-15T18:34:41.640Z"
   },
   {
    "duration": 21,
    "start_time": "2021-09-15T18:34:47.447Z"
   },
   {
    "duration": 249,
    "start_time": "2021-09-15T18:34:54.274Z"
   },
   {
    "duration": 22,
    "start_time": "2021-09-15T18:34:58.990Z"
   },
   {
    "duration": 20,
    "start_time": "2021-09-15T18:37:43.637Z"
   },
   {
    "duration": 270,
    "start_time": "2021-09-15T18:38:01.263Z"
   },
   {
    "duration": 257,
    "start_time": "2021-09-15T18:38:05.916Z"
   },
   {
    "duration": 286,
    "start_time": "2021-09-15T18:38:46.976Z"
   },
   {
    "duration": 5,
    "start_time": "2021-09-15T18:42:44.683Z"
   },
   {
    "duration": 266,
    "start_time": "2021-09-15T18:43:17.836Z"
   },
   {
    "duration": 6,
    "start_time": "2021-09-15T18:43:33.238Z"
   },
   {
    "duration": 288,
    "start_time": "2021-09-15T18:43:35.437Z"
   },
   {
    "duration": 376,
    "start_time": "2021-09-15T18:44:29.003Z"
   },
   {
    "duration": 5,
    "start_time": "2021-09-15T18:44:45.476Z"
   },
   {
    "duration": 6,
    "start_time": "2021-09-15T18:44:46.208Z"
   },
   {
    "duration": 291,
    "start_time": "2021-09-15T18:44:47.091Z"
   },
   {
    "duration": 362,
    "start_time": "2021-09-15T18:44:48.139Z"
   },
   {
    "duration": 5,
    "start_time": "2021-09-15T18:45:02.429Z"
   },
   {
    "duration": 6,
    "start_time": "2021-09-15T18:45:02.768Z"
   },
   {
    "duration": 289,
    "start_time": "2021-09-15T18:45:03.961Z"
   },
   {
    "duration": 347,
    "start_time": "2021-09-15T18:45:04.503Z"
   },
   {
    "duration": 5,
    "start_time": "2021-09-15T18:45:17.507Z"
   },
   {
    "duration": 5,
    "start_time": "2021-09-15T18:45:18.082Z"
   },
   {
    "duration": 5,
    "start_time": "2021-09-15T18:45:22.195Z"
   },
   {
    "duration": 314,
    "start_time": "2021-09-15T18:45:23.026Z"
   },
   {
    "duration": 281,
    "start_time": "2021-09-15T18:45:23.576Z"
   },
   {
    "duration": 5,
    "start_time": "2021-09-15T18:45:44.634Z"
   },
   {
    "duration": 6,
    "start_time": "2021-09-15T18:45:45.683Z"
   },
   {
    "duration": 285,
    "start_time": "2021-09-15T18:45:46.790Z"
   },
   {
    "duration": 274,
    "start_time": "2021-09-15T18:45:48.772Z"
   },
   {
    "duration": 256,
    "start_time": "2021-09-15T18:45:52.229Z"
   },
   {
    "duration": 6,
    "start_time": "2021-09-15T18:46:05.649Z"
   },
   {
    "duration": 5,
    "start_time": "2021-09-15T18:46:07.310Z"
   },
   {
    "duration": 295,
    "start_time": "2021-09-15T18:46:10.634Z"
   },
   {
    "duration": 292,
    "start_time": "2021-09-15T18:46:11.793Z"
   },
   {
    "duration": 266,
    "start_time": "2021-09-15T18:46:17.179Z"
   },
   {
    "duration": 5,
    "start_time": "2021-09-15T18:46:57.581Z"
   },
   {
    "duration": 294,
    "start_time": "2021-09-15T18:46:58.477Z"
   },
   {
    "duration": 254,
    "start_time": "2021-09-15T18:46:59.705Z"
   },
   {
    "duration": 1576,
    "start_time": "2021-09-15T18:47:11.554Z"
   },
   {
    "duration": 4,
    "start_time": "2021-09-15T18:47:13.132Z"
   },
   {
    "duration": 57,
    "start_time": "2021-09-15T18:47:13.138Z"
   },
   {
    "duration": 27,
    "start_time": "2021-09-15T18:47:13.197Z"
   },
   {
    "duration": 14,
    "start_time": "2021-09-15T18:47:13.226Z"
   },
   {
    "duration": 5,
    "start_time": "2021-09-15T18:47:13.242Z"
   },
   {
    "duration": 5,
    "start_time": "2021-09-15T18:47:13.249Z"
   },
   {
    "duration": 714,
    "start_time": "2021-09-15T18:47:13.283Z"
   },
   {
    "duration": 13,
    "start_time": "2021-09-15T18:47:14.001Z"
   },
   {
    "duration": 5,
    "start_time": "2021-09-15T18:47:14.016Z"
   },
   {
    "duration": 8,
    "start_time": "2021-09-15T18:47:14.023Z"
   },
   {
    "duration": 6,
    "start_time": "2021-09-15T18:47:14.033Z"
   },
   {
    "duration": 9,
    "start_time": "2021-09-15T18:47:14.041Z"
   },
   {
    "duration": 21,
    "start_time": "2021-09-15T18:47:14.084Z"
   },
   {
    "duration": 18,
    "start_time": "2021-09-15T18:47:14.108Z"
   },
   {
    "duration": 10,
    "start_time": "2021-09-15T18:47:14.128Z"
   },
   {
    "duration": 18,
    "start_time": "2021-09-15T18:47:14.140Z"
   },
   {
    "duration": 25,
    "start_time": "2021-09-15T18:47:14.160Z"
   },
   {
    "duration": 795,
    "start_time": "2021-09-15T18:47:14.187Z"
   },
   {
    "duration": 21,
    "start_time": "2021-09-15T18:47:14.984Z"
   },
   {
    "duration": 21,
    "start_time": "2021-09-15T18:47:15.007Z"
   },
   {
    "duration": 31,
    "start_time": "2021-09-15T18:47:15.030Z"
   },
   {
    "duration": 734,
    "start_time": "2021-09-15T18:47:15.067Z"
   },
   {
    "duration": 50,
    "start_time": "2021-09-15T18:47:15.805Z"
   },
   {
    "duration": 29,
    "start_time": "2021-09-15T18:47:15.857Z"
   },
   {
    "duration": 11,
    "start_time": "2021-09-15T18:47:15.889Z"
   },
   {
    "duration": 27,
    "start_time": "2021-09-15T18:47:15.902Z"
   },
   {
    "duration": 2407,
    "start_time": "2021-09-15T18:47:15.932Z"
   },
   {
    "duration": 17,
    "start_time": "2021-09-15T18:47:18.341Z"
   },
   {
    "duration": 24,
    "start_time": "2021-09-15T18:47:18.361Z"
   },
   {
    "duration": 17,
    "start_time": "2021-09-15T18:47:18.388Z"
   },
   {
    "duration": 3022,
    "start_time": "2021-09-15T18:47:18.407Z"
   },
   {
    "duration": 5,
    "start_time": "2021-09-15T18:47:21.432Z"
   },
   {
    "duration": 2212,
    "start_time": "2021-09-15T18:47:21.439Z"
   },
   {
    "duration": 9,
    "start_time": "2021-09-15T18:47:23.654Z"
   },
   {
    "duration": 141,
    "start_time": "2021-09-15T18:47:23.666Z"
   },
   {
    "duration": -308,
    "start_time": "2021-09-15T18:47:24.118Z"
   },
   {
    "duration": -312,
    "start_time": "2021-09-15T18:47:24.123Z"
   },
   {
    "duration": -319,
    "start_time": "2021-09-15T18:47:24.132Z"
   },
   {
    "duration": -321,
    "start_time": "2021-09-15T18:47:24.136Z"
   },
   {
    "duration": -323,
    "start_time": "2021-09-15T18:47:24.139Z"
   },
   {
    "duration": -326,
    "start_time": "2021-09-15T18:47:24.144Z"
   },
   {
    "duration": -331,
    "start_time": "2021-09-15T18:47:24.151Z"
   },
   {
    "duration": -334,
    "start_time": "2021-09-15T18:47:24.155Z"
   },
   {
    "duration": -334,
    "start_time": "2021-09-15T18:47:24.158Z"
   },
   {
    "duration": -340,
    "start_time": "2021-09-15T18:47:24.165Z"
   },
   {
    "duration": -341,
    "start_time": "2021-09-15T18:47:24.168Z"
   },
   {
    "duration": -343,
    "start_time": "2021-09-15T18:47:24.172Z"
   },
   {
    "duration": -343,
    "start_time": "2021-09-15T18:47:24.175Z"
   },
   {
    "duration": -347,
    "start_time": "2021-09-15T18:47:24.181Z"
   },
   {
    "duration": 489,
    "start_time": "2021-09-15T18:48:41.446Z"
   },
   {
    "duration": 437,
    "start_time": "2021-09-15T18:48:52.136Z"
   },
   {
    "duration": 7,
    "start_time": "2021-09-15T18:48:54.468Z"
   },
   {
    "duration": 1442,
    "start_time": "2021-09-15T18:49:01.720Z"
   },
   {
    "duration": 3,
    "start_time": "2021-09-15T18:49:03.165Z"
   },
   {
    "duration": 62,
    "start_time": "2021-09-15T18:49:03.171Z"
   },
   {
    "duration": 25,
    "start_time": "2021-09-15T18:49:03.236Z"
   },
   {
    "duration": 21,
    "start_time": "2021-09-15T18:49:03.264Z"
   },
   {
    "duration": 5,
    "start_time": "2021-09-15T18:49:03.288Z"
   },
   {
    "duration": 4,
    "start_time": "2021-09-15T18:49:03.296Z"
   },
   {
    "duration": 756,
    "start_time": "2021-09-15T18:49:03.304Z"
   },
   {
    "duration": 21,
    "start_time": "2021-09-15T18:49:04.064Z"
   },
   {
    "duration": 12,
    "start_time": "2021-09-15T18:49:04.088Z"
   },
   {
    "duration": 11,
    "start_time": "2021-09-15T18:49:04.102Z"
   },
   {
    "duration": 13,
    "start_time": "2021-09-15T18:49:04.116Z"
   },
   {
    "duration": 11,
    "start_time": "2021-09-15T18:49:04.131Z"
   },
   {
    "duration": 17,
    "start_time": "2021-09-15T18:49:04.144Z"
   },
   {
    "duration": 23,
    "start_time": "2021-09-15T18:49:04.163Z"
   },
   {
    "duration": 7,
    "start_time": "2021-09-15T18:49:04.188Z"
   },
   {
    "duration": 20,
    "start_time": "2021-09-15T18:49:04.197Z"
   },
   {
    "duration": 3,
    "start_time": "2021-09-15T18:49:04.220Z"
   },
   {
    "duration": 824,
    "start_time": "2021-09-15T18:49:04.226Z"
   },
   {
    "duration": 33,
    "start_time": "2021-09-15T18:49:05.052Z"
   },
   {
    "duration": 13,
    "start_time": "2021-09-15T18:49:05.088Z"
   },
   {
    "duration": 38,
    "start_time": "2021-09-15T18:49:05.104Z"
   },
   {
    "duration": 686,
    "start_time": "2021-09-15T18:49:05.149Z"
   },
   {
    "duration": 67,
    "start_time": "2021-09-15T18:49:05.840Z"
   },
   {
    "duration": 22,
    "start_time": "2021-09-15T18:49:05.910Z"
   },
   {
    "duration": 6,
    "start_time": "2021-09-15T18:49:05.935Z"
   },
   {
    "duration": 49,
    "start_time": "2021-09-15T18:49:05.943Z"
   },
   {
    "duration": 1848,
    "start_time": "2021-09-15T18:49:05.994Z"
   },
   {
    "duration": 17,
    "start_time": "2021-09-15T18:49:07.844Z"
   },
   {
    "duration": 22,
    "start_time": "2021-09-15T18:49:07.863Z"
   },
   {
    "duration": 19,
    "start_time": "2021-09-15T18:49:07.888Z"
   },
   {
    "duration": 3007,
    "start_time": "2021-09-15T18:49:07.910Z"
   },
   {
    "duration": 6,
    "start_time": "2021-09-15T18:49:10.920Z"
   },
   {
    "duration": 2195,
    "start_time": "2021-09-15T18:49:10.929Z"
   },
   {
    "duration": 8,
    "start_time": "2021-09-15T18:49:13.126Z"
   },
   {
    "duration": 505,
    "start_time": "2021-09-15T18:49:13.136Z"
   },
   {
    "duration": 6,
    "start_time": "2021-09-15T18:49:13.643Z"
   },
   {
    "duration": 463,
    "start_time": "2021-09-15T18:49:13.652Z"
   },
   {
    "duration": 5,
    "start_time": "2021-09-15T18:49:14.118Z"
   },
   {
    "duration": 22,
    "start_time": "2021-09-15T18:49:14.126Z"
   },
   {
    "duration": 1835,
    "start_time": "2021-09-15T18:49:14.150Z"
   },
   {
    "duration": 10,
    "start_time": "2021-09-15T18:49:15.987Z"
   },
   {
    "duration": 22,
    "start_time": "2021-09-15T18:49:16.000Z"
   },
   {
    "duration": 455,
    "start_time": "2021-09-15T18:49:16.024Z"
   },
   {
    "duration": 5,
    "start_time": "2021-09-15T18:49:16.483Z"
   },
   {
    "duration": 9,
    "start_time": "2021-09-15T18:49:16.491Z"
   },
   {
    "duration": 15,
    "start_time": "2021-09-15T18:49:16.502Z"
   },
   {
    "duration": 321,
    "start_time": "2021-09-15T18:49:16.519Z"
   },
   {
    "duration": 276,
    "start_time": "2021-09-15T18:49:16.843Z"
   },
   {
    "duration": 23,
    "start_time": "2021-09-15T18:49:17.121Z"
   },
   {
    "duration": 5,
    "start_time": "2021-09-15T18:52:07.193Z"
   },
   {
    "duration": 6,
    "start_time": "2021-09-15T18:52:08.009Z"
   },
   {
    "duration": 284,
    "start_time": "2021-09-15T18:52:08.748Z"
   },
   {
    "duration": 269,
    "start_time": "2021-09-15T18:52:09.166Z"
   },
   {
    "duration": 5,
    "start_time": "2021-09-15T18:52:59.818Z"
   },
   {
    "duration": 325,
    "start_time": "2021-09-15T18:53:10.658Z"
   },
   {
    "duration": 317,
    "start_time": "2021-09-15T18:53:56.928Z"
   },
   {
    "duration": 5,
    "start_time": "2021-09-15T18:54:44.481Z"
   },
   {
    "duration": 5,
    "start_time": "2021-09-15T19:10:27.395Z"
   },
   {
    "duration": 21,
    "start_time": "2021-09-15T19:10:36.914Z"
   },
   {
    "duration": 6,
    "start_time": "2021-09-15T19:10:52.716Z"
   },
   {
    "duration": 463,
    "start_time": "2021-09-15T19:10:59.224Z"
   },
   {
    "duration": 4,
    "start_time": "2021-09-15T19:11:14.473Z"
   },
   {
    "duration": 330,
    "start_time": "2021-09-15T19:11:17.739Z"
   },
   {
    "duration": 5,
    "start_time": "2021-09-15T19:11:25.559Z"
   },
   {
    "duration": 22,
    "start_time": "2021-09-15T19:11:30.513Z"
   },
   {
    "duration": 4,
    "start_time": "2021-09-15T19:12:03.677Z"
   },
   {
    "duration": 19,
    "start_time": "2021-09-15T19:12:05.270Z"
   },
   {
    "duration": 19,
    "start_time": "2021-09-15T19:12:05.729Z"
   },
   {
    "duration": 355,
    "start_time": "2021-09-15T19:12:06.363Z"
   },
   {
    "duration": 20,
    "start_time": "2021-09-15T19:12:10.333Z"
   },
   {
    "duration": 18,
    "start_time": "2021-09-15T19:12:42.571Z"
   },
   {
    "duration": 15,
    "start_time": "2021-09-15T19:12:54.424Z"
   },
   {
    "duration": 4,
    "start_time": "2021-09-15T19:15:27.062Z"
   },
   {
    "duration": 21,
    "start_time": "2021-09-15T19:15:30.931Z"
   },
   {
    "duration": 5,
    "start_time": "2021-09-15T19:15:58.966Z"
   },
   {
    "duration": 23,
    "start_time": "2021-09-15T19:16:00.632Z"
   },
   {
    "duration": 5,
    "start_time": "2021-09-15T19:16:43.423Z"
   },
   {
    "duration": 28,
    "start_time": "2021-09-15T19:16:45.852Z"
   },
   {
    "duration": 5,
    "start_time": "2021-09-15T19:16:54.434Z"
   },
   {
    "duration": 25,
    "start_time": "2021-09-15T19:16:58.735Z"
   },
   {
    "duration": 21,
    "start_time": "2021-09-15T19:17:31.421Z"
   },
   {
    "duration": 5,
    "start_time": "2021-09-15T19:18:29.951Z"
   },
   {
    "duration": 5,
    "start_time": "2021-09-15T19:18:30.692Z"
   },
   {
    "duration": 24,
    "start_time": "2021-09-15T19:18:31.504Z"
   },
   {
    "duration": 22,
    "start_time": "2021-09-15T19:18:32.060Z"
   },
   {
    "duration": 24,
    "start_time": "2021-09-15T19:18:34.920Z"
   },
   {
    "duration": 5,
    "start_time": "2021-09-15T19:22:10.224Z"
   },
   {
    "duration": 27,
    "start_time": "2021-09-15T19:22:13.170Z"
   },
   {
    "duration": 350,
    "start_time": "2021-09-15T19:24:20.810Z"
   },
   {
    "duration": 16,
    "start_time": "2021-09-15T19:24:42.749Z"
   },
   {
    "duration": 22,
    "start_time": "2021-09-15T19:24:45.529Z"
   },
   {
    "duration": 20,
    "start_time": "2021-09-15T19:24:55.768Z"
   },
   {
    "duration": 27,
    "start_time": "2021-09-15T19:24:59.655Z"
   },
   {
    "duration": 9686,
    "start_time": "2021-09-15T19:25:07.374Z"
   },
   {
    "duration": 27,
    "start_time": "2021-09-15T19:25:18.426Z"
   },
   {
    "duration": 6,
    "start_time": "2021-09-15T19:25:31.770Z"
   },
   {
    "duration": 333,
    "start_time": "2021-09-15T19:25:55.492Z"
   },
   {
    "duration": 11,
    "start_time": "2021-09-15T19:26:41.747Z"
   },
   {
    "duration": 1353,
    "start_time": "2021-09-15T19:26:51.249Z"
   },
   {
    "duration": 151,
    "start_time": "2021-09-15T19:28:46.825Z"
   },
   {
    "duration": -250,
    "start_time": "2021-09-15T19:29:40.168Z"
   },
   {
    "duration": -255,
    "start_time": "2021-09-15T19:29:40.174Z"
   },
   {
    "duration": 23,
    "start_time": "2021-09-15T19:29:43.234Z"
   },
   {
    "duration": 27,
    "start_time": "2021-09-15T19:29:44.659Z"
   },
   {
    "duration": 10496,
    "start_time": "2021-09-15T19:29:46.277Z"
   },
   {
    "duration": 35,
    "start_time": "2021-09-15T19:29:57.830Z"
   },
   {
    "duration": 9669,
    "start_time": "2021-09-15T19:30:04.047Z"
   },
   {
    "duration": 5,
    "start_time": "2021-09-15T19:30:34.011Z"
   },
   {
    "duration": 6,
    "start_time": "2021-09-15T19:30:34.324Z"
   },
   {
    "duration": 5,
    "start_time": "2021-09-15T19:30:34.648Z"
   },
   {
    "duration": 24,
    "start_time": "2021-09-15T19:30:35.451Z"
   },
   {
    "duration": 29,
    "start_time": "2021-09-15T19:30:35.975Z"
   },
   {
    "duration": 23,
    "start_time": "2021-09-15T19:30:37.684Z"
   },
   {
    "duration": 687,
    "start_time": "2021-09-15T19:31:19.945Z"
   },
   {
    "duration": 5,
    "start_time": "2021-09-15T19:31:37.492Z"
   },
   {
    "duration": 23,
    "start_time": "2021-09-15T19:31:39.413Z"
   },
   {
    "duration": 27,
    "start_time": "2021-09-15T19:31:39.807Z"
   },
   {
    "duration": 22,
    "start_time": "2021-09-15T19:31:41.234Z"
   },
   {
    "duration": 26,
    "start_time": "2021-09-15T19:31:41.785Z"
   },
   {
    "duration": 25,
    "start_time": "2021-09-15T19:31:42.681Z"
   },
   {
    "duration": 22,
    "start_time": "2021-09-15T19:33:30.991Z"
   },
   {
    "duration": 28,
    "start_time": "2021-09-15T19:33:32.006Z"
   },
   {
    "duration": 23,
    "start_time": "2021-09-15T19:33:45.163Z"
   },
   {
    "duration": 25,
    "start_time": "2021-09-15T19:45:58.446Z"
   },
   {
    "duration": 22,
    "start_time": "2021-09-15T19:45:59.178Z"
   },
   {
    "duration": 27,
    "start_time": "2021-09-15T19:45:59.828Z"
   },
   {
    "duration": 340,
    "start_time": "2021-09-15T20:56:05.084Z"
   },
   {
    "duration": 32,
    "start_time": "2021-09-15T20:56:09.969Z"
   },
   {
    "duration": 25,
    "start_time": "2021-09-15T20:56:33.957Z"
   },
   {
    "duration": 387,
    "start_time": "2021-09-15T20:57:21.404Z"
   },
   {
    "duration": 18,
    "start_time": "2021-09-15T20:57:32.439Z"
   },
   {
    "duration": 7,
    "start_time": "2021-09-15T21:06:00.016Z"
   },
   {
    "duration": 33,
    "start_time": "2021-09-15T21:10:13.787Z"
   },
   {
    "duration": 368,
    "start_time": "2021-09-15T21:11:43.262Z"
   },
   {
    "duration": 12,
    "start_time": "2021-09-15T21:11:51.878Z"
   },
   {
    "duration": 7,
    "start_time": "2021-09-15T21:11:52.258Z"
   },
   {
    "duration": 15,
    "start_time": "2021-09-15T21:12:01.694Z"
   },
   {
    "duration": 8,
    "start_time": "2021-09-15T21:12:02.010Z"
   },
   {
    "duration": 345,
    "start_time": "2021-09-15T21:12:43.715Z"
   },
   {
    "duration": 12,
    "start_time": "2021-09-15T21:12:45.574Z"
   },
   {
    "duration": 7,
    "start_time": "2021-09-15T21:12:45.878Z"
   },
   {
    "duration": 1403,
    "start_time": "2021-09-15T21:37:46.236Z"
   },
   {
    "duration": 4,
    "start_time": "2021-09-15T21:37:47.641Z"
   },
   {
    "duration": 56,
    "start_time": "2021-09-15T21:37:47.648Z"
   },
   {
    "duration": 27,
    "start_time": "2021-09-15T21:37:47.707Z"
   },
   {
    "duration": 18,
    "start_time": "2021-09-15T21:37:47.736Z"
   },
   {
    "duration": 6,
    "start_time": "2021-09-15T21:37:47.783Z"
   },
   {
    "duration": 13,
    "start_time": "2021-09-15T21:37:47.791Z"
   },
   {
    "duration": 674,
    "start_time": "2021-09-15T21:37:47.808Z"
   },
   {
    "duration": 14,
    "start_time": "2021-09-15T21:37:48.488Z"
   },
   {
    "duration": 4,
    "start_time": "2021-09-15T21:37:48.505Z"
   },
   {
    "duration": 9,
    "start_time": "2021-09-15T21:37:48.513Z"
   },
   {
    "duration": 9,
    "start_time": "2021-09-15T21:37:48.525Z"
   },
   {
    "duration": 10,
    "start_time": "2021-09-15T21:37:48.537Z"
   },
   {
    "duration": 16,
    "start_time": "2021-09-15T21:37:48.582Z"
   },
   {
    "duration": 9,
    "start_time": "2021-09-15T21:37:48.600Z"
   },
   {
    "duration": 14,
    "start_time": "2021-09-15T21:37:48.611Z"
   },
   {
    "duration": 24,
    "start_time": "2021-09-15T21:37:48.627Z"
   },
   {
    "duration": 4,
    "start_time": "2021-09-15T21:37:48.653Z"
   },
   {
    "duration": 800,
    "start_time": "2021-09-15T21:37:48.682Z"
   },
   {
    "duration": 23,
    "start_time": "2021-09-15T21:37:49.485Z"
   },
   {
    "duration": 5,
    "start_time": "2021-09-15T21:37:49.511Z"
   },
   {
    "duration": 25,
    "start_time": "2021-09-15T21:37:49.519Z"
   },
   {
    "duration": 665,
    "start_time": "2021-09-15T21:37:49.585Z"
   },
   {
    "duration": 61,
    "start_time": "2021-09-15T21:37:50.254Z"
   },
   {
    "duration": 20,
    "start_time": "2021-09-15T21:37:50.318Z"
   },
   {
    "duration": 5,
    "start_time": "2021-09-15T21:37:50.340Z"
   },
   {
    "duration": 45,
    "start_time": "2021-09-15T21:37:50.347Z"
   },
   {
    "duration": 1843,
    "start_time": "2021-09-15T21:37:50.394Z"
   },
   {
    "duration": 15,
    "start_time": "2021-09-15T21:37:52.240Z"
   },
   {
    "duration": 25,
    "start_time": "2021-09-15T21:37:52.258Z"
   },
   {
    "duration": 14,
    "start_time": "2021-09-15T21:37:52.285Z"
   },
   {
    "duration": 3026,
    "start_time": "2021-09-15T21:37:52.302Z"
   },
   {
    "duration": 4,
    "start_time": "2021-09-15T21:37:55.331Z"
   },
   {
    "duration": 2202,
    "start_time": "2021-09-15T21:37:55.337Z"
   },
   {
    "duration": 8,
    "start_time": "2021-09-15T21:37:57.542Z"
   },
   {
    "duration": 499,
    "start_time": "2021-09-15T21:37:57.552Z"
   },
   {
    "duration": 6,
    "start_time": "2021-09-15T21:37:58.054Z"
   },
   {
    "duration": 435,
    "start_time": "2021-09-15T21:37:58.063Z"
   },
   {
    "duration": 7,
    "start_time": "2021-09-15T21:37:58.500Z"
   },
   {
    "duration": 11,
    "start_time": "2021-09-15T21:37:58.509Z"
   },
   {
    "duration": 1750,
    "start_time": "2021-09-15T21:37:58.523Z"
   },
   {
    "duration": 16,
    "start_time": "2021-09-15T21:38:00.276Z"
   },
   {
    "duration": 32,
    "start_time": "2021-09-15T21:38:00.294Z"
   },
   {
    "duration": 454,
    "start_time": "2021-09-15T21:38:00.328Z"
   },
   {
    "duration": 5,
    "start_time": "2021-09-15T21:38:00.784Z"
   },
   {
    "duration": 10,
    "start_time": "2021-09-15T21:38:00.792Z"
   },
   {
    "duration": 8,
    "start_time": "2021-09-15T21:38:00.805Z"
   },
   {
    "duration": 39,
    "start_time": "2021-09-15T21:38:00.816Z"
   },
   {
    "duration": 38,
    "start_time": "2021-09-15T21:38:00.857Z"
   },
   {
    "duration": 28,
    "start_time": "2021-09-15T21:38:00.897Z"
   },
   {
    "duration": 56,
    "start_time": "2021-09-15T21:38:00.928Z"
   },
   {
    "duration": 22,
    "start_time": "2021-09-15T21:38:00.987Z"
   },
   {
    "duration": 28,
    "start_time": "2021-09-15T21:38:01.011Z"
   },
   {
    "duration": 56,
    "start_time": "2021-09-15T21:38:01.041Z"
   },
   {
    "duration": 22,
    "start_time": "2021-09-15T21:38:01.099Z"
   },
   {
    "duration": 32,
    "start_time": "2021-09-15T21:38:01.124Z"
   },
   {
    "duration": 356,
    "start_time": "2021-09-17T09:40:25.050Z"
   },
   {
    "duration": 1168,
    "start_time": "2021-09-17T09:40:30.547Z"
   },
   {
    "duration": 3,
    "start_time": "2021-09-17T09:40:31.717Z"
   },
   {
    "duration": 46,
    "start_time": "2021-09-17T09:40:31.722Z"
   },
   {
    "duration": 16,
    "start_time": "2021-09-17T09:40:32.331Z"
   },
   {
    "duration": 296,
    "start_time": "2021-09-17T09:40:34.427Z"
   },
   {
    "duration": 3,
    "start_time": "2021-09-17T09:40:45.523Z"
   },
   {
    "duration": 18,
    "start_time": "2021-09-17T09:40:51.068Z"
   },
   {
    "duration": 11,
    "start_time": "2021-09-17T09:40:57.348Z"
   },
   {
    "duration": 12,
    "start_time": "2021-09-17T09:41:00.976Z"
   },
   {
    "duration": 12,
    "start_time": "2021-09-17T09:41:07.140Z"
   },
   {
    "duration": 14,
    "start_time": "2021-09-17T09:50:07.583Z"
   },
   {
    "duration": 14,
    "start_time": "2021-09-17T09:50:12.785Z"
   },
   {
    "duration": 13,
    "start_time": "2021-09-17T09:50:18.578Z"
   },
   {
    "duration": 20,
    "start_time": "2021-09-17T09:50:48.673Z"
   },
   {
    "duration": 13,
    "start_time": "2021-09-17T09:50:53.568Z"
   },
   {
    "duration": 13,
    "start_time": "2021-09-17T09:51:02.854Z"
   },
   {
    "duration": 14,
    "start_time": "2021-09-17T09:51:06.332Z"
   },
   {
    "duration": 79,
    "start_time": "2021-09-17T10:06:13.324Z"
   },
   {
    "duration": 3,
    "start_time": "2021-09-17T10:08:54.705Z"
   },
   {
    "duration": 3,
    "start_time": "2021-09-17T10:08:55.070Z"
   },
   {
    "duration": 38,
    "start_time": "2021-09-17T10:08:55.297Z"
   },
   {
    "duration": 6,
    "start_time": "2021-09-17T10:09:17.852Z"
   },
   {
    "duration": 248,
    "start_time": "2021-09-17T10:13:47.313Z"
   },
   {
    "duration": 1116,
    "start_time": "2021-09-17T10:13:58.110Z"
   },
   {
    "duration": 3,
    "start_time": "2021-09-17T10:13:59.228Z"
   },
   {
    "duration": 40,
    "start_time": "2021-09-17T10:13:59.232Z"
   },
   {
    "duration": 15,
    "start_time": "2021-09-17T10:13:59.274Z"
   },
   {
    "duration": 10,
    "start_time": "2021-09-17T10:13:59.290Z"
   },
   {
    "duration": 4,
    "start_time": "2021-09-17T10:13:59.301Z"
   },
   {
    "duration": 6,
    "start_time": "2021-09-17T10:13:59.306Z"
   },
   {
    "duration": 796,
    "start_time": "2021-09-17T10:13:59.314Z"
   },
   {
    "duration": 10,
    "start_time": "2021-09-17T10:14:00.113Z"
   },
   {
    "duration": 6,
    "start_time": "2021-09-17T10:14:00.124Z"
   },
   {
    "duration": 9,
    "start_time": "2021-09-17T10:14:00.131Z"
   },
   {
    "duration": 23,
    "start_time": "2021-09-17T10:14:00.141Z"
   },
   {
    "duration": 14,
    "start_time": "2021-09-17T10:14:00.166Z"
   },
   {
    "duration": 22,
    "start_time": "2021-09-17T10:14:00.182Z"
   },
   {
    "duration": 9,
    "start_time": "2021-09-17T10:14:00.206Z"
   },
   {
    "duration": 9,
    "start_time": "2021-09-17T10:14:00.217Z"
   },
   {
    "duration": 19,
    "start_time": "2021-09-17T10:14:00.228Z"
   },
   {
    "duration": 4,
    "start_time": "2021-09-17T10:14:00.249Z"
   },
   {
    "duration": 756,
    "start_time": "2021-09-17T10:14:00.254Z"
   },
   {
    "duration": 38,
    "start_time": "2021-09-17T10:14:01.012Z"
   },
   {
    "duration": 12,
    "start_time": "2021-09-17T10:14:01.053Z"
   },
   {
    "duration": 46,
    "start_time": "2021-09-17T10:14:01.067Z"
   },
   {
    "duration": 399,
    "start_time": "2021-09-17T10:14:01.117Z"
   },
   {
    "duration": 37,
    "start_time": "2021-09-17T10:14:01.518Z"
   },
   {
    "duration": 13,
    "start_time": "2021-09-17T10:14:01.557Z"
   },
   {
    "duration": 11,
    "start_time": "2021-09-17T10:14:01.572Z"
   },
   {
    "duration": 23,
    "start_time": "2021-09-17T10:14:01.585Z"
   },
   {
    "duration": 1118,
    "start_time": "2021-09-17T10:14:01.610Z"
   },
   {
    "duration": 19,
    "start_time": "2021-09-17T10:14:02.730Z"
   },
   {
    "duration": 25,
    "start_time": "2021-09-17T10:14:02.750Z"
   },
   {
    "duration": 35,
    "start_time": "2021-09-17T10:14:02.777Z"
   },
   {
    "duration": 1705,
    "start_time": "2021-09-17T10:14:02.814Z"
   },
   {
    "duration": 3,
    "start_time": "2021-09-17T10:14:04.521Z"
   },
   {
    "duration": 1332,
    "start_time": "2021-09-17T10:14:04.526Z"
   },
   {
    "duration": 7,
    "start_time": "2021-09-17T10:14:05.859Z"
   },
   {
    "duration": 397,
    "start_time": "2021-09-17T10:14:05.867Z"
   },
   {
    "duration": 4,
    "start_time": "2021-09-17T10:14:06.266Z"
   },
   {
    "duration": 297,
    "start_time": "2021-09-17T10:14:06.272Z"
   },
   {
    "duration": 5,
    "start_time": "2021-09-17T10:14:06.571Z"
   },
   {
    "duration": 12,
    "start_time": "2021-09-17T10:14:06.577Z"
   },
   {
    "duration": 1423,
    "start_time": "2021-09-17T10:14:06.591Z"
   },
   {
    "duration": 8,
    "start_time": "2021-09-17T10:14:08.016Z"
   },
   {
    "duration": 33,
    "start_time": "2021-09-17T10:14:08.026Z"
   },
   {
    "duration": 324,
    "start_time": "2021-09-17T10:14:08.061Z"
   },
   {
    "duration": 4,
    "start_time": "2021-09-17T10:14:08.387Z"
   },
   {
    "duration": 9,
    "start_time": "2021-09-17T10:14:08.392Z"
   },
   {
    "duration": 14,
    "start_time": "2021-09-17T10:14:08.403Z"
   },
   {
    "duration": 23,
    "start_time": "2021-09-17T10:14:08.419Z"
   },
   {
    "duration": 17,
    "start_time": "2021-09-17T10:14:08.444Z"
   },
   {
    "duration": 17,
    "start_time": "2021-09-17T10:14:08.463Z"
   },
   {
    "duration": 15,
    "start_time": "2021-09-17T10:14:08.482Z"
   },
   {
    "duration": 15,
    "start_time": "2021-09-17T10:14:08.499Z"
   },
   {
    "duration": 48,
    "start_time": "2021-09-17T10:14:08.516Z"
   },
   {
    "duration": 15,
    "start_time": "2021-09-17T10:14:08.566Z"
   },
   {
    "duration": 15,
    "start_time": "2021-09-17T10:14:08.582Z"
   },
   {
    "duration": 16,
    "start_time": "2021-09-17T10:14:08.599Z"
   },
   {
    "duration": 40,
    "start_time": "2021-09-17T10:14:08.617Z"
   },
   {
    "duration": 5,
    "start_time": "2021-09-17T10:14:08.659Z"
   },
   {
    "duration": 10,
    "start_time": "2021-09-17T10:14:08.666Z"
   },
   {
    "duration": 5,
    "start_time": "2021-09-17T10:14:08.678Z"
   },
   {
    "duration": 12,
    "start_time": "2021-09-17T10:17:08.097Z"
   },
   {
    "duration": 347,
    "start_time": "2021-09-17T10:17:09.296Z"
   },
   {
    "duration": 11,
    "start_time": "2021-09-17T10:17:14.962Z"
   },
   {
    "duration": 335,
    "start_time": "2021-09-17T10:18:28.253Z"
   },
   {
    "duration": 338,
    "start_time": "2021-09-17T10:19:39.464Z"
   },
   {
    "duration": 7,
    "start_time": "2021-09-17T10:22:37.014Z"
   },
   {
    "duration": 28,
    "start_time": "2021-09-17T10:36:41.283Z"
   },
   {
    "duration": 3090,
    "start_time": "2021-09-17T10:36:54.068Z"
   },
   {
    "duration": 7,
    "start_time": "2021-09-17T10:37:24.916Z"
   },
   {
    "duration": 7,
    "start_time": "2021-09-17T10:37:30.390Z"
   },
   {
    "duration": 33,
    "start_time": "2021-09-17T10:37:31.198Z"
   },
   {
    "duration": 12,
    "start_time": "2021-09-17T10:37:34.077Z"
   },
   {
    "duration": 4,
    "start_time": "2021-09-17T10:37:34.676Z"
   },
   {
    "duration": 11,
    "start_time": "2021-09-17T10:37:35.499Z"
   },
   {
    "duration": 345,
    "start_time": "2021-09-17T10:37:41.540Z"
   },
   {
    "duration": 20,
    "start_time": "2021-09-17T10:38:05.834Z"
   },
   {
    "duration": 1473,
    "start_time": "2021-09-17T10:39:12.279Z"
   },
   {
    "duration": 1359,
    "start_time": "2021-09-17T10:40:16.083Z"
   },
   {
    "duration": 10,
    "start_time": "2021-09-17T10:40:21.228Z"
   },
   {
    "duration": 5,
    "start_time": "2021-09-17T10:40:42.311Z"
   },
   {
    "duration": 2240,
    "start_time": "2021-09-17T10:51:14.225Z"
   },
   {
    "duration": 299,
    "start_time": "2021-09-17T10:51:24.598Z"
   },
   {
    "duration": 1577,
    "start_time": "2021-09-17T10:51:33.371Z"
   },
   {
    "duration": 4,
    "start_time": "2021-09-17T10:55:06.732Z"
   },
   {
    "duration": 246,
    "start_time": "2021-09-17T10:55:31.487Z"
   },
   {
    "duration": 4,
    "start_time": "2021-09-17T10:55:36.610Z"
   },
   {
    "duration": 3,
    "start_time": "2021-09-17T10:55:54.961Z"
   },
   {
    "duration": 256,
    "start_time": "2021-09-17T10:59:36.151Z"
   },
   {
    "duration": 22,
    "start_time": "2021-09-17T10:59:42.248Z"
   },
   {
    "duration": 3,
    "start_time": "2021-09-17T10:59:53.996Z"
   },
   {
    "duration": 2038,
    "start_time": "2021-09-17T11:00:06.247Z"
   },
   {
    "duration": 1870,
    "start_time": "2021-09-17T11:00:55.635Z"
   },
   {
    "duration": 276,
    "start_time": "2021-09-17T11:01:18.807Z"
   },
   {
    "duration": 1283,
    "start_time": "2021-09-17T11:01:28.968Z"
   },
   {
    "duration": 1964,
    "start_time": "2021-09-17T11:01:48.602Z"
   },
   {
    "duration": 2397,
    "start_time": "2021-09-17T11:02:01.592Z"
   },
   {
    "duration": 1853,
    "start_time": "2021-09-17T11:02:13.162Z"
   },
   {
    "duration": 6666,
    "start_time": "2021-09-17T11:02:24.022Z"
   },
   {
    "duration": 270,
    "start_time": "2021-09-17T11:02:47.183Z"
   },
   {
    "duration": 5,
    "start_time": "2021-09-17T11:02:50.337Z"
   },
   {
    "duration": 5,
    "start_time": "2021-09-17T11:02:53.404Z"
   },
   {
    "duration": 295,
    "start_time": "2021-09-17T11:03:12.316Z"
   },
   {
    "duration": 1296,
    "start_time": "2021-09-17T11:03:20.747Z"
   },
   {
    "duration": 1429,
    "start_time": "2021-09-17T11:04:57.784Z"
   },
   {
    "duration": 1188,
    "start_time": "2021-09-17T11:05:13.920Z"
   },
   {
    "duration": 82,
    "start_time": "2021-09-17T11:05:17.375Z"
   },
   {
    "duration": 132,
    "start_time": "2021-09-17T11:05:23.617Z"
   },
   {
    "duration": 659,
    "start_time": "2021-09-17T11:06:53.583Z"
   },
   {
    "duration": 82,
    "start_time": "2021-09-17T11:07:38.397Z"
   },
   {
    "duration": 386,
    "start_time": "2021-09-17T11:07:45.919Z"
   },
   {
    "duration": 559,
    "start_time": "2021-09-17T11:07:51.206Z"
   },
   {
    "duration": 255,
    "start_time": "2021-09-17T11:09:17.651Z"
   },
   {
    "duration": 257,
    "start_time": "2021-09-17T11:09:38.848Z"
   },
   {
    "duration": 250,
    "start_time": "2021-09-17T11:09:47.555Z"
   },
   {
    "duration": 343,
    "start_time": "2021-09-17T11:09:55.628Z"
   },
   {
    "duration": 248,
    "start_time": "2021-09-17T11:10:07.770Z"
   },
   {
    "duration": 270,
    "start_time": "2021-09-17T11:11:15.093Z"
   },
   {
    "duration": 250,
    "start_time": "2021-09-17T11:11:20.588Z"
   },
   {
    "duration": 247,
    "start_time": "2021-09-17T11:11:25.822Z"
   },
   {
    "duration": 255,
    "start_time": "2021-09-17T11:11:28.935Z"
   },
   {
    "duration": 247,
    "start_time": "2021-09-17T11:11:33.854Z"
   },
   {
    "duration": 9,
    "start_time": "2021-09-17T11:15:26.095Z"
   },
   {
    "duration": 5,
    "start_time": "2021-09-17T11:15:27.263Z"
   },
   {
    "duration": 10,
    "start_time": "2021-09-17T11:15:30.994Z"
   },
   {
    "duration": 7,
    "start_time": "2021-09-17T11:15:35.275Z"
   },
   {
    "duration": 1148,
    "start_time": "2021-09-17T11:19:03.229Z"
   },
   {
    "duration": 3,
    "start_time": "2021-09-17T11:19:04.378Z"
   },
   {
    "duration": 42,
    "start_time": "2021-09-17T11:19:04.383Z"
   },
   {
    "duration": 14,
    "start_time": "2021-09-17T11:19:04.427Z"
   },
   {
    "duration": 10,
    "start_time": "2021-09-17T11:19:04.443Z"
   },
   {
    "duration": 6,
    "start_time": "2021-09-17T11:19:04.455Z"
   },
   {
    "duration": 5,
    "start_time": "2021-09-17T11:19:04.462Z"
   },
   {
    "duration": 439,
    "start_time": "2021-09-17T11:19:04.470Z"
   },
   {
    "duration": 9,
    "start_time": "2021-09-17T11:19:04.911Z"
   },
   {
    "duration": 14,
    "start_time": "2021-09-17T11:19:04.921Z"
   },
   {
    "duration": 5,
    "start_time": "2021-09-17T11:19:04.937Z"
   },
   {
    "duration": 10,
    "start_time": "2021-09-17T11:19:04.943Z"
   },
   {
    "duration": 10,
    "start_time": "2021-09-17T11:19:04.954Z"
   },
   {
    "duration": 16,
    "start_time": "2021-09-17T11:19:04.965Z"
   },
   {
    "duration": 6,
    "start_time": "2021-09-17T11:19:04.983Z"
   },
   {
    "duration": 8,
    "start_time": "2021-09-17T11:19:04.991Z"
   },
   {
    "duration": 24,
    "start_time": "2021-09-17T11:19:05.000Z"
   },
   {
    "duration": 4,
    "start_time": "2021-09-17T11:19:05.025Z"
   },
   {
    "duration": 435,
    "start_time": "2021-09-17T11:19:05.030Z"
   },
   {
    "duration": 14,
    "start_time": "2021-09-17T11:19:05.467Z"
   },
   {
    "duration": 12,
    "start_time": "2021-09-17T11:19:05.482Z"
   },
   {
    "duration": 19,
    "start_time": "2021-09-17T11:19:05.496Z"
   },
   {
    "duration": 402,
    "start_time": "2021-09-17T11:19:05.519Z"
   },
   {
    "duration": 33,
    "start_time": "2021-09-17T11:19:05.924Z"
   },
   {
    "duration": 6,
    "start_time": "2021-09-17T11:19:05.959Z"
   },
   {
    "duration": 36,
    "start_time": "2021-09-17T11:19:05.967Z"
   },
   {
    "duration": 9,
    "start_time": "2021-09-17T11:19:06.005Z"
   },
   {
    "duration": 10,
    "start_time": "2021-09-17T11:19:06.016Z"
   },
   {
    "duration": 26,
    "start_time": "2021-09-17T11:19:06.028Z"
   },
   {
    "duration": 355,
    "start_time": "2021-09-17T11:19:06.056Z"
   },
   {
    "duration": 1323,
    "start_time": "2021-09-17T11:19:06.413Z"
   },
   {
    "duration": 12,
    "start_time": "2021-09-17T11:19:07.738Z"
   },
   {
    "duration": 6,
    "start_time": "2021-09-17T11:19:07.752Z"
   },
   {
    "duration": 11,
    "start_time": "2021-09-17T11:19:07.760Z"
   },
   {
    "duration": 1949,
    "start_time": "2021-09-17T11:19:07.773Z"
   },
   {
    "duration": 3,
    "start_time": "2021-09-17T11:19:09.724Z"
   },
   {
    "duration": 1257,
    "start_time": "2021-09-17T11:19:09.729Z"
   },
   {
    "duration": 272,
    "start_time": "2021-09-17T11:19:10.988Z"
   },
   {
    "duration": 6,
    "start_time": "2021-09-17T11:19:11.263Z"
   },
   {
    "duration": 525,
    "start_time": "2021-09-17T11:19:11.271Z"
   },
   {
    "duration": 4,
    "start_time": "2021-09-17T11:19:11.798Z"
   },
   {
    "duration": 305,
    "start_time": "2021-09-17T11:19:11.804Z"
   },
   {
    "duration": 4,
    "start_time": "2021-09-17T11:19:12.111Z"
   },
   {
    "duration": 10,
    "start_time": "2021-09-17T11:19:12.117Z"
   },
   {
    "duration": 1033,
    "start_time": "2021-09-17T11:19:12.128Z"
   },
   {
    "duration": 8,
    "start_time": "2021-09-17T11:19:13.163Z"
   },
   {
    "duration": 19,
    "start_time": "2021-09-17T11:19:13.172Z"
   },
   {
    "duration": 234,
    "start_time": "2021-09-17T11:19:13.192Z"
   },
   {
    "duration": 3,
    "start_time": "2021-09-17T11:19:13.428Z"
   },
   {
    "duration": 16,
    "start_time": "2021-09-17T11:19:13.433Z"
   },
   {
    "duration": 6,
    "start_time": "2021-09-17T11:19:13.450Z"
   },
   {
    "duration": 27,
    "start_time": "2021-09-17T11:19:13.458Z"
   },
   {
    "duration": 15,
    "start_time": "2021-09-17T11:19:13.487Z"
   },
   {
    "duration": 18,
    "start_time": "2021-09-17T11:19:13.504Z"
   },
   {
    "duration": 32,
    "start_time": "2021-09-17T11:19:13.524Z"
   },
   {
    "duration": 15,
    "start_time": "2021-09-17T11:19:13.558Z"
   },
   {
    "duration": 19,
    "start_time": "2021-09-17T11:19:13.575Z"
   },
   {
    "duration": 15,
    "start_time": "2021-09-17T11:19:13.596Z"
   },
   {
    "duration": 49,
    "start_time": "2021-09-17T11:19:13.613Z"
   },
   {
    "duration": 20,
    "start_time": "2021-09-17T11:19:13.664Z"
   },
   {
    "duration": 14,
    "start_time": "2021-09-17T11:19:13.685Z"
   },
   {
    "duration": 19,
    "start_time": "2021-09-17T11:19:13.701Z"
   },
   {
    "duration": 17,
    "start_time": "2021-09-17T11:19:13.722Z"
   },
   {
    "duration": 6,
    "start_time": "2021-09-17T11:19:13.749Z"
   },
   {
    "duration": 1149,
    "start_time": "2021-09-17T11:20:22.744Z"
   },
   {
    "duration": 3,
    "start_time": "2021-09-17T11:20:23.895Z"
   },
   {
    "duration": 54,
    "start_time": "2021-09-17T11:20:23.900Z"
   },
   {
    "duration": 18,
    "start_time": "2021-09-17T11:20:23.955Z"
   },
   {
    "duration": 25,
    "start_time": "2021-09-17T11:20:23.974Z"
   },
   {
    "duration": 11,
    "start_time": "2021-09-17T11:20:24.001Z"
   },
   {
    "duration": 15,
    "start_time": "2021-09-17T11:20:24.014Z"
   },
   {
    "duration": 491,
    "start_time": "2021-09-17T11:20:24.031Z"
   },
   {
    "duration": 5,
    "start_time": "2021-09-17T11:20:24.524Z"
   },
   {
    "duration": 38,
    "start_time": "2021-09-17T11:20:24.530Z"
   },
   {
    "duration": 17,
    "start_time": "2021-09-17T11:20:24.569Z"
   },
   {
    "duration": 16,
    "start_time": "2021-09-17T11:20:24.589Z"
   },
   {
    "duration": 23,
    "start_time": "2021-09-17T11:20:24.606Z"
   },
   {
    "duration": 33,
    "start_time": "2021-09-17T11:20:24.630Z"
   },
   {
    "duration": 19,
    "start_time": "2021-09-17T11:20:24.665Z"
   },
   {
    "duration": 15,
    "start_time": "2021-09-17T11:20:24.686Z"
   },
   {
    "duration": 16,
    "start_time": "2021-09-17T11:20:24.702Z"
   },
   {
    "duration": 22,
    "start_time": "2021-09-17T11:20:24.720Z"
   },
   {
    "duration": 440,
    "start_time": "2021-09-17T11:20:24.744Z"
   },
   {
    "duration": 14,
    "start_time": "2021-09-17T11:20:25.186Z"
   },
   {
    "duration": 5,
    "start_time": "2021-09-17T11:20:25.202Z"
   },
   {
    "duration": 20,
    "start_time": "2021-09-17T11:20:25.209Z"
   },
   {
    "duration": 402,
    "start_time": "2021-09-17T11:20:25.233Z"
   },
   {
    "duration": 30,
    "start_time": "2021-09-17T11:20:25.638Z"
   },
   {
    "duration": 8,
    "start_time": "2021-09-17T11:20:25.670Z"
   },
   {
    "duration": 34,
    "start_time": "2021-09-17T11:20:25.680Z"
   },
   {
    "duration": 40,
    "start_time": "2021-09-17T11:20:25.716Z"
   },
   {
    "duration": 5,
    "start_time": "2021-09-17T11:20:25.758Z"
   },
   {
    "duration": 13,
    "start_time": "2021-09-17T11:20:25.764Z"
   },
   {
    "duration": 336,
    "start_time": "2021-09-17T11:20:25.779Z"
   },
   {
    "duration": 1279,
    "start_time": "2021-09-17T11:20:26.117Z"
   },
   {
    "duration": 5,
    "start_time": "2021-09-17T11:20:27.398Z"
   },
   {
    "duration": 15,
    "start_time": "2021-09-17T11:20:27.404Z"
   },
   {
    "duration": 19,
    "start_time": "2021-09-17T11:20:27.421Z"
   },
   {
    "duration": 1790,
    "start_time": "2021-09-17T11:20:27.441Z"
   },
   {
    "duration": 4,
    "start_time": "2021-09-17T11:20:29.233Z"
   },
   {
    "duration": 1181,
    "start_time": "2021-09-17T11:20:29.238Z"
   },
   {
    "duration": 261,
    "start_time": "2021-09-17T11:20:30.420Z"
   },
   {
    "duration": 5,
    "start_time": "2021-09-17T11:20:30.683Z"
   },
   {
    "duration": 433,
    "start_time": "2021-09-17T11:20:30.690Z"
   },
   {
    "duration": 5,
    "start_time": "2021-09-17T11:20:31.125Z"
   },
   {
    "duration": 339,
    "start_time": "2021-09-17T11:20:31.132Z"
   },
   {
    "duration": 5,
    "start_time": "2021-09-17T11:20:31.472Z"
   },
   {
    "duration": 37,
    "start_time": "2021-09-17T11:20:31.478Z"
   },
   {
    "duration": 1193,
    "start_time": "2021-09-17T11:20:31.517Z"
   },
   {
    "duration": 7,
    "start_time": "2021-09-17T11:20:32.711Z"
   },
   {
    "duration": 15,
    "start_time": "2021-09-17T11:20:32.719Z"
   },
   {
    "duration": 205,
    "start_time": "2021-09-17T11:20:32.749Z"
   },
   {
    "duration": 3,
    "start_time": "2021-09-17T11:20:32.956Z"
   },
   {
    "duration": 7,
    "start_time": "2021-09-17T11:20:32.961Z"
   },
   {
    "duration": 7,
    "start_time": "2021-09-17T11:20:32.970Z"
   },
   {
    "duration": 17,
    "start_time": "2021-09-17T11:20:32.978Z"
   },
   {
    "duration": 13,
    "start_time": "2021-09-17T11:20:32.997Z"
   },
   {
    "duration": 41,
    "start_time": "2021-09-17T11:20:33.011Z"
   },
   {
    "duration": 14,
    "start_time": "2021-09-17T11:20:33.053Z"
   },
   {
    "duration": 13,
    "start_time": "2021-09-17T11:20:33.069Z"
   },
   {
    "duration": 15,
    "start_time": "2021-09-17T11:20:33.084Z"
   },
   {
    "duration": 14,
    "start_time": "2021-09-17T11:20:33.101Z"
   },
   {
    "duration": 44,
    "start_time": "2021-09-17T11:20:33.117Z"
   },
   {
    "duration": 17,
    "start_time": "2021-09-17T11:20:33.162Z"
   },
   {
    "duration": 10,
    "start_time": "2021-09-17T11:20:33.180Z"
   },
   {
    "duration": 7,
    "start_time": "2021-09-17T11:20:33.193Z"
   },
   {
    "duration": 14,
    "start_time": "2021-09-17T11:20:33.202Z"
   },
   {
    "duration": 32,
    "start_time": "2021-09-17T11:20:33.217Z"
   },
   {
    "duration": 11,
    "start_time": "2021-09-17T11:21:01.823Z"
   },
   {
    "duration": 7,
    "start_time": "2021-09-17T11:21:48.081Z"
   },
   {
    "duration": 20,
    "start_time": "2021-09-17T11:21:49.294Z"
   },
   {
    "duration": 4,
    "start_time": "2021-09-17T11:22:20.522Z"
   },
   {
    "duration": 112,
    "start_time": "2021-09-17T19:07:36.930Z"
   },
   {
    "duration": 172,
    "start_time": "2021-09-17T19:08:53.890Z"
   }
  ],
  "kernelspec": {
   "display_name": "Python 3",
   "language": "python",
   "name": "python3"
  },
  "language_info": {
   "codemirror_mode": {
    "name": "ipython",
    "version": 3
   },
   "file_extension": ".py",
   "mimetype": "text/x-python",
   "name": "python",
   "nbconvert_exporter": "python",
   "pygments_lexer": "ipython3",
   "version": "3.8.8"
  },
  "toc": {
   "base_numbering": 1,
   "nav_menu": {},
   "number_sections": true,
   "sideBar": true,
   "skip_h1_title": true,
   "title_cell": "Table of Contents",
   "title_sidebar": "Contents",
   "toc_cell": false,
   "toc_position": {},
   "toc_section_display": true,
   "toc_window_display": false
  }
 },
 "nbformat": 4,
 "nbformat_minor": 2
}
